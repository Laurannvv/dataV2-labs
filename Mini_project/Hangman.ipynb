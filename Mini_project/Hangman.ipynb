{
 "cells": [
  {
   "cell_type": "code",
   "execution_count": 84,
   "metadata": {},
   "outputs": [],
   "source": [
    "#Hangman mini project"
   ]
  },
  {
   "cell_type": "code",
   "execution_count": 109,
   "metadata": {
    "scrolled": true
   },
   "outputs": [],
   "source": [
    "import random\n",
    "import string\n",
    "import re\n",
    "\n",
    "words = ['calisthenics', 'surf' , 'basketball', 'hockey', 'marathon', 'brothers','batman', 'ikea', 'cooking', 'chocolate', 'rooftop', 'anapurna', 'covid', 'gamers', 'ironhack', 'yoga', 'sport', 'field', 'siblings', 'cricket', 'bull']\n"
   ]
  },
  {
   "cell_type": "code",
   "execution_count": 110,
   "metadata": {},
   "outputs": [
    {
     "name": "stdout",
     "output_type": "stream",
     "text": [
      "Enter your name: Laurann\n"
     ]
    }
   ],
   "source": [
    "user_name = input(\"Enter your name: \")"
   ]
  },
  {
   "cell_type": "code",
   "execution_count": 111,
   "metadata": {},
   "outputs": [
    {
     "name": "stdout",
     "output_type": "stream",
     "text": [
      "chocolate\n"
     ]
    }
   ],
   "source": [
    "word = random.choice(words)\n",
    "print(word)"
   ]
  },
  {
   "cell_type": "code",
   "execution_count": 162,
   "metadata": {},
   "outputs": [],
   "source": [
    "def letter_choice():\n",
    "    letters = []\n",
    "    word_letters = []\n",
    "    won = False\n",
    "    tries = 6\n",
    "    print('Lets start!', drawing_hangman(tries))\n",
    "    while not won and tries > 0:\n",
    "        letter = input('Choose a letter: ').lower()\n",
    "        if len(letter) == 1 and letter.isalpha():\n",
    "            if letter in letters:\n",
    "                print('You have already tried this letter.')\n",
    "            elif letter not in word:\n",
    "                letters.append(letter)\n",
    "                tries -= 1\n",
    "                print('Try again ', user_name,' !')\n",
    "                print(drawing_hangman(tries))\n",
    "            else:\n",
    "                print('Good job ', user_name,', you found a letter.')\n",
    "                letters.append(letter)\n",
    "                word_letters.append(letter)\n",
    "        if len(word_letters) == len(set(re.findall('[a-z]', word))) and letter.isalpha():\n",
    "            won = True\n",
    "        if len(letter) > 1 or not letter.isalpha():\n",
    "                print('Invalid choice, please chose a single alphabetical character.')\n",
    "    if won:\n",
    "        print('You are the best ', user_name,'! You won.')\n",
    "    else: \n",
    "        print('Game Over', user_name,'. Try again.')\n",
    "                \n",
    " "
   ]
  },
  {
   "cell_type": "code",
   "execution_count": null,
   "metadata": {},
   "outputs": [
    {
     "name": "stdout",
     "output_type": "stream",
     "text": [
      "Lets start! \n",
      "                   --------\n",
      "                   |      |\n",
      "                   |      \n",
      "                   |\n",
      "                   |\n",
      "                   |\n",
      "                   -\n",
      "                   \n"
     ]
    }
   ],
   "source": [
    "letter_choice()\n"
   ]
  },
  {
   "cell_type": "code",
   "execution_count": null,
   "metadata": {},
   "outputs": [],
   "source": []
  },
  {
   "cell_type": "code",
   "execution_count": null,
   "metadata": {},
   "outputs": [],
   "source": [
    "def drawing_hangman(tries):\n",
    "    steps = [\n",
    "                   \"\"\"\n",
    "                   --------\n",
    "                   |      |\n",
    "                   |      O\n",
    "                   |     \\|/\n",
    "                   |      |\n",
    "                   |     / \\\n",
    "                   -\n",
    "                   \"\"\",\n",
    "                   \"\"\"\n",
    "                   --------\n",
    "                   |      |\n",
    "                   |      O\n",
    "                   |     \\|/\n",
    "                   |      |\n",
    "                   |     / \n",
    "                   -\n",
    "                   \"\"\",\n",
    "                   \"\"\"\n",
    "                   --------\n",
    "                   |      |\n",
    "                   |      O\n",
    "                   |     \\|/\n",
    "                   |      |\n",
    "                   |\n",
    "                   -\n",
    "                   \"\"\",\n",
    "                   \"\"\"\n",
    "                   --------\n",
    "                   |      |\n",
    "                   |      O\n",
    "                   |      |\n",
    "                   |      |\n",
    "                   |\n",
    "                   -\n",
    "                   \"\"\",\n",
    "                   \"\"\"\n",
    "                   --------\n",
    "                   |      |\n",
    "                   |      O\n",
    "                   |\n",
    "                   |\n",
    "                   |\n",
    "                   -\n",
    "                   \"\"\",\n",
    "                   \"\"\"\n",
    "                   --------\n",
    "                   |      |\n",
    "                   |      \n",
    "                   |\n",
    "                   |\n",
    "                   |\n",
    "                   -\n",
    "                   \"\"\"\n",
    "    ]\n",
    "    return steps[tries]\n"
   ]
  },
  {
   "cell_type": "code",
   "execution_count": null,
   "metadata": {},
   "outputs": [],
   "source": []
  }
 ],
 "metadata": {
  "kernelspec": {
   "display_name": "Python 3",
   "language": "python",
   "name": "python3"
  },
  "language_info": {
   "codemirror_mode": {
    "name": "ipython",
    "version": 3
   },
   "file_extension": ".py",
   "mimetype": "text/x-python",
   "name": "python",
   "nbconvert_exporter": "python",
   "pygments_lexer": "ipython3",
   "version": "3.8.5"
  }
 },
 "nbformat": 4,
 "nbformat_minor": 4
}
