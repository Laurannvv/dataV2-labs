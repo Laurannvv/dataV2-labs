{
 "cells": [
  {
   "cell_type": "code",
   "execution_count": 4,
   "metadata": {},
   "outputs": [],
   "source": [
    "#Hangman mini project"
   ]
  },
  {
   "cell_type": "code",
   "execution_count": 2,
   "metadata": {
    "scrolled": true
   },
   "outputs": [],
   "source": [
    "import random\n",
    "import string\n",
    "import re\n",
    "\n",
    "words = ['board', 'surf' , 'painting', 'hockey', 'pictures', 'brothers', 'batman', 'canvas', 'brush', 'rooftop', 'covid', 'gamers', 'ironhack', 'yoga', 'calisthenics', 'field' ]\n"
   ]
  },
  {
   "cell_type": "code",
   "execution_count": 6,
   "metadata": {},
   "outputs": [
    {
     "name": "stdout",
     "output_type": "stream",
     "text": [
      "Enter your name: Lau\n"
     ]
    }
   ],
   "source": [
    "nom_utilisateur = input(\"Enter your name: \")"
   ]
  },
  {
   "cell_type": "code",
   "execution_count": 7,
   "metadata": {},
   "outputs": [
    {
     "name": "stdout",
     "output_type": "stream",
     "text": [
      "hockey\n"
     ]
    }
   ],
   "source": [
    "word = random.choice(words)\n",
    "print(word)"
   ]
  },
  {
   "cell_type": "code",
   "execution_count": 8,
   "metadata": {},
   "outputs": [],
   "source": [
    "def letter_choice():\n",
    "    letter = input('Choose a letter: ').lower()\n",
    "    letters = []\n",
    "    word_letters = []\n",
    "    tries = 6\n",
    "    while word_letters != word and tries > 0:\n",
    "        if len(letter) == 1 and letter.isalpha():\n",
    "            if letter in letters:\n",
    "                print('You have already tried this letter.')\n",
    "            elif letter not in word:\n",
    "                print('Try again ', nom_utilisateur,' !')\n",
    "                letters.append(letter)\n",
    "                tries -= 1\n",
    "            else:\n",
    "                print('Good job ', nom_utilisateur,', you found a letter.')\n",
    "                letters.append(letter)\n",
    "                word_letters = [l for l in word if l in letters]\n",
    "        elif len(word_letters) == len(word) and letter.isalpha():\n",
    "                if letter in letters:\n",
    "                    print('You have already tried this letter.')\n",
    "                elif letters != word:\n",
    "                    print('Try again ', nom_utilisateur,'!')\n",
    "                    letters.append(letter)\n",
    "                    tries -= 1\n",
    "                else:\n",
    "                    word_letters == word\n",
    "                    print('You are the best ', nom_utilisateur,'! You won.')\n",
    "                \n",
    " "
   ]
  },
  {
   "cell_type": "code",
   "execution_count": null,
   "metadata": {},
   "outputs": [],
   "source": [
    "print(word)\n",
    "letter_choice()"
   ]
  },
  {
   "cell_type": "code",
   "execution_count": null,
   "metadata": {},
   "outputs": [],
   "source": [
    "print(letters)"
   ]
  },
  {
   "cell_type": "code",
   "execution_count": null,
   "metadata": {},
   "outputs": [],
   "source": []
  },
  {
   "cell_type": "code",
   "execution_count": null,
   "metadata": {},
   "outputs": [],
   "source": []
  },
  {
   "cell_type": "code",
   "execution_count": null,
   "metadata": {},
   "outputs": [],
   "source": []
  }
 ],
 "metadata": {
  "kernelspec": {
   "display_name": "Python 3",
   "language": "python",
   "name": "python3"
  },
  "language_info": {
   "codemirror_mode": {
    "name": "ipython",
    "version": 3
   },
   "file_extension": ".py",
   "mimetype": "text/x-python",
   "name": "python",
   "nbconvert_exporter": "python",
   "pygments_lexer": "ipython3",
   "version": "3.8.5"
  }
 },
 "nbformat": 4,
 "nbformat_minor": 4
}
