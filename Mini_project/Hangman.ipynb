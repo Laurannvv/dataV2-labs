{
 "cells": [
  {
   "cell_type": "code",
   "execution_count": 1,
   "metadata": {},
   "outputs": [],
   "source": [
    "#Hangman mini project"
   ]
  },
  {
   "cell_type": "code",
   "execution_count": 2,
   "metadata": {
    "scrolled": true
   },
   "outputs": [],
   "source": [
    "import random\n",
    "import string\n",
    "import re\n",
    "\n",
    "words = ['board', 'surf' , 'painting', 'hockey', 'pictures', 'brothers', 'batman', 'canvas', 'brush', 'rooftop', 'covid', 'gamers', 'ironhack', 'yoga', 'calisthenics', 'field' ]\n"
   ]
  },
  {
   "cell_type": "code",
   "execution_count": 3,
   "metadata": {},
   "outputs": [
    {
     "name": "stdout",
     "output_type": "stream",
     "text": [
      "covid\n"
     ]
    }
   ],
   "source": [
    "print(random.choice(words))"
   ]
  },
  {
   "cell_type": "code",
   "execution_count": 4,
   "metadata": {},
   "outputs": [
    {
     "name": "stdout",
     "output_type": "stream",
     "text": [
      "Enter your name: Lau\n"
     ]
    }
   ],
   "source": [
    "nom_utilisateur = input(\"Enter your name: \")"
   ]
  },
  {
   "cell_type": "code",
   "execution_count": 7,
   "metadata": {},
   "outputs": [
    {
     "name": "stdout",
     "output_type": "stream",
     "text": [
      "Choose a letter: a\n"
     ]
    },
    {
     "data": {
      "text/plain": [
       "'a'"
      ]
     },
     "execution_count": 7,
     "metadata": {},
     "output_type": "execute_result"
    }
   ],
   "source": [
    "def letter_choice():\n",
    "    letter = input('Choose a letter: ')\n",
    "    letter = letter.lower()\n",
    "    if len(letter)>1 or not letter.isalpha():\n",
    "        print('This is not a valid letter.')\n",
    "        return letter_choice\n",
    "    else:\n",
    "        return letter\n",
    "letter_choice()"
   ]
  },
  {
   "cell_type": "code",
   "execution_count": null,
   "metadata": {},
   "outputs": [],
   "source": [
    "guess = input(\"guess a letter or word: \").upper()\n",
    "        if len(guess) == 1 and guess.isalpha():\n",
    "            if guess in guessed_letters:\n",
    "                print(\"you already tried\", guess, \"!\")\n",
    "            elif guess not in word:\n",
    "                print(guess, \"isn't in the word :(\")\n",
    "                tries -= 1\n",
    "                guessed_letters.append(guess)"
   ]
  },
  {
   "cell_type": "code",
   "execution_count": null,
   "metadata": {},
   "outputs": [],
   "source": []
  },
  {
   "cell_type": "code",
   "execution_count": null,
   "metadata": {},
   "outputs": [],
   "source": []
  }
 ],
 "metadata": {
  "kernelspec": {
   "display_name": "Python 3",
   "language": "python",
   "name": "python3"
  }
 },
 "nbformat": 4,
 "nbformat_minor": 4
}
