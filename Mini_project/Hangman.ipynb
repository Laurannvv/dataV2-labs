{
 "cells": [
  {
   "cell_type": "code",
   "execution_count": 59,
   "metadata": {},
   "outputs": [],
   "source": [
    "#Hangman mini project"
   ]
  },
  {
   "cell_type": "code",
   "execution_count": 76,
   "metadata": {
    "scrolled": true
   },
   "outputs": [],
   "source": [
    "import random\n",
    "import string\n",
    "import re\n",
    "\n",
    "words = ['board', 'surf' , 'paint', 'hockey', 'pictures', 'ikea', 'housing', 'oil', 'brush', 'guitare', 'covid', 'gamers', 'ironhack', 'yoga', 'sport', 'field' ]\n"
   ]
  },
  {
   "cell_type": "code",
   "execution_count": 77,
   "metadata": {},
   "outputs": [
    {
     "name": "stdout",
     "output_type": "stream",
     "text": [
      "Enter your name: Lau\n"
     ]
    }
   ],
   "source": [
    "user_name = input(\"Enter your name: \")"
   ]
  },
  {
   "cell_type": "code",
   "execution_count": 78,
   "metadata": {},
   "outputs": [
    {
     "name": "stdout",
     "output_type": "stream",
     "text": [
      "surf\n"
     ]
    }
   ],
   "source": [
    "word = random.choice(words)\n",
    "print(word)"
   ]
  },
  {
   "cell_type": "code",
   "execution_count": 80,
   "metadata": {},
   "outputs": [],
   "source": [
    "def letter_choice():\n",
    "    letters = []\n",
    "    word_letters = []\n",
    "    won = False\n",
    "    tries = 6\n",
    "    while not won and tries > 0:\n",
    "        letter = input('Choose a letter: ').lower()\n",
    "        if len(letter) == 1 and letter.isalpha():\n",
    "            if letter in letters:\n",
    "                print('You have already tried this letter.')\n",
    "            elif letter not in word:\n",
    "                print('Try again ', user_name,' !')\n",
    "                letters.append(letter)\n",
    "                tries -= 1\n",
    "            else:\n",
    "                print('Good job ', user_name,', you found a letter.')\n",
    "                letters.append(letter)\n",
    "                word_letters.append(letter)\n",
    "        if len(word_letters) == len(word) and letter.isalpha():\n",
    "            won = True\n",
    "    if won:\n",
    "        print('You are the best ', user_name,'! You won.')\n",
    "    else:\n",
    "        print('No more attempts, you lost', user_name,'. Try again.')\n",
    "                \n",
    " "
   ]
  },
  {
   "cell_type": "code",
   "execution_count": null,
   "metadata": {},
   "outputs": [],
   "source": [
    "letter_choice()\n"
   ]
  },
  {
   "cell_type": "code",
   "execution_count": null,
   "metadata": {},
   "outputs": [],
   "source": []
  }
 ],
 "metadata": {
  "kernelspec": {
   "display_name": "Python 3",
   "language": "python",
   "name": "python3"
  },
  "language_info": {
   "codemirror_mode": {
    "name": "ipython",
    "version": 3
   },
   "file_extension": ".py",
   "mimetype": "text/x-python",
   "name": "python",
   "nbconvert_exporter": "python",
   "pygments_lexer": "ipython3",
   "version": "3.8.5"
  }
 },
 "nbformat": 4,
 "nbformat_minor": 4
}
