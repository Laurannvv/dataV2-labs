{
 "cells": [
  {
   "cell_type": "code",
   "execution_count": null,
   "metadata": {},
   "outputs": [],
   "source": [
    "#Hangman mini project"
   ]
  },
  {
   "cell_type": "code",
   "execution_count": 1,
   "metadata": {},
   "outputs": [],
   "source": [
    "import random\n",
    "import string\n",
    "import re\n",
    "\n",
    "words = ['board', 'surf' , 'painting', 'hockey', 'pictures', 'brothers', 'batman', 'canvas', 'brush', 'rooftop', 'covid', 'gamers', 'ironhack', 'yoga', 'calisthenics', 'field' ]\n"
   ]
  },
  {
   "cell_type": "code",
   "execution_count": 2,
   "metadata": {},
   "outputs": [
    {
     "name": "stdout",
     "output_type": "stream",
     "text": [
      "calisthenics\n"
     ]
    }
   ],
   "source": [
    "word = (random.choice(words))\n",
    "print(word)"
   ]
  },
  {
   "cell_type": "code",
   "execution_count": 3,
   "metadata": {},
   "outputs": [
    {
     "name": "stdout",
     "output_type": "stream",
     "text": [
      "Enter your name: Lau\n"
     ]
    }
   ],
   "source": [
    "nom_utilisateur = input(\"Enter your name: \")"
   ]
  },
  {
   "cell_type": "code",
   "execution_count": 5,
   "metadata": {},
   "outputs": [
    {
     "ename": "SyntaxError",
     "evalue": "invalid syntax (<ipython-input-5-8e3281abc97c>, line 6)",
     "output_type": "error",
     "traceback": [
      "\u001b[0;36m  File \u001b[0;32m\"<ipython-input-5-8e3281abc97c>\"\u001b[0;36m, line \u001b[0;32m6\u001b[0m\n\u001b[0;31m    if letter in letters_list:\u001b[0m\n\u001b[0m                             ^\u001b[0m\n\u001b[0;31mSyntaxError\u001b[0m\u001b[0;31m:\u001b[0m invalid syntax\n"
     ]
    }
   ],
   "source": [
    "def letter_choice():\n",
    "    letters_list = []\n",
    "    letters = input('Choose a letter :')\n",
    "    if len(letter)>1 or not letter.isalpha():\n",
    "        print('This is not a valid letter.'\n",
    "    if letter in letters_list:\n",
    "        print('You have already tried the letter: ', letter)\n",
    "              if letter in word:\n",
    "              print('Good job ', nom_utilisateur,', you found a letter.')\n",
    "              return letters_list.append(letter)\n",
    "              if letter not in word:\n",
    "              letters_list.append(letter)\n",
    "              return letters_list.append(letter)"
   ]
  },
  {
   "cell_type": "code",
   "execution_count": null,
   "metadata": {},
   "outputs": [],
   "source": []
  }
 ],
 "metadata": {
  "kernelspec": {
   "display_name": "Python 3",
   "language": "python",
   "name": "python3"
  },
  "language_info": {
   "codemirror_mode": {
    "name": "ipython",
    "version": 3
   },
   "file_extension": ".py",
   "mimetype": "text/x-python",
   "name": "python",
   "nbconvert_exporter": "python",
   "pygments_lexer": "ipython3",
   "version": "3.8.5"
  }
 },
 "nbformat": 4,
 "nbformat_minor": 4
}
