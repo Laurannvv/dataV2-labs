{
 "cells": [
  {
   "cell_type": "markdown",
   "metadata": {},
   "source": [
    "# Before you start:\n",
    "- Read the README.md file\n",
    "- Comment as much as you can and use the resources (README.md file)\n",
    "- Happy learning!"
   ]
  },
  {
   "cell_type": "code",
   "execution_count": 39,
   "metadata": {},
   "outputs": [],
   "source": [
    "# import numpy and pandas\n",
    "\n",
    "import pandas as pd\n",
    "\n",
    "import numpy as np\n",
    "\n",
    "from scipy.stats import ttest_1samp"
   ]
  },
  {
   "cell_type": "markdown",
   "metadata": {},
   "source": [
    "# Challenge 1 - Exploring the Data\n",
    "\n",
    "In this challenge, we will examine all salaries of employees of the City of Chicago. We will start by loading the dataset and examining its contents. Please, load the data using Ironhack's database (db: employees, table: employees_advanced)."
   ]
  },
  {
   "cell_type": "code",
   "execution_count": 8,
   "metadata": {},
   "outputs": [
    {
     "data": {
      "text/html": [
       "<div>\n",
       "<style scoped>\n",
       "    .dataframe tbody tr th:only-of-type {\n",
       "        vertical-align: middle;\n",
       "    }\n",
       "\n",
       "    .dataframe tbody tr th {\n",
       "        vertical-align: top;\n",
       "    }\n",
       "\n",
       "    .dataframe thead th {\n",
       "        text-align: right;\n",
       "    }\n",
       "</style>\n",
       "<table border=\"1\" class=\"dataframe\">\n",
       "  <thead>\n",
       "    <tr style=\"text-align: right;\">\n",
       "      <th></th>\n",
       "      <th>Name</th>\n",
       "      <th>Job Titles</th>\n",
       "      <th>Department</th>\n",
       "      <th>Full or Part-Time</th>\n",
       "      <th>Salary or Hourly</th>\n",
       "      <th>Typical Hours</th>\n",
       "      <th>Annual Salary</th>\n",
       "      <th>Hourly Rate</th>\n",
       "    </tr>\n",
       "  </thead>\n",
       "  <tbody>\n",
       "    <tr>\n",
       "      <th>0</th>\n",
       "      <td>ADRIANO,  RACQUEL ANNE</td>\n",
       "      <td>PARAMEDIC</td>\n",
       "      <td>FIRE</td>\n",
       "      <td>F</td>\n",
       "      <td>Salary</td>\n",
       "      <td>NaN</td>\n",
       "      <td>72510.0</td>\n",
       "      <td>NaN</td>\n",
       "    </tr>\n",
       "    <tr>\n",
       "      <th>1</th>\n",
       "      <td>AFFANEH,  MAHIR A</td>\n",
       "      <td>POLICE OFFICER</td>\n",
       "      <td>POLICE</td>\n",
       "      <td>F</td>\n",
       "      <td>Salary</td>\n",
       "      <td>NaN</td>\n",
       "      <td>93354.0</td>\n",
       "      <td>NaN</td>\n",
       "    </tr>\n",
       "    <tr>\n",
       "      <th>2</th>\n",
       "      <td>AFOENYI,  PHYLLIS</td>\n",
       "      <td>TITLE V PROGRAM TRAINEE I</td>\n",
       "      <td>FAMILY &amp; SUPPORT</td>\n",
       "      <td>P</td>\n",
       "      <td>Hourly</td>\n",
       "      <td>20.0</td>\n",
       "      <td>NaN</td>\n",
       "      <td>13.0</td>\n",
       "    </tr>\n",
       "    <tr>\n",
       "      <th>3</th>\n",
       "      <td>AGAR,  BULENT B</td>\n",
       "      <td>DEPUTY COMMISSIONER</td>\n",
       "      <td>WATER MGMNT</td>\n",
       "      <td>F</td>\n",
       "      <td>Salary</td>\n",
       "      <td>NaN</td>\n",
       "      <td>132972.0</td>\n",
       "      <td>NaN</td>\n",
       "    </tr>\n",
       "    <tr>\n",
       "      <th>4</th>\n",
       "      <td>AGEE,  LAWRENCE</td>\n",
       "      <td>POLICE OFFICER</td>\n",
       "      <td>POLICE</td>\n",
       "      <td>F</td>\n",
       "      <td>Salary</td>\n",
       "      <td>NaN</td>\n",
       "      <td>90024.0</td>\n",
       "      <td>NaN</td>\n",
       "    </tr>\n",
       "    <tr>\n",
       "      <th>...</th>\n",
       "      <td>...</td>\n",
       "      <td>...</td>\n",
       "      <td>...</td>\n",
       "      <td>...</td>\n",
       "      <td>...</td>\n",
       "      <td>...</td>\n",
       "      <td>...</td>\n",
       "      <td>...</td>\n",
       "    </tr>\n",
       "    <tr>\n",
       "      <th>33697</th>\n",
       "      <td>ZYLINSKA,  KLAUDIA</td>\n",
       "      <td>POLICE OFFICER</td>\n",
       "      <td>POLICE</td>\n",
       "      <td>F</td>\n",
       "      <td>Salary</td>\n",
       "      <td>NaN</td>\n",
       "      <td>72510.0</td>\n",
       "      <td>NaN</td>\n",
       "    </tr>\n",
       "    <tr>\n",
       "      <th>33698</th>\n",
       "      <td>ZYMANTAS,  LAURA C</td>\n",
       "      <td>POLICE OFFICER</td>\n",
       "      <td>POLICE</td>\n",
       "      <td>F</td>\n",
       "      <td>Salary</td>\n",
       "      <td>NaN</td>\n",
       "      <td>76266.0</td>\n",
       "      <td>NaN</td>\n",
       "    </tr>\n",
       "    <tr>\n",
       "      <th>33699</th>\n",
       "      <td>ZYMANTAS,  MARK E</td>\n",
       "      <td>POLICE OFFICER</td>\n",
       "      <td>POLICE</td>\n",
       "      <td>F</td>\n",
       "      <td>Salary</td>\n",
       "      <td>NaN</td>\n",
       "      <td>90024.0</td>\n",
       "      <td>NaN</td>\n",
       "    </tr>\n",
       "    <tr>\n",
       "      <th>33700</th>\n",
       "      <td>ZYRKOWSKI,  CARLO E</td>\n",
       "      <td>POLICE OFFICER</td>\n",
       "      <td>POLICE</td>\n",
       "      <td>F</td>\n",
       "      <td>Salary</td>\n",
       "      <td>NaN</td>\n",
       "      <td>93354.0</td>\n",
       "      <td>NaN</td>\n",
       "    </tr>\n",
       "    <tr>\n",
       "      <th>33701</th>\n",
       "      <td>ZYSKOWSKI,  DARIUSZ</td>\n",
       "      <td>CHIEF DATA BASE ANALYST</td>\n",
       "      <td>DAIS</td>\n",
       "      <td>F</td>\n",
       "      <td>Salary</td>\n",
       "      <td>NaN</td>\n",
       "      <td>126732.0</td>\n",
       "      <td>NaN</td>\n",
       "    </tr>\n",
       "  </tbody>\n",
       "</table>\n",
       "<p>33702 rows × 8 columns</p>\n",
       "</div>"
      ],
      "text/plain": [
       "                         Name                 Job Titles        Department  \\\n",
       "0      ADRIANO,  RACQUEL ANNE                  PARAMEDIC              FIRE   \n",
       "1           AFFANEH,  MAHIR A             POLICE OFFICER            POLICE   \n",
       "2           AFOENYI,  PHYLLIS  TITLE V PROGRAM TRAINEE I  FAMILY & SUPPORT   \n",
       "3             AGAR,  BULENT B        DEPUTY COMMISSIONER       WATER MGMNT   \n",
       "4             AGEE,  LAWRENCE             POLICE OFFICER            POLICE   \n",
       "...                       ...                        ...               ...   \n",
       "33697      ZYLINSKA,  KLAUDIA             POLICE OFFICER            POLICE   \n",
       "33698      ZYMANTAS,  LAURA C             POLICE OFFICER            POLICE   \n",
       "33699       ZYMANTAS,  MARK E             POLICE OFFICER            POLICE   \n",
       "33700     ZYRKOWSKI,  CARLO E             POLICE OFFICER            POLICE   \n",
       "33701     ZYSKOWSKI,  DARIUSZ    CHIEF DATA BASE ANALYST              DAIS   \n",
       "\n",
       "      Full or Part-Time Salary or Hourly  Typical Hours  Annual Salary  \\\n",
       "0                     F           Salary            NaN        72510.0   \n",
       "1                     F           Salary            NaN        93354.0   \n",
       "2                     P           Hourly           20.0            NaN   \n",
       "3                     F           Salary            NaN       132972.0   \n",
       "4                     F           Salary            NaN        90024.0   \n",
       "...                 ...              ...            ...            ...   \n",
       "33697                 F           Salary            NaN        72510.0   \n",
       "33698                 F           Salary            NaN        76266.0   \n",
       "33699                 F           Salary            NaN        90024.0   \n",
       "33700                 F           Salary            NaN        93354.0   \n",
       "33701                 F           Salary            NaN       126732.0   \n",
       "\n",
       "       Hourly Rate  \n",
       "0              NaN  \n",
       "1              NaN  \n",
       "2             13.0  \n",
       "3              NaN  \n",
       "4              NaN  \n",
       "...            ...  \n",
       "33697          NaN  \n",
       "33698          NaN  \n",
       "33699          NaN  \n",
       "33700          NaN  \n",
       "33701          NaN  \n",
       "\n",
       "[33702 rows x 8 columns]"
      ]
     },
     "execution_count": 8,
     "metadata": {},
     "output_type": "execute_result"
    }
   ],
   "source": [
    "# Your code here:\n",
    "employees = pd.read_csv('Employees_advanced.csv')\n",
    "employees"
   ]
  },
  {
   "cell_type": "markdown",
   "metadata": {},
   "source": [
    "Examine the `salaries` dataset using the `head` function below."
   ]
  },
  {
   "cell_type": "code",
   "execution_count": 12,
   "metadata": {},
   "outputs": [
    {
     "data": {
      "text/html": [
       "<div>\n",
       "<style scoped>\n",
       "    .dataframe tbody tr th:only-of-type {\n",
       "        vertical-align: middle;\n",
       "    }\n",
       "\n",
       "    .dataframe tbody tr th {\n",
       "        vertical-align: top;\n",
       "    }\n",
       "\n",
       "    .dataframe thead th {\n",
       "        text-align: right;\n",
       "    }\n",
       "</style>\n",
       "<table border=\"1\" class=\"dataframe\">\n",
       "  <thead>\n",
       "    <tr style=\"text-align: right;\">\n",
       "      <th></th>\n",
       "      <th>Annual Salary</th>\n",
       "    </tr>\n",
       "  </thead>\n",
       "  <tbody>\n",
       "    <tr>\n",
       "      <th>0</th>\n",
       "      <td>72510.0</td>\n",
       "    </tr>\n",
       "    <tr>\n",
       "      <th>1</th>\n",
       "      <td>93354.0</td>\n",
       "    </tr>\n",
       "    <tr>\n",
       "      <th>2</th>\n",
       "      <td>NaN</td>\n",
       "    </tr>\n",
       "    <tr>\n",
       "      <th>3</th>\n",
       "      <td>132972.0</td>\n",
       "    </tr>\n",
       "    <tr>\n",
       "      <th>4</th>\n",
       "      <td>90024.0</td>\n",
       "    </tr>\n",
       "    <tr>\n",
       "      <th>5</th>\n",
       "      <td>NaN</td>\n",
       "    </tr>\n",
       "    <tr>\n",
       "      <th>6</th>\n",
       "      <td>111444.0</td>\n",
       "    </tr>\n",
       "    <tr>\n",
       "      <th>7</th>\n",
       "      <td>103932.0</td>\n",
       "    </tr>\n",
       "    <tr>\n",
       "      <th>8</th>\n",
       "      <td>107106.0</td>\n",
       "    </tr>\n",
       "    <tr>\n",
       "      <th>9</th>\n",
       "      <td>95736.0</td>\n",
       "    </tr>\n",
       "  </tbody>\n",
       "</table>\n",
       "</div>"
      ],
      "text/plain": [
       "   Annual Salary\n",
       "0        72510.0\n",
       "1        93354.0\n",
       "2            NaN\n",
       "3       132972.0\n",
       "4        90024.0\n",
       "5            NaN\n",
       "6       111444.0\n",
       "7       103932.0\n",
       "8       107106.0\n",
       "9        95736.0"
      ]
     },
     "execution_count": 12,
     "metadata": {},
     "output_type": "execute_result"
    }
   ],
   "source": [
    "# Your code here:\n",
    "\n",
    "employees[['Annual Salary']].head(10)"
   ]
  },
  {
   "cell_type": "markdown",
   "metadata": {},
   "source": [
    "We see from looking at the `head` function that there is quite a bit of missing data. Let's examine how much missing data is in each column. Produce this output in the cell below"
   ]
  },
  {
   "cell_type": "code",
   "execution_count": 22,
   "metadata": {},
   "outputs": [
    {
     "data": {
      "text/plain": [
       "Annual Salary    8174\n",
       "dtype: int64"
      ]
     },
     "execution_count": 22,
     "metadata": {},
     "output_type": "execute_result"
    }
   ],
   "source": [
    "# Your code here:\n",
    "\n",
    "employees[['Annual Salary']].isnull().sum(axis =0) "
   ]
  },
  {
   "cell_type": "markdown",
   "metadata": {},
   "source": [
    "Let's also look at the count of hourly vs. salaried employees. Write the code in the cell below"
   ]
  },
  {
   "cell_type": "code",
   "execution_count": 29,
   "metadata": {},
   "outputs": [
    {
     "name": "stdout",
     "output_type": "stream",
     "text": [
      "Salaried: 25528\n",
      "Hourly: 8174\n"
     ]
    }
   ],
   "source": [
    "# Your code here:\n",
    "\n",
    "print('Salaried:',employees['Salary or Hourly'].loc[employees['Salary or Hourly']== 'Salary'].count())\n",
    "\n",
    "print('Hourly:',employees['Salary or Hourly'].loc[employees['Salary or Hourly']== 'Hourly'].count())\n"
   ]
  },
  {
   "cell_type": "code",
   "execution_count": 121,
   "metadata": {},
   "outputs": [],
   "source": [
    "employees['Hourly'] = employees['Salary or Hourly'].loc[employees['Salary or Hourly']== 'Hourly']"
   ]
  },
  {
   "cell_type": "code",
   "execution_count": 122,
   "metadata": {},
   "outputs": [
    {
     "data": {
      "text/html": [
       "<div>\n",
       "<style scoped>\n",
       "    .dataframe tbody tr th:only-of-type {\n",
       "        vertical-align: middle;\n",
       "    }\n",
       "\n",
       "    .dataframe tbody tr th {\n",
       "        vertical-align: top;\n",
       "    }\n",
       "\n",
       "    .dataframe thead th {\n",
       "        text-align: right;\n",
       "    }\n",
       "</style>\n",
       "<table border=\"1\" class=\"dataframe\">\n",
       "  <thead>\n",
       "    <tr style=\"text-align: right;\">\n",
       "      <th></th>\n",
       "      <th>Name</th>\n",
       "      <th>Job Titles</th>\n",
       "      <th>Department</th>\n",
       "      <th>Full or Part-Time</th>\n",
       "      <th>Salary or Hourly</th>\n",
       "      <th>Typical Hours</th>\n",
       "      <th>Annual Salary</th>\n",
       "      <th>Hourly Rate</th>\n",
       "      <th>Hourly</th>\n",
       "    </tr>\n",
       "  </thead>\n",
       "  <tbody>\n",
       "    <tr>\n",
       "      <th>0</th>\n",
       "      <td>ADRIANO,  RACQUEL ANNE</td>\n",
       "      <td>PARAMEDIC</td>\n",
       "      <td>FIRE</td>\n",
       "      <td>F</td>\n",
       "      <td>Salary</td>\n",
       "      <td>NaN</td>\n",
       "      <td>72510.0</td>\n",
       "      <td>NaN</td>\n",
       "      <td>NaN</td>\n",
       "    </tr>\n",
       "    <tr>\n",
       "      <th>1</th>\n",
       "      <td>AFFANEH,  MAHIR A</td>\n",
       "      <td>POLICE OFFICER</td>\n",
       "      <td>POLICE</td>\n",
       "      <td>F</td>\n",
       "      <td>Salary</td>\n",
       "      <td>NaN</td>\n",
       "      <td>93354.0</td>\n",
       "      <td>NaN</td>\n",
       "      <td>NaN</td>\n",
       "    </tr>\n",
       "    <tr>\n",
       "      <th>2</th>\n",
       "      <td>AFOENYI,  PHYLLIS</td>\n",
       "      <td>TITLE V PROGRAM TRAINEE I</td>\n",
       "      <td>FAMILY &amp; SUPPORT</td>\n",
       "      <td>P</td>\n",
       "      <td>Hourly</td>\n",
       "      <td>20.0</td>\n",
       "      <td>NaN</td>\n",
       "      <td>13.0</td>\n",
       "      <td>Hourly</td>\n",
       "    </tr>\n",
       "    <tr>\n",
       "      <th>3</th>\n",
       "      <td>AGAR,  BULENT B</td>\n",
       "      <td>DEPUTY COMMISSIONER</td>\n",
       "      <td>WATER MGMNT</td>\n",
       "      <td>F</td>\n",
       "      <td>Salary</td>\n",
       "      <td>NaN</td>\n",
       "      <td>132972.0</td>\n",
       "      <td>NaN</td>\n",
       "      <td>NaN</td>\n",
       "    </tr>\n",
       "    <tr>\n",
       "      <th>4</th>\n",
       "      <td>AGEE,  LAWRENCE</td>\n",
       "      <td>POLICE OFFICER</td>\n",
       "      <td>POLICE</td>\n",
       "      <td>F</td>\n",
       "      <td>Salary</td>\n",
       "      <td>NaN</td>\n",
       "      <td>90024.0</td>\n",
       "      <td>NaN</td>\n",
       "      <td>NaN</td>\n",
       "    </tr>\n",
       "    <tr>\n",
       "      <th>...</th>\n",
       "      <td>...</td>\n",
       "      <td>...</td>\n",
       "      <td>...</td>\n",
       "      <td>...</td>\n",
       "      <td>...</td>\n",
       "      <td>...</td>\n",
       "      <td>...</td>\n",
       "      <td>...</td>\n",
       "      <td>...</td>\n",
       "    </tr>\n",
       "    <tr>\n",
       "      <th>33697</th>\n",
       "      <td>ZYLINSKA,  KLAUDIA</td>\n",
       "      <td>POLICE OFFICER</td>\n",
       "      <td>POLICE</td>\n",
       "      <td>F</td>\n",
       "      <td>Salary</td>\n",
       "      <td>NaN</td>\n",
       "      <td>72510.0</td>\n",
       "      <td>NaN</td>\n",
       "      <td>NaN</td>\n",
       "    </tr>\n",
       "    <tr>\n",
       "      <th>33698</th>\n",
       "      <td>ZYMANTAS,  LAURA C</td>\n",
       "      <td>POLICE OFFICER</td>\n",
       "      <td>POLICE</td>\n",
       "      <td>F</td>\n",
       "      <td>Salary</td>\n",
       "      <td>NaN</td>\n",
       "      <td>76266.0</td>\n",
       "      <td>NaN</td>\n",
       "      <td>NaN</td>\n",
       "    </tr>\n",
       "    <tr>\n",
       "      <th>33699</th>\n",
       "      <td>ZYMANTAS,  MARK E</td>\n",
       "      <td>POLICE OFFICER</td>\n",
       "      <td>POLICE</td>\n",
       "      <td>F</td>\n",
       "      <td>Salary</td>\n",
       "      <td>NaN</td>\n",
       "      <td>90024.0</td>\n",
       "      <td>NaN</td>\n",
       "      <td>NaN</td>\n",
       "    </tr>\n",
       "    <tr>\n",
       "      <th>33700</th>\n",
       "      <td>ZYRKOWSKI,  CARLO E</td>\n",
       "      <td>POLICE OFFICER</td>\n",
       "      <td>POLICE</td>\n",
       "      <td>F</td>\n",
       "      <td>Salary</td>\n",
       "      <td>NaN</td>\n",
       "      <td>93354.0</td>\n",
       "      <td>NaN</td>\n",
       "      <td>NaN</td>\n",
       "    </tr>\n",
       "    <tr>\n",
       "      <th>33701</th>\n",
       "      <td>ZYSKOWSKI,  DARIUSZ</td>\n",
       "      <td>CHIEF DATA BASE ANALYST</td>\n",
       "      <td>DAIS</td>\n",
       "      <td>F</td>\n",
       "      <td>Salary</td>\n",
       "      <td>NaN</td>\n",
       "      <td>126732.0</td>\n",
       "      <td>NaN</td>\n",
       "      <td>NaN</td>\n",
       "    </tr>\n",
       "  </tbody>\n",
       "</table>\n",
       "<p>33702 rows × 9 columns</p>\n",
       "</div>"
      ],
      "text/plain": [
       "                         Name                 Job Titles        Department  \\\n",
       "0      ADRIANO,  RACQUEL ANNE                  PARAMEDIC              FIRE   \n",
       "1           AFFANEH,  MAHIR A             POLICE OFFICER            POLICE   \n",
       "2           AFOENYI,  PHYLLIS  TITLE V PROGRAM TRAINEE I  FAMILY & SUPPORT   \n",
       "3             AGAR,  BULENT B        DEPUTY COMMISSIONER       WATER MGMNT   \n",
       "4             AGEE,  LAWRENCE             POLICE OFFICER            POLICE   \n",
       "...                       ...                        ...               ...   \n",
       "33697      ZYLINSKA,  KLAUDIA             POLICE OFFICER            POLICE   \n",
       "33698      ZYMANTAS,  LAURA C             POLICE OFFICER            POLICE   \n",
       "33699       ZYMANTAS,  MARK E             POLICE OFFICER            POLICE   \n",
       "33700     ZYRKOWSKI,  CARLO E             POLICE OFFICER            POLICE   \n",
       "33701     ZYSKOWSKI,  DARIUSZ    CHIEF DATA BASE ANALYST              DAIS   \n",
       "\n",
       "      Full or Part-Time Salary or Hourly  Typical Hours  Annual Salary  \\\n",
       "0                     F           Salary            NaN        72510.0   \n",
       "1                     F           Salary            NaN        93354.0   \n",
       "2                     P           Hourly           20.0            NaN   \n",
       "3                     F           Salary            NaN       132972.0   \n",
       "4                     F           Salary            NaN        90024.0   \n",
       "...                 ...              ...            ...            ...   \n",
       "33697                 F           Salary            NaN        72510.0   \n",
       "33698                 F           Salary            NaN        76266.0   \n",
       "33699                 F           Salary            NaN        90024.0   \n",
       "33700                 F           Salary            NaN        93354.0   \n",
       "33701                 F           Salary            NaN       126732.0   \n",
       "\n",
       "       Hourly Rate  Hourly  \n",
       "0              NaN     NaN  \n",
       "1              NaN     NaN  \n",
       "2             13.0  Hourly  \n",
       "3              NaN     NaN  \n",
       "4              NaN     NaN  \n",
       "...            ...     ...  \n",
       "33697          NaN     NaN  \n",
       "33698          NaN     NaN  \n",
       "33699          NaN     NaN  \n",
       "33700          NaN     NaN  \n",
       "33701          NaN     NaN  \n",
       "\n",
       "[33702 rows x 9 columns]"
      ]
     },
     "execution_count": 122,
     "metadata": {},
     "output_type": "execute_result"
    }
   ],
   "source": [
    "employees"
   ]
  },
  {
   "cell_type": "markdown",
   "metadata": {},
   "source": [
    "What this information indicates is that the table contains information about two types of employees - salaried and hourly. Some columns apply only to one type of employee while other columns only apply to another kind. This is why there are so many missing values. Therefore, we will not do anything to handle the missing values."
   ]
  },
  {
   "cell_type": "markdown",
   "metadata": {},
   "source": [
    "There are different departments in the city. List all departments and the count of employees in each department."
   ]
  },
  {
   "cell_type": "code",
   "execution_count": 34,
   "metadata": {},
   "outputs": [
    {
     "data": {
      "text/plain": [
       "array(['FIRE', 'POLICE', 'FAMILY & SUPPORT', 'WATER MGMNT', 'AVIATION',\n",
       "       'TRANSPORTN', 'STREETS & SAN', 'FINANCE', 'LAW', 'CITY COUNCIL',\n",
       "       'DAIS', 'OEMC', 'COPA', 'HEALTH', 'BUSINESS AFFAIRS',\n",
       "       'HUMAN RESOURCES', 'PUBLIC LIBRARY', 'CULTURAL AFFAIRS', 'HOUSING',\n",
       "       'PROCUREMENT', 'BUILDINGS', 'ANIMAL CONTRL', 'CITY CLERK',\n",
       "       'HOUSING & ECON DEV', 'BOARD OF ELECTION', 'PUBLIC SAFETY ADMIN',\n",
       "       'DISABILITIES', 'INSPECTOR GEN', 'HUMAN RELATIONS',\n",
       "       \"MAYOR'S OFFICE\", 'TREASURER', 'BUDGET & MGMT', 'BOARD OF ETHICS',\n",
       "       'POLICE BOARD', 'ADMIN HEARNG', 'LICENSE APPL COMM'], dtype=object)"
      ]
     },
     "execution_count": 34,
     "metadata": {},
     "output_type": "execute_result"
    }
   ],
   "source": [
    "# Your code here:\n",
    "\n",
    "employees['Department'].unique()"
   ]
  },
  {
   "cell_type": "code",
   "execution_count": 38,
   "metadata": {},
   "outputs": [
    {
     "data": {
      "text/plain": [
       "Department\n",
       "ADMIN HEARNG              38\n",
       "ANIMAL CONTRL             75\n",
       "AVIATION                1856\n",
       "BOARD OF ELECTION        111\n",
       "BOARD OF ETHICS            8\n",
       "BUDGET & MGMT             44\n",
       "BUILDINGS                258\n",
       "BUSINESS AFFAIRS         167\n",
       "CITY CLERK                88\n",
       "CITY COUNCIL             362\n",
       "COPA                     123\n",
       "CULTURAL AFFAIRS          74\n",
       "DAIS                    1033\n",
       "DISABILITIES              28\n",
       "FAMILY & SUPPORT         656\n",
       "FINANCE                  544\n",
       "FIRE                    4627\n",
       "HEALTH                   467\n",
       "HOUSING                   66\n",
       "HOUSING & ECON DEV       154\n",
       "HUMAN RELATIONS           17\n",
       "HUMAN RESOURCES           75\n",
       "INSPECTOR GEN             95\n",
       "LAW                      398\n",
       "LICENSE APPL COMM          1\n",
       "MAYOR'S OFFICE           104\n",
       "OEMC                    1737\n",
       "POLICE                 13848\n",
       "POLICE BOARD               2\n",
       "PROCUREMENT               84\n",
       "PUBLIC LIBRARY          1088\n",
       "PUBLIC SAFETY ADMIN      244\n",
       "STREETS & SAN           2175\n",
       "TRANSPORTN              1113\n",
       "TREASURER                 28\n",
       "WATER MGMNT             1914\n",
       "Name: Name, dtype: int64"
      ]
     },
     "execution_count": 38,
     "metadata": {},
     "output_type": "execute_result"
    }
   ],
   "source": [
    "employees['Name'].groupby(employees['Department']).count()"
   ]
  },
  {
   "cell_type": "markdown",
   "metadata": {},
   "source": [
    "# Challenge 2 - Hypothesis Tests\n",
    "\n",
    "In this section of the lab, we will test whether the hourly wage of all hourly workers is significantly different from $30/hr. Import the correct one sample test function from scipy and perform the hypothesis test for a 95% two sided confidence interval."
   ]
  },
  {
   "cell_type": "code",
   "execution_count": 69,
   "metadata": {},
   "outputs": [],
   "source": [
    "hourly = employees[['Salary or Hourly','Hourly Rate']].loc[employees['Salary or Hourly']== 'Hourly']\n",
    "hourly_rate = hourly['Hourly Rate']"
   ]
  },
  {
   "cell_type": "code",
   "execution_count": 79,
   "metadata": {},
   "outputs": [
    {
     "data": {
      "text/plain": [
       "2        13.00\n",
       "5        37.45\n",
       "15       40.78\n",
       "16       38.52\n",
       "21       34.98\n",
       "         ...  \n",
       "33676    25.95\n",
       "33678    43.72\n",
       "33681    51.43\n",
       "33684    49.35\n",
       "33688    37.45\n",
       "Name: Hourly Rate, Length: 8174, dtype: float64"
      ]
     },
     "execution_count": 79,
     "metadata": {},
     "output_type": "execute_result"
    }
   ],
   "source": [
    "hourly_rate"
   ]
  },
  {
   "cell_type": "code",
   "execution_count": 80,
   "metadata": {},
   "outputs": [],
   "source": [
    "# Your code here:\n",
    "# Hourly wage of hourly workers is different from $30/hr\n",
    "# test (with default 95% confidence)\n",
    "# Hypothesis: mean hourly wage for the population == $30/hr  \n",
    "\n",
    "stat, pval = ttest_1samp(hourly_rate, 30)\n"
   ]
  },
  {
   "cell_type": "code",
   "execution_count": 81,
   "metadata": {},
   "outputs": [
    {
     "data": {
      "text/plain": [
       "3.825475847673794e-202"
      ]
     },
     "execution_count": 81,
     "metadata": {},
     "output_type": "execute_result"
    }
   ],
   "source": [
    "pval"
   ]
  },
  {
   "cell_type": "code",
   "execution_count": 82,
   "metadata": {},
   "outputs": [
    {
     "data": {
      "text/plain": [
       "31.211500329216044"
      ]
     },
     "execution_count": 82,
     "metadata": {},
     "output_type": "execute_result"
    }
   ],
   "source": [
    "stat"
   ]
  },
  {
   "cell_type": "code",
   "execution_count": null,
   "metadata": {},
   "outputs": [],
   "source": [
    "\"This is smaller than 0.05 and therefore we reject the null hypothesis.\" "
   ]
  },
  {
   "cell_type": "markdown",
   "metadata": {},
   "source": [
    "We are also curious about salaries in the police force. The chief of police in Chicago claimed in a press briefing that salaries this year are higher than last year's mean of $86000/year a year for all salaried employees. Test this one sided hypothesis using a 95% confidence interval.\n",
    "\n",
    "Hint: A one tailed test has a p-value that is half of the two tailed p-value. If our hypothesis is greater than, then to reject, the test statistic must also be positive."
   ]
  },
  {
   "cell_type": "code",
   "execution_count": 92,
   "metadata": {},
   "outputs": [
    {
     "data": {
      "text/plain": [
       "1         93354.0\n",
       "4         90024.0\n",
       "6        111444.0\n",
       "7        103932.0\n",
       "9         95736.0\n",
       "           ...   \n",
       "33696     80016.0\n",
       "33697     72510.0\n",
       "33698     76266.0\n",
       "33699     90024.0\n",
       "33700     93354.0\n",
       "Name: Annual Salary, Length: 13824, dtype: float64"
      ]
     },
     "execution_count": 92,
     "metadata": {},
     "output_type": "execute_result"
    }
   ],
   "source": [
    "police = employees.loc[(employees['Salary or Hourly']== 'Salary')&(employees['Department']== 'POLICE')]\n",
    "police_salary = police['Annual Salary']\n",
    "police_salary"
   ]
  },
  {
   "cell_type": "code",
   "execution_count": 110,
   "metadata": {},
   "outputs": [],
   "source": [
    "# Your code here:\n",
    "#Hypothesis: salaried in police force > $86000 year avg\n",
    "#null hypothesis: salaried in police force = $86000 year avg\n",
    "#p-val = 0,05\n",
    "stat, pval = ttest_1samp(police_salary, 86000)"
   ]
  },
  {
   "cell_type": "code",
   "execution_count": 111,
   "metadata": {},
   "outputs": [
    {
     "data": {
      "text/plain": [
       "6.119566952121482e-76"
      ]
     },
     "execution_count": 111,
     "metadata": {},
     "output_type": "execute_result"
    }
   ],
   "source": [
    "pval/2"
   ]
  },
  {
   "cell_type": "code",
   "execution_count": 112,
   "metadata": {},
   "outputs": [
    {
     "data": {
      "text/plain": [
       "18.51748561981861"
      ]
     },
     "execution_count": 112,
     "metadata": {},
     "output_type": "execute_result"
    }
   ],
   "source": [
    "stat"
   ]
  },
  {
   "cell_type": "code",
   "execution_count": null,
   "metadata": {},
   "outputs": [],
   "source": [
    "\"This is smaller than 0.05 and therefore we reject the null hypothesis.\" "
   ]
  },
  {
   "cell_type": "markdown",
   "metadata": {},
   "source": [
    "Using the `crosstab` function, find the department that has the most hourly workers. "
   ]
  },
  {
   "cell_type": "code",
   "execution_count": 138,
   "metadata": {},
   "outputs": [
    {
     "name": "stdout",
     "output_type": "stream",
     "text": [
      "Hourly\n",
      "Hourly    1846\n",
      "dtype: int64\n"
     ]
    },
    {
     "data": {
      "text/html": [
       "<div>\n",
       "<style scoped>\n",
       "    .dataframe tbody tr th:only-of-type {\n",
       "        vertical-align: middle;\n",
       "    }\n",
       "\n",
       "    .dataframe tbody tr th {\n",
       "        vertical-align: top;\n",
       "    }\n",
       "\n",
       "    .dataframe thead th {\n",
       "        text-align: right;\n",
       "    }\n",
       "</style>\n",
       "<table border=\"1\" class=\"dataframe\">\n",
       "  <thead>\n",
       "    <tr style=\"text-align: right;\">\n",
       "      <th>Department</th>\n",
       "      <th>ANIMAL CONTRL</th>\n",
       "      <th>AVIATION</th>\n",
       "      <th>BUDGET &amp; MGMT</th>\n",
       "      <th>BUSINESS AFFAIRS</th>\n",
       "      <th>CITY COUNCIL</th>\n",
       "      <th>CULTURAL AFFAIRS</th>\n",
       "      <th>DAIS</th>\n",
       "      <th>DISABILITIES</th>\n",
       "      <th>FAMILY &amp; SUPPORT</th>\n",
       "      <th>FINANCE</th>\n",
       "      <th>...</th>\n",
       "      <th>LAW</th>\n",
       "      <th>MAYOR'S OFFICE</th>\n",
       "      <th>OEMC</th>\n",
       "      <th>POLICE</th>\n",
       "      <th>PROCUREMENT</th>\n",
       "      <th>PUBLIC LIBRARY</th>\n",
       "      <th>PUBLIC SAFETY ADMIN</th>\n",
       "      <th>STREETS &amp; SAN</th>\n",
       "      <th>TRANSPORTN</th>\n",
       "      <th>WATER MGMNT</th>\n",
       "    </tr>\n",
       "    <tr>\n",
       "      <th>Hourly</th>\n",
       "      <th></th>\n",
       "      <th></th>\n",
       "      <th></th>\n",
       "      <th></th>\n",
       "      <th></th>\n",
       "      <th></th>\n",
       "      <th></th>\n",
       "      <th></th>\n",
       "      <th></th>\n",
       "      <th></th>\n",
       "      <th></th>\n",
       "      <th></th>\n",
       "      <th></th>\n",
       "      <th></th>\n",
       "      <th></th>\n",
       "      <th></th>\n",
       "      <th></th>\n",
       "      <th></th>\n",
       "      <th></th>\n",
       "      <th></th>\n",
       "      <th></th>\n",
       "    </tr>\n",
       "  </thead>\n",
       "  <tbody>\n",
       "    <tr>\n",
       "      <th>Hourly</th>\n",
       "      <td>12</td>\n",
       "      <td>1214</td>\n",
       "      <td>2</td>\n",
       "      <td>7</td>\n",
       "      <td>74</td>\n",
       "      <td>10</td>\n",
       "      <td>745</td>\n",
       "      <td>1</td>\n",
       "      <td>357</td>\n",
       "      <td>45</td>\n",
       "      <td>...</td>\n",
       "      <td>48</td>\n",
       "      <td>17</td>\n",
       "      <td>1077</td>\n",
       "      <td>24</td>\n",
       "      <td>2</td>\n",
       "      <td>356</td>\n",
       "      <td>48</td>\n",
       "      <td>1846</td>\n",
       "      <td>726</td>\n",
       "      <td>1558</td>\n",
       "    </tr>\n",
       "  </tbody>\n",
       "</table>\n",
       "<p>1 rows × 22 columns</p>\n",
       "</div>"
      ],
      "text/plain": [
       "Department  ANIMAL CONTRL  AVIATION  BUDGET & MGMT  BUSINESS AFFAIRS  \\\n",
       "Hourly                                                                 \n",
       "Hourly                 12      1214              2                 7   \n",
       "\n",
       "Department  CITY COUNCIL  CULTURAL AFFAIRS  DAIS  DISABILITIES  \\\n",
       "Hourly                                                           \n",
       "Hourly                74                10   745             1   \n",
       "\n",
       "Department  FAMILY & SUPPORT  FINANCE  ...  LAW  MAYOR'S OFFICE  OEMC  POLICE  \\\n",
       "Hourly                                 ...                                      \n",
       "Hourly                   357       45  ...   48              17  1077      24   \n",
       "\n",
       "Department  PROCUREMENT  PUBLIC LIBRARY  PUBLIC SAFETY ADMIN  STREETS & SAN  \\\n",
       "Hourly                                                                        \n",
       "Hourly                2             356                   48           1846   \n",
       "\n",
       "Department  TRANSPORTN  WATER MGMNT  \n",
       "Hourly                               \n",
       "Hourly             726         1558  \n",
       "\n",
       "[1 rows x 22 columns]"
      ]
     },
     "execution_count": 138,
     "metadata": {},
     "output_type": "execute_result"
    }
   ],
   "source": [
    "# Your code here:\n",
    "\n",
    "dep = pd.crosstab(employees.Hourly,employees.Department)\n",
    "print(dep.max(axis =1))\n",
    "dep"
   ]
  },
  {
   "cell_type": "code",
   "execution_count": null,
   "metadata": {},
   "outputs": [],
   "source": [
    "employees.loc"
   ]
  },
  {
   "cell_type": "markdown",
   "metadata": {},
   "source": [
    "The workers from the department with the most hourly workers have complained that their hourly wage is less than $35/hour. Using a one sample t-test, test this one-sided hypothesis at the 95% confidence level."
   ]
  },
  {
   "cell_type": "code",
   "execution_count": 126,
   "metadata": {},
   "outputs": [],
   "source": [
    "# Your code here:\n",
    "#Null Hypothesis: hourly wage is != $35/hour.\n",
    "#Hypothesis: hourly wage is less than $35/hour.\n",
    "# p-val: 0.05"
   ]
  },
  {
   "cell_type": "code",
   "execution_count": 147,
   "metadata": {},
   "outputs": [
    {
     "data": {
      "text/plain": [
       "15       40.78\n",
       "16       38.52\n",
       "26       38.52\n",
       "49       29.96\n",
       "65       37.45\n",
       "         ...  \n",
       "33623    38.01\n",
       "33624    37.45\n",
       "33667    37.45\n",
       "33668    38.52\n",
       "33676    25.95\n",
       "Name: Hourly Rate, Length: 1846, dtype: float64"
      ]
     },
     "execution_count": 147,
     "metadata": {},
     "output_type": "execute_result"
    }
   ],
   "source": [
    "street = employees.loc[(employees['Salary or Hourly']== 'Hourly')&(employees['Department']== 'STREETS & SAN')]\n",
    "\n",
    "hourly_street = street['Hourly Rate']\n",
    "\n",
    "hourly_street\n"
   ]
  },
  {
   "cell_type": "code",
   "execution_count": 148,
   "metadata": {},
   "outputs": [],
   "source": [
    "stat, pval = ttest_1samp(hourly_street, 35)"
   ]
  },
  {
   "cell_type": "code",
   "execution_count": 149,
   "metadata": {},
   "outputs": [
    {
     "data": {
      "text/plain": [
       "4.000138803968834"
      ]
     },
     "execution_count": 149,
     "metadata": {},
     "output_type": "execute_result"
    }
   ],
   "source": [
    "stat"
   ]
  },
  {
   "cell_type": "code",
   "execution_count": 150,
   "metadata": {},
   "outputs": [
    {
     "data": {
      "text/plain": [
       "6.580474443773579e-05"
      ]
     },
     "execution_count": 150,
     "metadata": {},
     "output_type": "execute_result"
    }
   ],
   "source": [
    "pval"
   ]
  },
  {
   "cell_type": "markdown",
   "metadata": {},
   "source": [
    "# Challenge 3: To practice - Constructing Confidence Intervals\n",
    "\n",
    "While testing our hypothesis is a great way to gather empirical evidence for accepting or rejecting the hypothesis, another way to gather evidence is by creating a confidence interval. A confidence interval gives us information about the true mean of the population. So for a 95% confidence interval, we are 95% sure that the mean of the population is within the confidence interval. \n",
    ").\n",
    "\n",
    "To read more about confidence intervals, click [here](https://en.wikipedia.org/wiki/Confidence_interval).\n",
    "\n",
    "\n",
    "In the cell below, we will construct a 95% confidence interval for the mean hourly wage of all hourly workers. \n",
    "\n",
    "The confidence interval is computed in SciPy using the `t.interval` function. You can read more about this function [here](https://docs.scipy.org/doc/scipy-0.14.0/reference/generated/scipy.stats.t.html).\n",
    "\n",
    "To compute the confidence interval of the hourly wage, use the 0.95 for the confidence level, number of rows - 1 for degrees of freedom, the mean of the sample for the location parameter and the standard error for the scale. The standard error can be computed using [this](https://docs.scipy.org/doc/scipy/reference/generated/scipy.stats.sem.html) function in SciPy."
   ]
  },
  {
   "cell_type": "code",
   "execution_count": 239,
   "metadata": {},
   "outputs": [],
   "source": [
    "hourly = employees[['Salary or Hourly','Hourly Rate']].loc[employees['Salary or Hourly']== 'Hourly']\n",
    "hourly_rate = hourly['Hourly Rate']"
   ]
  },
  {
   "cell_type": "code",
   "execution_count": 240,
   "metadata": {},
   "outputs": [],
   "source": [
    "from scipy.stats import t"
   ]
  },
  {
   "cell_type": "code",
   "execution_count": 242,
   "metadata": {},
   "outputs": [
    {
     "data": {
      "text/plain": [
       "8173"
      ]
     },
     "execution_count": 242,
     "metadata": {},
     "output_type": "execute_result"
    }
   ],
   "source": [
    "len(hourly_rate)-1"
   ]
  },
  {
   "cell_type": "code",
   "execution_count": 245,
   "metadata": {},
   "outputs": [
    {
     "data": {
      "text/plain": [
       "(34.29839539204317, 34.874504045196865)"
      ]
     },
     "execution_count": 245,
     "metadata": {},
     "output_type": "execute_result"
    }
   ],
   "source": [
    "t.interval(0.95, len(hourly_rate)-1 , loc = mean ,scale = stats.sem(hourly_rate))"
   ]
  },
  {
   "cell_type": "markdown",
   "metadata": {},
   "source": [
    "Now construct the 95% confidence interval for all salaried employeed in the police in the cell below."
   ]
  },
  {
   "cell_type": "code",
   "execution_count": 246,
   "metadata": {},
   "outputs": [
    {
     "data": {
      "text/plain": [
       "(-265.41418530418315, 334.5870847414232)"
      ]
     },
     "execution_count": 246,
     "metadata": {},
     "output_type": "execute_result"
    }
   ],
   "source": [
    "t.interval(0.95, len(police_salary)-1 , loc = mean ,scale = stats.sem(police_salary))"
   ]
  },
  {
   "cell_type": "markdown",
   "metadata": {},
   "source": [
    "# Bonus Challenge - Hypothesis Tests of Proportions\n",
    "\n",
    "Another type of one sample test is a hypothesis test of proportions. In this test, we examine whether the proportion of a group in our sample is significantly different than a fraction. \n",
    "\n",
    "You can read more about one sample proportion tests [here](http://sphweb.bumc.bu.edu/otlt/MPH-Modules/BS/SAS/SAS6-CategoricalData/SAS6-CategoricalData2.html).\n",
    "\n",
    "In the cell below, use the `proportions_ztest` function from `statsmodels` to perform a hypothesis test that will determine whether the number of hourly workers in the City of Chicago is significantly different from 25% at the 95% confidence level."
   ]
  },
  {
   "cell_type": "code",
   "execution_count": 13,
   "metadata": {},
   "outputs": [],
   "source": [
    "# Your code here:\n",
    "\n"
   ]
  }
 ],
 "metadata": {
  "kernelspec": {
   "display_name": "Python 3",
   "language": "python",
   "name": "python3"
  },
  "language_info": {
   "codemirror_mode": {
    "name": "ipython",
    "version": 3
   },
   "file_extension": ".py",
   "mimetype": "text/x-python",
   "name": "python",
   "nbconvert_exporter": "python",
   "pygments_lexer": "ipython3",
   "version": "3.8.5"
  }
 },
 "nbformat": 4,
 "nbformat_minor": 2
}
