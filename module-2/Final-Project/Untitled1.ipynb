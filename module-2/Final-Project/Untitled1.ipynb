{
 "cells": [
  {
   "cell_type": "code",
   "execution_count": null,
   "metadata": {},
   "outputs": [],
   "source": [
    "#world happiness report from 2015-2017\n",
    "hr\n",
    "\n",
    "#human freedom report from 2015-2017\n",
    "hfi_select_s = hfi_select[['Country','Year', 'pf_movement_domestic','pf_movement_foreign']]\n",
    "\n",
    "\n",
    "hr"
   ]
  }
 ],
 "metadata": {
  "kernelspec": {
   "display_name": "Python 3",
   "language": "python",
   "name": "python3"
  },
  "language_info": {
   "codemirror_mode": {
    "name": "ipython",
    "version": 3
   },
   "file_extension": ".py",
   "mimetype": "text/x-python",
   "name": "python",
   "nbconvert_exporter": "python",
   "pygments_lexer": "ipython3",
   "version": "3.8.5"
  }
 },
 "nbformat": 4,
 "nbformat_minor": 4
}
