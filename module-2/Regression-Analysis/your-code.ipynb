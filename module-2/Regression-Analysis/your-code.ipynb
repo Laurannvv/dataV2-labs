{
 "cells": [
  {
   "cell_type": "markdown",
   "metadata": {},
   "source": [
    "# Lab: Regression Analysis"
   ]
  },
  {
   "cell_type": "markdown",
   "metadata": {},
   "source": [
    "### Before you start:\n",
    "\n",
    "* Read the README.md file\n",
    "* Comment as much as you can and use the resources (README.md file) \n",
    "\n",
    "Happy learning!"
   ]
  },
  {
   "cell_type": "markdown",
   "metadata": {},
   "source": [
    "## Challenge 1\n",
    "I work at a coding bootcamp, and I have developed a theory that the younger my students are, the more often they are late to class. In order to test my hypothesis, I have collected some data in the following table:\n",
    "\n",
    "| StudentID | Age | Tardies |\n",
    "|--------|-----|------------|\n",
    "| 1      | 17  | 10         |\n",
    "| 2      | 51  | 1          |\n",
    "| 3      | 27  | 5          |\n",
    "| 4      | 21  | 9         |\n",
    "| 5      | 36  |  4         |\n",
    "| 6      | 48  |  2         |\n",
    "| 7      | 19  |  9         |\n",
    "| 8      | 26  | 6          |\n",
    "| 9      | 54  |  0         |\n",
    "| 10     | 30  |  3         |"
   ]
  },
  {
   "cell_type": "markdown",
   "metadata": {},
   "source": [
    "Use this command to create a dataframe with the data provided in the table. \n",
    "~~~~\n",
    "student_data = pd.DataFrame({'X': [x_values], 'Y': [y_values]})\n",
    "~~~~"
   ]
  },
  {
   "cell_type": "code",
   "execution_count": 23,
   "metadata": {},
   "outputs": [],
   "source": [
    "import pandas as pd\n",
    "import seaborn as sns"
   ]
  },
  {
   "cell_type": "code",
   "execution_count": 3,
   "metadata": {},
   "outputs": [
    {
     "data": {
      "text/html": [
       "<div>\n",
       "<style scoped>\n",
       "    .dataframe tbody tr th:only-of-type {\n",
       "        vertical-align: middle;\n",
       "    }\n",
       "\n",
       "    .dataframe tbody tr th {\n",
       "        vertical-align: top;\n",
       "    }\n",
       "\n",
       "    .dataframe thead th {\n",
       "        text-align: right;\n",
       "    }\n",
       "</style>\n",
       "<table border=\"1\" class=\"dataframe\">\n",
       "  <thead>\n",
       "    <tr style=\"text-align: right;\">\n",
       "      <th></th>\n",
       "      <th>Age</th>\n",
       "      <th>Tardies</th>\n",
       "    </tr>\n",
       "  </thead>\n",
       "  <tbody>\n",
       "    <tr>\n",
       "      <th>0</th>\n",
       "      <td>17</td>\n",
       "      <td>10</td>\n",
       "    </tr>\n",
       "    <tr>\n",
       "      <th>1</th>\n",
       "      <td>51</td>\n",
       "      <td>1</td>\n",
       "    </tr>\n",
       "    <tr>\n",
       "      <th>2</th>\n",
       "      <td>27</td>\n",
       "      <td>5</td>\n",
       "    </tr>\n",
       "    <tr>\n",
       "      <th>3</th>\n",
       "      <td>21</td>\n",
       "      <td>9</td>\n",
       "    </tr>\n",
       "    <tr>\n",
       "      <th>4</th>\n",
       "      <td>36</td>\n",
       "      <td>4</td>\n",
       "    </tr>\n",
       "    <tr>\n",
       "      <th>5</th>\n",
       "      <td>48</td>\n",
       "      <td>2</td>\n",
       "    </tr>\n",
       "    <tr>\n",
       "      <th>6</th>\n",
       "      <td>19</td>\n",
       "      <td>9</td>\n",
       "    </tr>\n",
       "    <tr>\n",
       "      <th>7</th>\n",
       "      <td>26</td>\n",
       "      <td>6</td>\n",
       "    </tr>\n",
       "    <tr>\n",
       "      <th>8</th>\n",
       "      <td>54</td>\n",
       "      <td>0</td>\n",
       "    </tr>\n",
       "    <tr>\n",
       "      <th>9</th>\n",
       "      <td>20</td>\n",
       "      <td>3</td>\n",
       "    </tr>\n",
       "  </tbody>\n",
       "</table>\n",
       "</div>"
      ],
      "text/plain": [
       "   Age  Tardies\n",
       "0   17       10\n",
       "1   51        1\n",
       "2   27        5\n",
       "3   21        9\n",
       "4   36        4\n",
       "5   48        2\n",
       "6   19        9\n",
       "7   26        6\n",
       "8   54        0\n",
       "9   20        3"
      ]
     },
     "execution_count": 3,
     "metadata": {},
     "output_type": "execute_result"
    }
   ],
   "source": [
    "# Your code here. \n",
    "student_data = pd.DataFrame({'Age': [17, 51, 27, 21, 36, 48, 19, 26, 54,20], 'Tardies': [10, 1, 5, 9, 4, 2, 9, 6, 0 , 3]})\n",
    "\n",
    "student_data"
   ]
  },
  {
   "cell_type": "markdown",
   "metadata": {},
   "source": [
    "Draw a dispersion diagram (scatter plot) for the data."
   ]
  },
  {
   "cell_type": "code",
   "execution_count": 4,
   "metadata": {},
   "outputs": [
    {
     "data": {
      "text/plain": [
       "<matplotlib.collections.PathCollection at 0x1177639a0>"
      ]
     },
     "execution_count": 4,
     "metadata": {},
     "output_type": "execute_result"
    },
    {
     "data": {
      "image/png": "[encoded data removed]",
      "text/plain": [
       "<Figure size 432x288 with 1 Axes>"
      ]
     },
     "metadata": {
      "needs_background": "light"
     },
     "output_type": "display_data"
    }
   ],
   "source": [
    "# Your code here.\n",
    "\n",
    "import matplotlib.pyplot as plt\n",
    "plt.figure(figsize=(6,4))\n",
    "plt.scatter(student_data['Age'], student_data['Tardies'])\n"
   ]
  },
  {
   "cell_type": "markdown",
   "metadata": {},
   "source": [
    "Do you see a trend? Can you make any hypotheses about the relationship between age and number of tardies?"
   ]
  },
  {
   "cell_type": "code",
   "execution_count": 5,
   "metadata": {},
   "outputs": [
    {
     "data": {
      "text/plain": [
       "'\\nThere seems to be a negative correlation between the data. This would mean that the older people are, \\nthe less they are late. Or, the younger people are, the more they are late.\\n\\n'"
      ]
     },
     "execution_count": 5,
     "metadata": {},
     "output_type": "execute_result"
    }
   ],
   "source": [
    "# Your response here. \n",
    "\"\"\"\n",
    "There seems to be a negative correlation between the data. This would mean that the older people are, \n",
    "the less they are late. Or, the younger people are, the more they are late.\n",
    "\n",
    "\"\"\""
   ]
  },
  {
   "cell_type": "markdown",
   "metadata": {},
   "source": [
    "Calculate the covariance and correlation of the variables in your plot. What is the difference between these two measures? Compare their values. What do they tell you in this case? Add your responses as comments after your code."
   ]
  },
  {
   "cell_type": "code",
   "execution_count": 6,
   "metadata": {},
   "outputs": [
    {
     "data": {
      "text/html": [
       "<div>\n",
       "<style scoped>\n",
       "    .dataframe tbody tr th:only-of-type {\n",
       "        vertical-align: middle;\n",
       "    }\n",
       "\n",
       "    .dataframe tbody tr th {\n",
       "        vertical-align: top;\n",
       "    }\n",
       "\n",
       "    .dataframe thead th {\n",
       "        text-align: right;\n",
       "    }\n",
       "</style>\n",
       "<table border=\"1\" class=\"dataframe\">\n",
       "  <thead>\n",
       "    <tr style=\"text-align: right;\">\n",
       "      <th></th>\n",
       "      <th>Age</th>\n",
       "      <th>Tardies</th>\n",
       "    </tr>\n",
       "  </thead>\n",
       "  <tbody>\n",
       "    <tr>\n",
       "      <th>Age</th>\n",
       "      <td>204.100000</td>\n",
       "      <td>-43.455556</td>\n",
       "    </tr>\n",
       "    <tr>\n",
       "      <th>Tardies</th>\n",
       "      <td>-43.455556</td>\n",
       "      <td>12.544444</td>\n",
       "    </tr>\n",
       "  </tbody>\n",
       "</table>\n",
       "</div>"
      ],
      "text/plain": [
       "                Age    Tardies\n",
       "Age      204.100000 -43.455556\n",
       "Tardies  -43.455556  12.544444"
      ]
     },
     "execution_count": 6,
     "metadata": {},
     "output_type": "execute_result"
    }
   ],
   "source": [
    "# Your response here.\n",
    "student_data.cov()"
   ]
  },
  {
   "cell_type": "code",
   "execution_count": 7,
   "metadata": {},
   "outputs": [
    {
     "data": {
      "text/html": [
       "<div>\n",
       "<style scoped>\n",
       "    .dataframe tbody tr th:only-of-type {\n",
       "        vertical-align: middle;\n",
       "    }\n",
       "\n",
       "    .dataframe tbody tr th {\n",
       "        vertical-align: top;\n",
       "    }\n",
       "\n",
       "    .dataframe thead th {\n",
       "        text-align: right;\n",
       "    }\n",
       "</style>\n",
       "<table border=\"1\" class=\"dataframe\">\n",
       "  <thead>\n",
       "    <tr style=\"text-align: right;\">\n",
       "      <th></th>\n",
       "      <th>Age</th>\n",
       "      <th>Tardies</th>\n",
       "    </tr>\n",
       "  </thead>\n",
       "  <tbody>\n",
       "    <tr>\n",
       "      <th>Age</th>\n",
       "      <td>1.000000</td>\n",
       "      <td>-0.858812</td>\n",
       "    </tr>\n",
       "    <tr>\n",
       "      <th>Tardies</th>\n",
       "      <td>-0.858812</td>\n",
       "      <td>1.000000</td>\n",
       "    </tr>\n",
       "  </tbody>\n",
       "</table>\n",
       "</div>"
      ],
      "text/plain": [
       "              Age   Tardies\n",
       "Age      1.000000 -0.858812\n",
       "Tardies -0.858812  1.000000"
      ]
     },
     "execution_count": 7,
     "metadata": {},
     "output_type": "execute_result"
    }
   ],
   "source": [
    "student_data.corr()"
   ]
  },
  {
   "cell_type": "code",
   "execution_count": 8,
   "metadata": {},
   "outputs": [
    {
     "ename": "SyntaxError",
     "evalue": "EOF while scanning triple-quoted string literal (<ipython-input-8-5aaab587c141>, line 2)",
     "output_type": "error",
     "traceback": [
      "\u001b[0;36m  File \u001b[0;32m\"<ipython-input-8-5aaab587c141>\"\u001b[0;36m, line \u001b[0;32m2\u001b[0m\n\u001b[0;31m    The covariance and correlation are negative, which follows our first analysis.\u001b[0m\n\u001b[0m                                                                                  \n^\u001b[0m\n\u001b[0;31mSyntaxError\u001b[0m\u001b[0;31m:\u001b[0m EOF while scanning triple-quoted string literal\n"
     ]
    }
   ],
   "source": [
    "\"\"\"\n",
    "The covariance and correlation are negative, which follows our first analysis.\n"
   ]
  },
  {
   "cell_type": "code",
   "execution_count": null,
   "metadata": {},
   "outputs": [],
   "source": [
    "\"\"\"\n",
    "\n",
    "NB:\n",
    "Covariance indicates the direction of the linear relationship between variables (positive or negative). \n",
    "\n",
    "Correlation on the other hand measures both the strength and direction of the \n",
    "linear relationship between two variables.\n",
    "\n",
    "\"\"\""
   ]
  },
  {
   "cell_type": "markdown",
   "metadata": {},
   "source": [
    "Build a regression model for this data. What will be your outcome variable? What type of regression are you using? Add your responses as comments after your code."
   ]
  },
  {
   "cell_type": "code",
   "execution_count": 25,
   "metadata": {},
   "outputs": [
    {
     "data": {
      "text/plain": [
       "LinearRegression()"
      ]
     },
     "execution_count": 25,
     "metadata": {},
     "output_type": "execute_result"
    }
   ],
   "source": [
    "model = LinearRegression()\n",
    "#Define the X and Y variable and reshape \n",
    "X = student_data['Age'].values.reshape(-1,1)\n",
    "Y = student_data['Tardies'].values.reshape(-1,1)\n",
    "\n",
    "model.fit(X, Y)"
   ]
  },
  {
   "cell_type": "code",
   "execution_count": 22,
   "metadata": {},
   "outputs": [
    {
     "name": "stdout",
     "output_type": "stream",
     "text": [
      "11.691926615493497\n",
      "-0.21291306004681806\n"
     ]
    }
   ],
   "source": [
    "intercept = model.intercept_[0]\n",
    "slope = model.coef_[0][0]\n",
    "print(intercept)\n",
    "print(slope)"
   ]
  },
  {
   "cell_type": "code",
   "execution_count": 24,
   "metadata": {},
   "outputs": [
    {
     "data": {
      "text/plain": [
       "[9.562796015025317,\n",
       " 11.479013555446679,\n",
       " 10.627361315259407,\n",
       " 9.775709075072134,\n",
       " 10.840274375306224,\n",
       " 11.266100495399861,\n",
       " 9.775709075072134,\n",
       " 10.414448255212589,\n",
       " 11.691926615493497,\n",
       " 11.053187435353042]"
      ]
     },
     "execution_count": 24,
     "metadata": {},
     "output_type": "execute_result"
    }
   ],
   "source": [
    "predictions = [intercept + slope*x for x in student_data['Tardies']]\n",
    "predictions\n"
   ]
  },
  {
   "cell_type": "code",
   "execution_count": 28,
   "metadata": {},
   "outputs": [
    {
     "data": {
      "text/plain": [
       "array([[8.07240459],\n",
       "       [0.83336055],\n",
       "       [5.94327399],\n",
       "       [7.22075235],\n",
       "       [4.02705645],\n",
       "       [1.47209973],\n",
       "       [7.64657847],\n",
       "       [6.15618705],\n",
       "       [0.19462137],\n",
       "       [7.43366541]])"
      ]
     },
     "execution_count": 28,
     "metadata": {},
     "output_type": "execute_result"
    }
   ],
   "source": [
    "predictions = model.predict(X)\n",
    "predictions"
   ]
  },
  {
   "cell_type": "code",
   "execution_count": 29,
   "metadata": {},
   "outputs": [
    {
     "data": {
      "text/html": [
       "<div>\n",
       "<style scoped>\n",
       "    .dataframe tbody tr th:only-of-type {\n",
       "        vertical-align: middle;\n",
       "    }\n",
       "\n",
       "    .dataframe tbody tr th {\n",
       "        vertical-align: top;\n",
       "    }\n",
       "\n",
       "    .dataframe thead th {\n",
       "        text-align: right;\n",
       "    }\n",
       "</style>\n",
       "<table border=\"1\" class=\"dataframe\">\n",
       "  <thead>\n",
       "    <tr style=\"text-align: right;\">\n",
       "      <th></th>\n",
       "      <th>Age</th>\n",
       "      <th>Tardies</th>\n",
       "      <th>Predictions</th>\n",
       "    </tr>\n",
       "  </thead>\n",
       "  <tbody>\n",
       "    <tr>\n",
       "      <th>0</th>\n",
       "      <td>17</td>\n",
       "      <td>10</td>\n",
       "      <td>8.072405</td>\n",
       "    </tr>\n",
       "    <tr>\n",
       "      <th>1</th>\n",
       "      <td>51</td>\n",
       "      <td>1</td>\n",
       "      <td>0.833361</td>\n",
       "    </tr>\n",
       "    <tr>\n",
       "      <th>2</th>\n",
       "      <td>27</td>\n",
       "      <td>5</td>\n",
       "      <td>5.943274</td>\n",
       "    </tr>\n",
       "    <tr>\n",
       "      <th>3</th>\n",
       "      <td>21</td>\n",
       "      <td>9</td>\n",
       "      <td>7.220752</td>\n",
       "    </tr>\n",
       "    <tr>\n",
       "      <th>4</th>\n",
       "      <td>36</td>\n",
       "      <td>4</td>\n",
       "      <td>4.027056</td>\n",
       "    </tr>\n",
       "    <tr>\n",
       "      <th>5</th>\n",
       "      <td>48</td>\n",
       "      <td>2</td>\n",
       "      <td>1.472100</td>\n",
       "    </tr>\n",
       "    <tr>\n",
       "      <th>6</th>\n",
       "      <td>19</td>\n",
       "      <td>9</td>\n",
       "      <td>7.646578</td>\n",
       "    </tr>\n",
       "    <tr>\n",
       "      <th>7</th>\n",
       "      <td>26</td>\n",
       "      <td>6</td>\n",
       "      <td>6.156187</td>\n",
       "    </tr>\n",
       "    <tr>\n",
       "      <th>8</th>\n",
       "      <td>54</td>\n",
       "      <td>0</td>\n",
       "      <td>0.194621</td>\n",
       "    </tr>\n",
       "    <tr>\n",
       "      <th>9</th>\n",
       "      <td>20</td>\n",
       "      <td>3</td>\n",
       "      <td>7.433665</td>\n",
       "    </tr>\n",
       "  </tbody>\n",
       "</table>\n",
       "</div>"
      ],
      "text/plain": [
       "   Age  Tardies  Predictions\n",
       "0   17       10     8.072405\n",
       "1   51        1     0.833361\n",
       "2   27        5     5.943274\n",
       "3   21        9     7.220752\n",
       "4   36        4     4.027056\n",
       "5   48        2     1.472100\n",
       "6   19        9     7.646578\n",
       "7   26        6     6.156187\n",
       "8   54        0     0.194621\n",
       "9   20        3     7.433665"
      ]
     },
     "execution_count": 29,
     "metadata": {},
     "output_type": "execute_result"
    }
   ],
   "source": [
    "student_data['Predictions'] = predictions\n",
    "student_data"
   ]
  },
  {
   "cell_type": "code",
   "execution_count": 32,
   "metadata": {},
   "outputs": [
    {
     "data": {
      "text/plain": [
       "0.7375579963180737"
      ]
     },
     "execution_count": 32,
     "metadata": {},
     "output_type": "execute_result"
    }
   ],
   "source": [
    "score = model.score(X,Y)\n",
    "score\n",
    "\n"
   ]
  },
  {
   "cell_type": "markdown",
   "metadata": {},
   "source": [
    "Plot your regression model on your scatter plot."
   ]
  },
  {
   "cell_type": "code",
   "execution_count": 30,
   "metadata": {
    "scrolled": true
   },
   "outputs": [
    {
     "name": "stderr",
     "output_type": "stream",
     "text": [
      "/usr/local/Cellar/jupyterlab/2.2.2/libexec/lib/python3.8/site-packages/seaborn/_decorators.py:36: FutureWarning: Pass the following variables as keyword args: x, y. From version 0.12, the only valid positional argument will be `data`, and passing other arguments without an explicit keyword will result in an error or misinterpretation.\n",
      "  warnings.warn(\n"
     ]
    },
    {
     "data": {
      "text/plain": [
       "<AxesSubplot:>"
      ]
     },
     "execution_count": 30,
     "metadata": {},
     "output_type": "execute_result"
    },
    {
     "data": {
      "image/png": "[encoded data removed]",
      "text/plain": [
       "<Figure size 432x288 with 1 Axes>"
      ]
     },
     "metadata": {
      "needs_background": "light"
     },
     "output_type": "display_data"
    }
   ],
   "source": [
    "# Your response here.\n",
    "sns.regplot(X,Y)\n",
    "\n",
    "#Variable are X and Y, Model is Linear Regression"
   ]
  },
  {
   "cell_type": "markdown",
   "metadata": {},
   "source": [
    "Interpret the results of your model. What can conclusions can you draw from your model and how confident in these conclusions are you? Can we say that age is a good predictor of tardiness? Add your responses as comments after your code."
   ]
  },
  {
   "cell_type": "code",
   "execution_count": 3,
   "metadata": {},
   "outputs": [],
   "source": [
    "# Your response here. \n",
    "\n",
    "\n",
    "'''Yes, as R2 (score) is close of 1 meaning that  the dependent variable can be predicted \n",
    "without error from the independent variable.\n",
    "\n",
    "An R2 between 0 and 1 indicates the extent to which the dependent variable is predictable. \n"
   ]
  },
  {
   "cell_type": "markdown",
   "metadata": {},
   "source": [
    "## Challenge 2\n",
    "For the second part of this lab, we will use the vehicles.csv data set. You can find a copy of the dataset in the git hub folder. This dataset includes variables related to vehicle characteristics, including the model, make, and energy efficiency standards, as well as each car's CO2 emissions. As discussed in class the goal of this exercise is to predict vehicles' CO2 emissions based on several independent variables. "
   ]
  },
  {
   "cell_type": "code",
   "execution_count": 8,
   "metadata": {},
   "outputs": [
    {
     "data": {
      "text/html": [
       "<div>\n",
       "<style scoped>\n",
       "    .dataframe tbody tr th:only-of-type {\n",
       "        vertical-align: middle;\n",
       "    }\n",
       "\n",
       "    .dataframe tbody tr th {\n",
       "        vertical-align: top;\n",
       "    }\n",
       "\n",
       "    .dataframe thead th {\n",
       "        text-align: right;\n",
       "    }\n",
       "</style>\n",
       "<table border=\"1\" class=\"dataframe\">\n",
       "  <thead>\n",
       "    <tr style=\"text-align: right;\">\n",
       "      <th></th>\n",
       "      <th>Make</th>\n",
       "      <th>Model</th>\n",
       "      <th>Year</th>\n",
       "      <th>Engine Displacement</th>\n",
       "      <th>Cylinders</th>\n",
       "      <th>Transmission</th>\n",
       "      <th>Drivetrain</th>\n",
       "      <th>Vehicle Class</th>\n",
       "      <th>Fuel Type</th>\n",
       "      <th>Fuel Barrels/Year</th>\n",
       "      <th>City MPG</th>\n",
       "      <th>Highway MPG</th>\n",
       "      <th>Combined MPG</th>\n",
       "      <th>CO2 Emission Grams/Mile</th>\n",
       "      <th>Fuel Cost/Year</th>\n",
       "    </tr>\n",
       "  </thead>\n",
       "  <tbody>\n",
       "    <tr>\n",
       "      <th>0</th>\n",
       "      <td>AM General</td>\n",
       "      <td>DJ Po Vehicle 2WD</td>\n",
       "      <td>1984</td>\n",
       "      <td>2.5</td>\n",
       "      <td>4.0</td>\n",
       "      <td>Automatic 3-spd</td>\n",
       "      <td>2-Wheel Drive</td>\n",
       "      <td>Special Purpose Vehicle 2WD</td>\n",
       "      <td>Regular</td>\n",
       "      <td>19.388824</td>\n",
       "      <td>18</td>\n",
       "      <td>17</td>\n",
       "      <td>17</td>\n",
       "      <td>522.764706</td>\n",
       "      <td>1950</td>\n",
       "    </tr>\n",
       "    <tr>\n",
       "      <th>1</th>\n",
       "      <td>AM General</td>\n",
       "      <td>FJ8c Post Office</td>\n",
       "      <td>1984</td>\n",
       "      <td>4.2</td>\n",
       "      <td>6.0</td>\n",
       "      <td>Automatic 3-spd</td>\n",
       "      <td>2-Wheel Drive</td>\n",
       "      <td>Special Purpose Vehicle 2WD</td>\n",
       "      <td>Regular</td>\n",
       "      <td>25.354615</td>\n",
       "      <td>13</td>\n",
       "      <td>13</td>\n",
       "      <td>13</td>\n",
       "      <td>683.615385</td>\n",
       "      <td>2550</td>\n",
       "    </tr>\n",
       "    <tr>\n",
       "      <th>2</th>\n",
       "      <td>AM General</td>\n",
       "      <td>Post Office DJ5 2WD</td>\n",
       "      <td>1985</td>\n",
       "      <td>2.5</td>\n",
       "      <td>4.0</td>\n",
       "      <td>Automatic 3-spd</td>\n",
       "      <td>Rear-Wheel Drive</td>\n",
       "      <td>Special Purpose Vehicle 2WD</td>\n",
       "      <td>Regular</td>\n",
       "      <td>20.600625</td>\n",
       "      <td>16</td>\n",
       "      <td>17</td>\n",
       "      <td>16</td>\n",
       "      <td>555.437500</td>\n",
       "      <td>2100</td>\n",
       "    </tr>\n",
       "    <tr>\n",
       "      <th>3</th>\n",
       "      <td>AM General</td>\n",
       "      <td>Post Office DJ8 2WD</td>\n",
       "      <td>1985</td>\n",
       "      <td>4.2</td>\n",
       "      <td>6.0</td>\n",
       "      <td>Automatic 3-spd</td>\n",
       "      <td>Rear-Wheel Drive</td>\n",
       "      <td>Special Purpose Vehicle 2WD</td>\n",
       "      <td>Regular</td>\n",
       "      <td>25.354615</td>\n",
       "      <td>13</td>\n",
       "      <td>13</td>\n",
       "      <td>13</td>\n",
       "      <td>683.615385</td>\n",
       "      <td>2550</td>\n",
       "    </tr>\n",
       "    <tr>\n",
       "      <th>4</th>\n",
       "      <td>ASC Incorporated</td>\n",
       "      <td>GNX</td>\n",
       "      <td>1987</td>\n",
       "      <td>3.8</td>\n",
       "      <td>6.0</td>\n",
       "      <td>Automatic 4-spd</td>\n",
       "      <td>Rear-Wheel Drive</td>\n",
       "      <td>Midsize Cars</td>\n",
       "      <td>Premium</td>\n",
       "      <td>20.600625</td>\n",
       "      <td>14</td>\n",
       "      <td>21</td>\n",
       "      <td>16</td>\n",
       "      <td>555.437500</td>\n",
       "      <td>2550</td>\n",
       "    </tr>\n",
       "    <tr>\n",
       "      <th>...</th>\n",
       "      <td>...</td>\n",
       "      <td>...</td>\n",
       "      <td>...</td>\n",
       "      <td>...</td>\n",
       "      <td>...</td>\n",
       "      <td>...</td>\n",
       "      <td>...</td>\n",
       "      <td>...</td>\n",
       "      <td>...</td>\n",
       "      <td>...</td>\n",
       "      <td>...</td>\n",
       "      <td>...</td>\n",
       "      <td>...</td>\n",
       "      <td>...</td>\n",
       "      <td>...</td>\n",
       "    </tr>\n",
       "    <tr>\n",
       "      <th>35947</th>\n",
       "      <td>smart</td>\n",
       "      <td>fortwo coupe</td>\n",
       "      <td>2013</td>\n",
       "      <td>1.0</td>\n",
       "      <td>3.0</td>\n",
       "      <td>Auto(AM5)</td>\n",
       "      <td>Rear-Wheel Drive</td>\n",
       "      <td>Two Seaters</td>\n",
       "      <td>Premium</td>\n",
       "      <td>9.155833</td>\n",
       "      <td>34</td>\n",
       "      <td>38</td>\n",
       "      <td>36</td>\n",
       "      <td>244.000000</td>\n",
       "      <td>1100</td>\n",
       "    </tr>\n",
       "    <tr>\n",
       "      <th>35948</th>\n",
       "      <td>smart</td>\n",
       "      <td>fortwo coupe</td>\n",
       "      <td>2014</td>\n",
       "      <td>1.0</td>\n",
       "      <td>3.0</td>\n",
       "      <td>Auto(AM5)</td>\n",
       "      <td>Rear-Wheel Drive</td>\n",
       "      <td>Two Seaters</td>\n",
       "      <td>Premium</td>\n",
       "      <td>9.155833</td>\n",
       "      <td>34</td>\n",
       "      <td>38</td>\n",
       "      <td>36</td>\n",
       "      <td>243.000000</td>\n",
       "      <td>1100</td>\n",
       "    </tr>\n",
       "    <tr>\n",
       "      <th>35949</th>\n",
       "      <td>smart</td>\n",
       "      <td>fortwo coupe</td>\n",
       "      <td>2015</td>\n",
       "      <td>1.0</td>\n",
       "      <td>3.0</td>\n",
       "      <td>Auto(AM5)</td>\n",
       "      <td>Rear-Wheel Drive</td>\n",
       "      <td>Two Seaters</td>\n",
       "      <td>Premium</td>\n",
       "      <td>9.155833</td>\n",
       "      <td>34</td>\n",
       "      <td>38</td>\n",
       "      <td>36</td>\n",
       "      <td>244.000000</td>\n",
       "      <td>1100</td>\n",
       "    </tr>\n",
       "    <tr>\n",
       "      <th>35950</th>\n",
       "      <td>smart</td>\n",
       "      <td>fortwo coupe</td>\n",
       "      <td>2016</td>\n",
       "      <td>0.9</td>\n",
       "      <td>3.0</td>\n",
       "      <td>Auto(AM6)</td>\n",
       "      <td>Rear-Wheel Drive</td>\n",
       "      <td>Two Seaters</td>\n",
       "      <td>Premium</td>\n",
       "      <td>9.155833</td>\n",
       "      <td>34</td>\n",
       "      <td>39</td>\n",
       "      <td>36</td>\n",
       "      <td>246.000000</td>\n",
       "      <td>1100</td>\n",
       "    </tr>\n",
       "    <tr>\n",
       "      <th>35951</th>\n",
       "      <td>smart</td>\n",
       "      <td>fortwo coupe</td>\n",
       "      <td>2016</td>\n",
       "      <td>0.9</td>\n",
       "      <td>3.0</td>\n",
       "      <td>Manual 5-spd</td>\n",
       "      <td>Rear-Wheel Drive</td>\n",
       "      <td>Two Seaters</td>\n",
       "      <td>Premium</td>\n",
       "      <td>9.417429</td>\n",
       "      <td>32</td>\n",
       "      <td>39</td>\n",
       "      <td>35</td>\n",
       "      <td>255.000000</td>\n",
       "      <td>1150</td>\n",
       "    </tr>\n",
       "  </tbody>\n",
       "</table>\n",
       "<p>35952 rows × 15 columns</p>\n",
       "</div>"
      ],
      "text/plain": [
       "                   Make                Model  Year  Engine Displacement  \\\n",
       "0            AM General    DJ Po Vehicle 2WD  1984                  2.5   \n",
       "1            AM General     FJ8c Post Office  1984                  4.2   \n",
       "2            AM General  Post Office DJ5 2WD  1985                  2.5   \n",
       "3            AM General  Post Office DJ8 2WD  1985                  4.2   \n",
       "4      ASC Incorporated                  GNX  1987                  3.8   \n",
       "...                 ...                  ...   ...                  ...   \n",
       "35947             smart         fortwo coupe  2013                  1.0   \n",
       "35948             smart         fortwo coupe  2014                  1.0   \n",
       "35949             smart         fortwo coupe  2015                  1.0   \n",
       "35950             smart         fortwo coupe  2016                  0.9   \n",
       "35951             smart         fortwo coupe  2016                  0.9   \n",
       "\n",
       "       Cylinders     Transmission        Drivetrain  \\\n",
       "0            4.0  Automatic 3-spd     2-Wheel Drive   \n",
       "1            6.0  Automatic 3-spd     2-Wheel Drive   \n",
       "2            4.0  Automatic 3-spd  Rear-Wheel Drive   \n",
       "3            6.0  Automatic 3-spd  Rear-Wheel Drive   \n",
       "4            6.0  Automatic 4-spd  Rear-Wheel Drive   \n",
       "...          ...              ...               ...   \n",
       "35947        3.0        Auto(AM5)  Rear-Wheel Drive   \n",
       "35948        3.0        Auto(AM5)  Rear-Wheel Drive   \n",
       "35949        3.0        Auto(AM5)  Rear-Wheel Drive   \n",
       "35950        3.0        Auto(AM6)  Rear-Wheel Drive   \n",
       "35951        3.0     Manual 5-spd  Rear-Wheel Drive   \n",
       "\n",
       "                     Vehicle Class Fuel Type  Fuel Barrels/Year  City MPG  \\\n",
       "0      Special Purpose Vehicle 2WD   Regular          19.388824        18   \n",
       "1      Special Purpose Vehicle 2WD   Regular          25.354615        13   \n",
       "2      Special Purpose Vehicle 2WD   Regular          20.600625        16   \n",
       "3      Special Purpose Vehicle 2WD   Regular          25.354615        13   \n",
       "4                     Midsize Cars   Premium          20.600625        14   \n",
       "...                            ...       ...                ...       ...   \n",
       "35947                  Two Seaters   Premium           9.155833        34   \n",
       "35948                  Two Seaters   Premium           9.155833        34   \n",
       "35949                  Two Seaters   Premium           9.155833        34   \n",
       "35950                  Two Seaters   Premium           9.155833        34   \n",
       "35951                  Two Seaters   Premium           9.417429        32   \n",
       "\n",
       "       Highway MPG  Combined MPG  CO2 Emission Grams/Mile  Fuel Cost/Year  \n",
       "0               17            17               522.764706            1950  \n",
       "1               13            13               683.615385            2550  \n",
       "2               17            16               555.437500            2100  \n",
       "3               13            13               683.615385            2550  \n",
       "4               21            16               555.437500            2550  \n",
       "...            ...           ...                      ...             ...  \n",
       "35947           38            36               244.000000            1100  \n",
       "35948           38            36               243.000000            1100  \n",
       "35949           38            36               244.000000            1100  \n",
       "35950           39            36               246.000000            1100  \n",
       "35951           39            35               255.000000            1150  \n",
       "\n",
       "[35952 rows x 15 columns]"
      ]
     },
     "execution_count": 8,
     "metadata": {},
     "output_type": "execute_result"
    }
   ],
   "source": [
    "# Import any libraries you may need & the data\n",
    "\n",
    "vehicles = pd.read_csv('./vehicles.csv')\n",
    "\n",
    "vehicles"
   ]
  },
  {
   "cell_type": "markdown",
   "metadata": {},
   "source": [
    "Let's use the following variables for our analysis: Year, Cylinders, Fuel Barrels/Year, Combined MPG, and Fuel Cost/Year. We will use 'CO2 Emission Grams/Mile' as our outcome variable. \n",
    "\n",
    "Calculate the correlations between each of these variables and the outcome. Which variable do you think will be the most important in determining CO2 emissions? Which provides the least amount of helpful information for determining CO2 emissions? Add your responses as comments after your code."
   ]
  },
  {
   "cell_type": "code",
   "execution_count": 12,
   "metadata": {},
   "outputs": [
    {
     "data": {
      "text/html": [
       "<div>\n",
       "<style scoped>\n",
       "    .dataframe tbody tr th:only-of-type {\n",
       "        vertical-align: middle;\n",
       "    }\n",
       "\n",
       "    .dataframe tbody tr th {\n",
       "        vertical-align: top;\n",
       "    }\n",
       "\n",
       "    .dataframe thead th {\n",
       "        text-align: right;\n",
       "    }\n",
       "</style>\n",
       "<table border=\"1\" class=\"dataframe\">\n",
       "  <thead>\n",
       "    <tr style=\"text-align: right;\">\n",
       "      <th></th>\n",
       "      <th>Year</th>\n",
       "      <th>CO2 Emission Grams/Mile</th>\n",
       "    </tr>\n",
       "  </thead>\n",
       "  <tbody>\n",
       "    <tr>\n",
       "      <th>Year</th>\n",
       "      <td>1.0000</td>\n",
       "      <td>-0.2223</td>\n",
       "    </tr>\n",
       "    <tr>\n",
       "      <th>CO2 Emission Grams/Mile</th>\n",
       "      <td>-0.2223</td>\n",
       "      <td>1.0000</td>\n",
       "    </tr>\n",
       "  </tbody>\n",
       "</table>\n",
       "</div>"
      ],
      "text/plain": [
       "                           Year  CO2 Emission Grams/Mile\n",
       "Year                     1.0000                  -0.2223\n",
       "CO2 Emission Grams/Mile -0.2223                   1.0000"
      ]
     },
     "execution_count": 12,
     "metadata": {},
     "output_type": "execute_result"
    }
   ],
   "source": [
    "# Your response here. \n",
    "\n",
    "vehicles[['Year','CO2 Emission Grams/Mile']].corr()"
   ]
  },
  {
   "cell_type": "code",
   "execution_count": 13,
   "metadata": {},
   "outputs": [
    {
     "data": {
      "text/html": [
       "<div>\n",
       "<style scoped>\n",
       "    .dataframe tbody tr th:only-of-type {\n",
       "        vertical-align: middle;\n",
       "    }\n",
       "\n",
       "    .dataframe tbody tr th {\n",
       "        vertical-align: top;\n",
       "    }\n",
       "\n",
       "    .dataframe thead th {\n",
       "        text-align: right;\n",
       "    }\n",
       "</style>\n",
       "<table border=\"1\" class=\"dataframe\">\n",
       "  <thead>\n",
       "    <tr style=\"text-align: right;\">\n",
       "      <th></th>\n",
       "      <th>Cylinders</th>\n",
       "      <th>CO2 Emission Grams/Mile</th>\n",
       "    </tr>\n",
       "  </thead>\n",
       "  <tbody>\n",
       "    <tr>\n",
       "      <th>Cylinders</th>\n",
       "      <td>1.000000</td>\n",
       "      <td>0.752393</td>\n",
       "    </tr>\n",
       "    <tr>\n",
       "      <th>CO2 Emission Grams/Mile</th>\n",
       "      <td>0.752393</td>\n",
       "      <td>1.000000</td>\n",
       "    </tr>\n",
       "  </tbody>\n",
       "</table>\n",
       "</div>"
      ],
      "text/plain": [
       "                         Cylinders  CO2 Emission Grams/Mile\n",
       "Cylinders                 1.000000                 0.752393\n",
       "CO2 Emission Grams/Mile   0.752393                 1.000000"
      ]
     },
     "execution_count": 13,
     "metadata": {},
     "output_type": "execute_result"
    }
   ],
   "source": [
    "vehicles[['Cylinders','CO2 Emission Grams/Mile']].corr()"
   ]
  },
  {
   "cell_type": "code",
   "execution_count": 14,
   "metadata": {},
   "outputs": [
    {
     "data": {
      "text/html": [
       "<div>\n",
       "<style scoped>\n",
       "    .dataframe tbody tr th:only-of-type {\n",
       "        vertical-align: middle;\n",
       "    }\n",
       "\n",
       "    .dataframe tbody tr th {\n",
       "        vertical-align: top;\n",
       "    }\n",
       "\n",
       "    .dataframe thead th {\n",
       "        text-align: right;\n",
       "    }\n",
       "</style>\n",
       "<table border=\"1\" class=\"dataframe\">\n",
       "  <thead>\n",
       "    <tr style=\"text-align: right;\">\n",
       "      <th></th>\n",
       "      <th>Fuel Barrels/Year</th>\n",
       "      <th>CO2 Emission Grams/Mile</th>\n",
       "    </tr>\n",
       "  </thead>\n",
       "  <tbody>\n",
       "    <tr>\n",
       "      <th>Fuel Barrels/Year</th>\n",
       "      <td>1.000000</td>\n",
       "      <td>0.986189</td>\n",
       "    </tr>\n",
       "    <tr>\n",
       "      <th>CO2 Emission Grams/Mile</th>\n",
       "      <td>0.986189</td>\n",
       "      <td>1.000000</td>\n",
       "    </tr>\n",
       "  </tbody>\n",
       "</table>\n",
       "</div>"
      ],
      "text/plain": [
       "                         Fuel Barrels/Year  CO2 Emission Grams/Mile\n",
       "Fuel Barrels/Year                 1.000000                 0.986189\n",
       "CO2 Emission Grams/Mile           0.986189                 1.000000"
      ]
     },
     "execution_count": 14,
     "metadata": {},
     "output_type": "execute_result"
    }
   ],
   "source": [
    "vehicles[['Fuel Barrels/Year','CO2 Emission Grams/Mile']].corr()"
   ]
  },
  {
   "cell_type": "code",
   "execution_count": 15,
   "metadata": {},
   "outputs": [
    {
     "data": {
      "text/html": [
       "<div>\n",
       "<style scoped>\n",
       "    .dataframe tbody tr th:only-of-type {\n",
       "        vertical-align: middle;\n",
       "    }\n",
       "\n",
       "    .dataframe tbody tr th {\n",
       "        vertical-align: top;\n",
       "    }\n",
       "\n",
       "    .dataframe thead th {\n",
       "        text-align: right;\n",
       "    }\n",
       "</style>\n",
       "<table border=\"1\" class=\"dataframe\">\n",
       "  <thead>\n",
       "    <tr style=\"text-align: right;\">\n",
       "      <th></th>\n",
       "      <th>Combined MPG</th>\n",
       "      <th>CO2 Emission Grams/Mile</th>\n",
       "    </tr>\n",
       "  </thead>\n",
       "  <tbody>\n",
       "    <tr>\n",
       "      <th>Combined MPG</th>\n",
       "      <td>1.000000</td>\n",
       "      <td>-0.926229</td>\n",
       "    </tr>\n",
       "    <tr>\n",
       "      <th>CO2 Emission Grams/Mile</th>\n",
       "      <td>-0.926229</td>\n",
       "      <td>1.000000</td>\n",
       "    </tr>\n",
       "  </tbody>\n",
       "</table>\n",
       "</div>"
      ],
      "text/plain": [
       "                         Combined MPG  CO2 Emission Grams/Mile\n",
       "Combined MPG                 1.000000                -0.926229\n",
       "CO2 Emission Grams/Mile     -0.926229                 1.000000"
      ]
     },
     "execution_count": 15,
     "metadata": {},
     "output_type": "execute_result"
    }
   ],
   "source": [
    "vehicles[['Combined MPG','CO2 Emission Grams/Mile']].corr()"
   ]
  },
  {
   "cell_type": "code",
   "execution_count": 17,
   "metadata": {},
   "outputs": [
    {
     "data": {
      "text/html": [
       "<div>\n",
       "<style scoped>\n",
       "    .dataframe tbody tr th:only-of-type {\n",
       "        vertical-align: middle;\n",
       "    }\n",
       "\n",
       "    .dataframe tbody tr th {\n",
       "        vertical-align: top;\n",
       "    }\n",
       "\n",
       "    .dataframe thead th {\n",
       "        text-align: right;\n",
       "    }\n",
       "</style>\n",
       "<table border=\"1\" class=\"dataframe\">\n",
       "  <thead>\n",
       "    <tr style=\"text-align: right;\">\n",
       "      <th></th>\n",
       "      <th>Fuel Cost/Year</th>\n",
       "      <th>CO2 Emission Grams/Mile</th>\n",
       "    </tr>\n",
       "  </thead>\n",
       "  <tbody>\n",
       "    <tr>\n",
       "      <th>Fuel Cost/Year</th>\n",
       "      <td>1.000000</td>\n",
       "      <td>0.930865</td>\n",
       "    </tr>\n",
       "    <tr>\n",
       "      <th>CO2 Emission Grams/Mile</th>\n",
       "      <td>0.930865</td>\n",
       "      <td>1.000000</td>\n",
       "    </tr>\n",
       "  </tbody>\n",
       "</table>\n",
       "</div>"
      ],
      "text/plain": [
       "                         Fuel Cost/Year  CO2 Emission Grams/Mile\n",
       "Fuel Cost/Year                 1.000000                 0.930865\n",
       "CO2 Emission Grams/Mile        0.930865                 1.000000"
      ]
     },
     "execution_count": 17,
     "metadata": {},
     "output_type": "execute_result"
    }
   ],
   "source": [
    "vehicles[['Fuel Cost/Year','CO2 Emission Grams/Mile']].corr()"
   ]
  },
  {
   "cell_type": "code",
   "execution_count": 16,
   "metadata": {},
   "outputs": [
    {
     "data": {
      "text/html": [
       "<style  type=\"text/css\" >\n",
       "#T_fe13beb4_210d_11eb_a995_8c85904c6ff2row0_col0,#T_fe13beb4_210d_11eb_a995_8c85904c6ff2row1_col1,#T_fe13beb4_210d_11eb_a995_8c85904c6ff2row2_col2,#T_fe13beb4_210d_11eb_a995_8c85904c6ff2row3_col3,#T_fe13beb4_210d_11eb_a995_8c85904c6ff2row4_col4,#T_fe13beb4_210d_11eb_a995_8c85904c6ff2row5_col5,#T_fe13beb4_210d_11eb_a995_8c85904c6ff2row6_col6,#T_fe13beb4_210d_11eb_a995_8c85904c6ff2row7_col7,#T_fe13beb4_210d_11eb_a995_8c85904c6ff2row8_col8{\n",
       "            background-color:  #b40426;\n",
       "            color:  #f1f1f1;\n",
       "        }#T_fe13beb4_210d_11eb_a995_8c85904c6ff2row0_col1{\n",
       "            background-color:  #cedaeb;\n",
       "            color:  #000000;\n",
       "        }#T_fe13beb4_210d_11eb_a995_8c85904c6ff2row0_col2{\n",
       "            background-color:  #d3dbe7;\n",
       "            color:  #000000;\n",
       "        }#T_fe13beb4_210d_11eb_a995_8c85904c6ff2row0_col3{\n",
       "            background-color:  #b3cdfb;\n",
       "            color:  #000000;\n",
       "        }#T_fe13beb4_210d_11eb_a995_8c85904c6ff2row0_col4{\n",
       "            background-color:  #ead4c8;\n",
       "            color:  #000000;\n",
       "        }#T_fe13beb4_210d_11eb_a995_8c85904c6ff2row0_col5{\n",
       "            background-color:  #f4c6af;\n",
       "            color:  #000000;\n",
       "        }#T_fe13beb4_210d_11eb_a995_8c85904c6ff2row0_col6{\n",
       "            background-color:  #f0cdbb;\n",
       "            color:  #000000;\n",
       "        }#T_fe13beb4_210d_11eb_a995_8c85904c6ff2row0_col7{\n",
       "            background-color:  #b5cdfa;\n",
       "            color:  #000000;\n",
       "        }#T_fe13beb4_210d_11eb_a995_8c85904c6ff2row0_col8{\n",
       "            background-color:  #c5d6f2;\n",
       "            color:  #000000;\n",
       "        }#T_fe13beb4_210d_11eb_a995_8c85904c6ff2row1_col0{\n",
       "            background-color:  #80a3fa;\n",
       "            color:  #000000;\n",
       "        }#T_fe13beb4_210d_11eb_a995_8c85904c6ff2row1_col2,#T_fe13beb4_210d_11eb_a995_8c85904c6ff2row2_col1{\n",
       "            background-color:  #c83836;\n",
       "            color:  #f1f1f1;\n",
       "        }#T_fe13beb4_210d_11eb_a995_8c85904c6ff2row1_col3,#T_fe13beb4_210d_11eb_a995_8c85904c6ff2row7_col1{\n",
       "            background-color:  #d95847;\n",
       "            color:  #000000;\n",
       "        }#T_fe13beb4_210d_11eb_a995_8c85904c6ff2row1_col4{\n",
       "            background-color:  #536edd;\n",
       "            color:  #000000;\n",
       "        }#T_fe13beb4_210d_11eb_a995_8c85904c6ff2row1_col5{\n",
       "            background-color:  #5d7ce6;\n",
       "            color:  #000000;\n",
       "        }#T_fe13beb4_210d_11eb_a995_8c85904c6ff2row1_col6{\n",
       "            background-color:  #5673e0;\n",
       "            color:  #000000;\n",
       "        }#T_fe13beb4_210d_11eb_a995_8c85904c6ff2row1_col7{\n",
       "            background-color:  #d75445;\n",
       "            color:  #000000;\n",
       "        }#T_fe13beb4_210d_11eb_a995_8c85904c6ff2row1_col8{\n",
       "            background-color:  #dd5f4b;\n",
       "            color:  #000000;\n",
       "        }#T_fe13beb4_210d_11eb_a995_8c85904c6ff2row2_col0{\n",
       "            background-color:  #8caffe;\n",
       "            color:  #000000;\n",
       "        }#T_fe13beb4_210d_11eb_a995_8c85904c6ff2row2_col3{\n",
       "            background-color:  #e0654f;\n",
       "            color:  #000000;\n",
       "        }#T_fe13beb4_210d_11eb_a995_8c85904c6ff2row2_col4{\n",
       "            background-color:  #5977e3;\n",
       "            color:  #000000;\n",
       "        }#T_fe13beb4_210d_11eb_a995_8c85904c6ff2row2_col5{\n",
       "            background-color:  #6788ee;\n",
       "            color:  #000000;\n",
       "        }#T_fe13beb4_210d_11eb_a995_8c85904c6ff2row2_col6{\n",
       "            background-color:  #5f7fe8;\n",
       "            color:  #000000;\n",
       "        }#T_fe13beb4_210d_11eb_a995_8c85904c6ff2row2_col7{\n",
       "            background-color:  #de614d;\n",
       "            color:  #000000;\n",
       "        }#T_fe13beb4_210d_11eb_a995_8c85904c6ff2row2_col8,#T_fe13beb4_210d_11eb_a995_8c85904c6ff2row3_col1{\n",
       "            background-color:  #dc5d4a;\n",
       "            color:  #000000;\n",
       "        }#T_fe13beb4_210d_11eb_a995_8c85904c6ff2row3_col0,#T_fe13beb4_210d_11eb_a995_8c85904c6ff2row4_col1,#T_fe13beb4_210d_11eb_a995_8c85904c6ff2row4_col2,#T_fe13beb4_210d_11eb_a995_8c85904c6ff2row5_col3,#T_fe13beb4_210d_11eb_a995_8c85904c6ff2row5_col7,#T_fe13beb4_210d_11eb_a995_8c85904c6ff2row6_col1,#T_fe13beb4_210d_11eb_a995_8c85904c6ff2row6_col2,#T_fe13beb4_210d_11eb_a995_8c85904c6ff2row6_col3,#T_fe13beb4_210d_11eb_a995_8c85904c6ff2row6_col7,#T_fe13beb4_210d_11eb_a995_8c85904c6ff2row6_col8,#T_fe13beb4_210d_11eb_a995_8c85904c6ff2row7_col0,#T_fe13beb4_210d_11eb_a995_8c85904c6ff2row7_col4,#T_fe13beb4_210d_11eb_a995_8c85904c6ff2row7_col5,#T_fe13beb4_210d_11eb_a995_8c85904c6ff2row7_col6{\n",
       "            background-color:  #3b4cc0;\n",
       "            color:  #f1f1f1;\n",
       "        }#T_fe13beb4_210d_11eb_a995_8c85904c6ff2row3_col2{\n",
       "            background-color:  #e46e56;\n",
       "            color:  #000000;\n",
       "        }#T_fe13beb4_210d_11eb_a995_8c85904c6ff2row3_col4,#T_fe13beb4_210d_11eb_a995_8c85904c6ff2row3_col5,#T_fe13beb4_210d_11eb_a995_8c85904c6ff2row3_col6,#T_fe13beb4_210d_11eb_a995_8c85904c6ff2row4_col8{\n",
       "            background-color:  #3d50c3;\n",
       "            color:  #f1f1f1;\n",
       "        }#T_fe13beb4_210d_11eb_a995_8c85904c6ff2row3_col7,#T_fe13beb4_210d_11eb_a995_8c85904c6ff2row4_col6,#T_fe13beb4_210d_11eb_a995_8c85904c6ff2row6_col4,#T_fe13beb4_210d_11eb_a995_8c85904c6ff2row7_col3{\n",
       "            background-color:  #b50927;\n",
       "            color:  #f1f1f1;\n",
       "        }#T_fe13beb4_210d_11eb_a995_8c85904c6ff2row3_col8,#T_fe13beb4_210d_11eb_a995_8c85904c6ff2row8_col3{\n",
       "            background-color:  #c43032;\n",
       "            color:  #f1f1f1;\n",
       "        }#T_fe13beb4_210d_11eb_a995_8c85904c6ff2row4_col0{\n",
       "            background-color:  #a3c2fe;\n",
       "            color:  #000000;\n",
       "        }#T_fe13beb4_210d_11eb_a995_8c85904c6ff2row4_col3,#T_fe13beb4_210d_11eb_a995_8c85904c6ff2row4_col7,#T_fe13beb4_210d_11eb_a995_8c85904c6ff2row5_col1,#T_fe13beb4_210d_11eb_a995_8c85904c6ff2row8_col4{\n",
       "            background-color:  #3f53c6;\n",
       "            color:  #f1f1f1;\n",
       "        }#T_fe13beb4_210d_11eb_a995_8c85904c6ff2row4_col5,#T_fe13beb4_210d_11eb_a995_8c85904c6ff2row5_col4{\n",
       "            background-color:  #c32e31;\n",
       "            color:  #f1f1f1;\n",
       "        }#T_fe13beb4_210d_11eb_a995_8c85904c6ff2row5_col0{\n",
       "            background-color:  #c0d4f5;\n",
       "            color:  #000000;\n",
       "        }#T_fe13beb4_210d_11eb_a995_8c85904c6ff2row5_col2{\n",
       "            background-color:  #445acc;\n",
       "            color:  #f1f1f1;\n",
       "        }#T_fe13beb4_210d_11eb_a995_8c85904c6ff2row5_col6,#T_fe13beb4_210d_11eb_a995_8c85904c6ff2row6_col5{\n",
       "            background-color:  #ba162b;\n",
       "            color:  #f1f1f1;\n",
       "        }#T_fe13beb4_210d_11eb_a995_8c85904c6ff2row5_col8{\n",
       "            background-color:  #3e51c5;\n",
       "            color:  #f1f1f1;\n",
       "        }#T_fe13beb4_210d_11eb_a995_8c85904c6ff2row6_col0{\n",
       "            background-color:  #afcafc;\n",
       "            color:  #000000;\n",
       "        }#T_fe13beb4_210d_11eb_a995_8c85904c6ff2row7_col2{\n",
       "            background-color:  #e36b54;\n",
       "            color:  #000000;\n",
       "        }#T_fe13beb4_210d_11eb_a995_8c85904c6ff2row7_col8,#T_fe13beb4_210d_11eb_a995_8c85904c6ff2row8_col7{\n",
       "            background-color:  #c12b30;\n",
       "            color:  #f1f1f1;\n",
       "        }#T_fe13beb4_210d_11eb_a995_8c85904c6ff2row8_col0{\n",
       "            background-color:  #5b7ae5;\n",
       "            color:  #000000;\n",
       "        }#T_fe13beb4_210d_11eb_a995_8c85904c6ff2row8_col1,#T_fe13beb4_210d_11eb_a995_8c85904c6ff2row8_col2{\n",
       "            background-color:  #df634e;\n",
       "            color:  #000000;\n",
       "        }#T_fe13beb4_210d_11eb_a995_8c85904c6ff2row8_col5{\n",
       "            background-color:  #455cce;\n",
       "            color:  #f1f1f1;\n",
       "        }#T_fe13beb4_210d_11eb_a995_8c85904c6ff2row8_col6{\n",
       "            background-color:  #4257c9;\n",
       "            color:  #f1f1f1;\n",
       "        }</style><table id=\"T_fe13beb4_210d_11eb_a995_8c85904c6ff2\" ><thead>    <tr>        <th class=\"blank level0\" ></th>        <th class=\"col_heading level0 col0\" >Year</th>        <th class=\"col_heading level0 col1\" >Engine Displacement</th>        <th class=\"col_heading level0 col2\" >Cylinders</th>        <th class=\"col_heading level0 col3\" >Fuel Barrels/Year</th>        <th class=\"col_heading level0 col4\" >City MPG</th>        <th class=\"col_heading level0 col5\" >Highway MPG</th>        <th class=\"col_heading level0 col6\" >Combined MPG</th>        <th class=\"col_heading level0 col7\" >CO2 Emission Grams/Mile</th>        <th class=\"col_heading level0 col8\" >Fuel Cost/Year</th>    </tr></thead><tbody>\n",
       "                <tr>\n",
       "                        <th id=\"T_fe13beb4_210d_11eb_a995_8c85904c6ff2level0_row0\" class=\"row_heading level0 row0\" >Year</th>\n",
       "                        <td id=\"T_fe13beb4_210d_11eb_a995_8c85904c6ff2row0_col0\" class=\"data row0 col0\" >1.000000</td>\n",
       "                        <td id=\"T_fe13beb4_210d_11eb_a995_8c85904c6ff2row0_col1\" class=\"data row0 col1\" >0.037876</td>\n",
       "                        <td id=\"T_fe13beb4_210d_11eb_a995_8c85904c6ff2row0_col2\" class=\"data row0 col2\" >0.082469</td>\n",
       "                        <td id=\"T_fe13beb4_210d_11eb_a995_8c85904c6ff2row0_col3\" class=\"data row0 col3\" >-0.221084</td>\n",
       "                        <td id=\"T_fe13beb4_210d_11eb_a995_8c85904c6ff2row0_col4\" class=\"data row0 col4\" >0.161818</td>\n",
       "                        <td id=\"T_fe13beb4_210d_11eb_a995_8c85904c6ff2row0_col5\" class=\"data row0 col5\" >0.267259</td>\n",
       "                        <td id=\"T_fe13beb4_210d_11eb_a995_8c85904c6ff2row0_col6\" class=\"data row0 col6\" >0.204751</td>\n",
       "                        <td id=\"T_fe13beb4_210d_11eb_a995_8c85904c6ff2row0_col7\" class=\"data row0 col7\" >-0.222300</td>\n",
       "                        <td id=\"T_fe13beb4_210d_11eb_a995_8c85904c6ff2row0_col8\" class=\"data row0 col8\" >-0.091913</td>\n",
       "            </tr>\n",
       "            <tr>\n",
       "                        <th id=\"T_fe13beb4_210d_11eb_a995_8c85904c6ff2level0_row1\" class=\"row_heading level0 row1\" >Engine Displacement</th>\n",
       "                        <td id=\"T_fe13beb4_210d_11eb_a995_8c85904c6ff2row1_col0\" class=\"data row1 col0\" >0.037876</td>\n",
       "                        <td id=\"T_fe13beb4_210d_11eb_a995_8c85904c6ff2row1_col1\" class=\"data row1 col1\" >1.000000</td>\n",
       "                        <td id=\"T_fe13beb4_210d_11eb_a995_8c85904c6ff2row1_col2\" class=\"data row1 col2\" >0.901858</td>\n",
       "                        <td id=\"T_fe13beb4_210d_11eb_a995_8c85904c6ff2row1_col3\" class=\"data row1 col3\" >0.789752</td>\n",
       "                        <td id=\"T_fe13beb4_210d_11eb_a995_8c85904c6ff2row1_col4\" class=\"data row1 col4\" >-0.740317</td>\n",
       "                        <td id=\"T_fe13beb4_210d_11eb_a995_8c85904c6ff2row1_col5\" class=\"data row1 col5\" >-0.715039</td>\n",
       "                        <td id=\"T_fe13beb4_210d_11eb_a995_8c85904c6ff2row1_col6\" class=\"data row1 col6\" >-0.746782</td>\n",
       "                        <td id=\"T_fe13beb4_210d_11eb_a995_8c85904c6ff2row1_col7\" class=\"data row1 col7\" >0.803520</td>\n",
       "                        <td id=\"T_fe13beb4_210d_11eb_a995_8c85904c6ff2row1_col8\" class=\"data row1 col8\" >0.769678</td>\n",
       "            </tr>\n",
       "            <tr>\n",
       "                        <th id=\"T_fe13beb4_210d_11eb_a995_8c85904c6ff2level0_row2\" class=\"row_heading level0 row2\" >Cylinders</th>\n",
       "                        <td id=\"T_fe13beb4_210d_11eb_a995_8c85904c6ff2row2_col0\" class=\"data row2 col0\" >0.082469</td>\n",
       "                        <td id=\"T_fe13beb4_210d_11eb_a995_8c85904c6ff2row2_col1\" class=\"data row2 col1\" >0.901858</td>\n",
       "                        <td id=\"T_fe13beb4_210d_11eb_a995_8c85904c6ff2row2_col2\" class=\"data row2 col2\" >1.000000</td>\n",
       "                        <td id=\"T_fe13beb4_210d_11eb_a995_8c85904c6ff2row2_col3\" class=\"data row2 col3\" >0.739517</td>\n",
       "                        <td id=\"T_fe13beb4_210d_11eb_a995_8c85904c6ff2row2_col4\" class=\"data row2 col4\" >-0.703866</td>\n",
       "                        <td id=\"T_fe13beb4_210d_11eb_a995_8c85904c6ff2row2_col5\" class=\"data row2 col5\" >-0.650287</td>\n",
       "                        <td id=\"T_fe13beb4_210d_11eb_a995_8c85904c6ff2row2_col6\" class=\"data row2 col6\" >-0.698648</td>\n",
       "                        <td id=\"T_fe13beb4_210d_11eb_a995_8c85904c6ff2row2_col7\" class=\"data row2 col7\" >0.752393</td>\n",
       "                        <td id=\"T_fe13beb4_210d_11eb_a995_8c85904c6ff2row2_col8\" class=\"data row2 col8\" >0.778153</td>\n",
       "            </tr>\n",
       "            <tr>\n",
       "                        <th id=\"T_fe13beb4_210d_11eb_a995_8c85904c6ff2level0_row3\" class=\"row_heading level0 row3\" >Fuel Barrels/Year</th>\n",
       "                        <td id=\"T_fe13beb4_210d_11eb_a995_8c85904c6ff2row3_col0\" class=\"data row3 col0\" >-0.221084</td>\n",
       "                        <td id=\"T_fe13beb4_210d_11eb_a995_8c85904c6ff2row3_col1\" class=\"data row3 col1\" >0.789752</td>\n",
       "                        <td id=\"T_fe13beb4_210d_11eb_a995_8c85904c6ff2row3_col2\" class=\"data row3 col2\" >0.739517</td>\n",
       "                        <td id=\"T_fe13beb4_210d_11eb_a995_8c85904c6ff2row3_col3\" class=\"data row3 col3\" >1.000000</td>\n",
       "                        <td id=\"T_fe13beb4_210d_11eb_a995_8c85904c6ff2row3_col4\" class=\"data row3 col4\" >-0.877752</td>\n",
       "                        <td id=\"T_fe13beb4_210d_11eb_a995_8c85904c6ff2row3_col5\" class=\"data row3 col5\" >-0.909664</td>\n",
       "                        <td id=\"T_fe13beb4_210d_11eb_a995_8c85904c6ff2row3_col6\" class=\"data row3 col6\" >-0.909743</td>\n",
       "                        <td id=\"T_fe13beb4_210d_11eb_a995_8c85904c6ff2row3_col7\" class=\"data row3 col7\" >0.986189</td>\n",
       "                        <td id=\"T_fe13beb4_210d_11eb_a995_8c85904c6ff2row3_col8\" class=\"data row3 col8\" >0.916208</td>\n",
       "            </tr>\n",
       "            <tr>\n",
       "                        <th id=\"T_fe13beb4_210d_11eb_a995_8c85904c6ff2level0_row4\" class=\"row_heading level0 row4\" >City MPG</th>\n",
       "                        <td id=\"T_fe13beb4_210d_11eb_a995_8c85904c6ff2row4_col0\" class=\"data row4 col0\" >0.161818</td>\n",
       "                        <td id=\"T_fe13beb4_210d_11eb_a995_8c85904c6ff2row4_col1\" class=\"data row4 col1\" >-0.740317</td>\n",
       "                        <td id=\"T_fe13beb4_210d_11eb_a995_8c85904c6ff2row4_col2\" class=\"data row4 col2\" >-0.703866</td>\n",
       "                        <td id=\"T_fe13beb4_210d_11eb_a995_8c85904c6ff2row4_col3\" class=\"data row4 col3\" >-0.877752</td>\n",
       "                        <td id=\"T_fe13beb4_210d_11eb_a995_8c85904c6ff2row4_col4\" class=\"data row4 col4\" >1.000000</td>\n",
       "                        <td id=\"T_fe13beb4_210d_11eb_a995_8c85904c6ff2row4_col5\" class=\"data row4 col5\" >0.923856</td>\n",
       "                        <td id=\"T_fe13beb4_210d_11eb_a995_8c85904c6ff2row4_col6\" class=\"data row4 col6\" >0.985457</td>\n",
       "                        <td id=\"T_fe13beb4_210d_11eb_a995_8c85904c6ff2row4_col7\" class=\"data row4 col7\" >-0.894139</td>\n",
       "                        <td id=\"T_fe13beb4_210d_11eb_a995_8c85904c6ff2row4_col8\" class=\"data row4 col8\" >-0.858645</td>\n",
       "            </tr>\n",
       "            <tr>\n",
       "                        <th id=\"T_fe13beb4_210d_11eb_a995_8c85904c6ff2level0_row5\" class=\"row_heading level0 row5\" >Highway MPG</th>\n",
       "                        <td id=\"T_fe13beb4_210d_11eb_a995_8c85904c6ff2row5_col0\" class=\"data row5 col0\" >0.267259</td>\n",
       "                        <td id=\"T_fe13beb4_210d_11eb_a995_8c85904c6ff2row5_col1\" class=\"data row5 col1\" >-0.715039</td>\n",
       "                        <td id=\"T_fe13beb4_210d_11eb_a995_8c85904c6ff2row5_col2\" class=\"data row5 col2\" >-0.650287</td>\n",
       "                        <td id=\"T_fe13beb4_210d_11eb_a995_8c85904c6ff2row5_col3\" class=\"data row5 col3\" >-0.909664</td>\n",
       "                        <td id=\"T_fe13beb4_210d_11eb_a995_8c85904c6ff2row5_col4\" class=\"data row5 col4\" >0.923856</td>\n",
       "                        <td id=\"T_fe13beb4_210d_11eb_a995_8c85904c6ff2row5_col5\" class=\"data row5 col5\" >1.000000</td>\n",
       "                        <td id=\"T_fe13beb4_210d_11eb_a995_8c85904c6ff2row5_col6\" class=\"data row5 col6\" >0.969392</td>\n",
       "                        <td id=\"T_fe13beb4_210d_11eb_a995_8c85904c6ff2row5_col7\" class=\"data row5 col7\" >-0.926405</td>\n",
       "                        <td id=\"T_fe13beb4_210d_11eb_a995_8c85904c6ff2row5_col8\" class=\"data row5 col8\" >-0.851404</td>\n",
       "            </tr>\n",
       "            <tr>\n",
       "                        <th id=\"T_fe13beb4_210d_11eb_a995_8c85904c6ff2level0_row6\" class=\"row_heading level0 row6\" >Combined MPG</th>\n",
       "                        <td id=\"T_fe13beb4_210d_11eb_a995_8c85904c6ff2row6_col0\" class=\"data row6 col0\" >0.204751</td>\n",
       "                        <td id=\"T_fe13beb4_210d_11eb_a995_8c85904c6ff2row6_col1\" class=\"data row6 col1\" >-0.746782</td>\n",
       "                        <td id=\"T_fe13beb4_210d_11eb_a995_8c85904c6ff2row6_col2\" class=\"data row6 col2\" >-0.698648</td>\n",
       "                        <td id=\"T_fe13beb4_210d_11eb_a995_8c85904c6ff2row6_col3\" class=\"data row6 col3\" >-0.909743</td>\n",
       "                        <td id=\"T_fe13beb4_210d_11eb_a995_8c85904c6ff2row6_col4\" class=\"data row6 col4\" >0.985457</td>\n",
       "                        <td id=\"T_fe13beb4_210d_11eb_a995_8c85904c6ff2row6_col5\" class=\"data row6 col5\" >0.969392</td>\n",
       "                        <td id=\"T_fe13beb4_210d_11eb_a995_8c85904c6ff2row6_col6\" class=\"data row6 col6\" >1.000000</td>\n",
       "                        <td id=\"T_fe13beb4_210d_11eb_a995_8c85904c6ff2row6_col7\" class=\"data row6 col7\" >-0.926229</td>\n",
       "                        <td id=\"T_fe13beb4_210d_11eb_a995_8c85904c6ff2row6_col8\" class=\"data row6 col8\" >-0.875185</td>\n",
       "            </tr>\n",
       "            <tr>\n",
       "                        <th id=\"T_fe13beb4_210d_11eb_a995_8c85904c6ff2level0_row7\" class=\"row_heading level0 row7\" >CO2 Emission Grams/Mile</th>\n",
       "                        <td id=\"T_fe13beb4_210d_11eb_a995_8c85904c6ff2row7_col0\" class=\"data row7 col0\" >-0.222300</td>\n",
       "                        <td id=\"T_fe13beb4_210d_11eb_a995_8c85904c6ff2row7_col1\" class=\"data row7 col1\" >0.803520</td>\n",
       "                        <td id=\"T_fe13beb4_210d_11eb_a995_8c85904c6ff2row7_col2\" class=\"data row7 col2\" >0.752393</td>\n",
       "                        <td id=\"T_fe13beb4_210d_11eb_a995_8c85904c6ff2row7_col3\" class=\"data row7 col3\" >0.986189</td>\n",
       "                        <td id=\"T_fe13beb4_210d_11eb_a995_8c85904c6ff2row7_col4\" class=\"data row7 col4\" >-0.894139</td>\n",
       "                        <td id=\"T_fe13beb4_210d_11eb_a995_8c85904c6ff2row7_col5\" class=\"data row7 col5\" >-0.926405</td>\n",
       "                        <td id=\"T_fe13beb4_210d_11eb_a995_8c85904c6ff2row7_col6\" class=\"data row7 col6\" >-0.926229</td>\n",
       "                        <td id=\"T_fe13beb4_210d_11eb_a995_8c85904c6ff2row7_col7\" class=\"data row7 col7\" >1.000000</td>\n",
       "                        <td id=\"T_fe13beb4_210d_11eb_a995_8c85904c6ff2row7_col8\" class=\"data row7 col8\" >0.930865</td>\n",
       "            </tr>\n",
       "            <tr>\n",
       "                        <th id=\"T_fe13beb4_210d_11eb_a995_8c85904c6ff2level0_row8\" class=\"row_heading level0 row8\" >Fuel Cost/Year</th>\n",
       "                        <td id=\"T_fe13beb4_210d_11eb_a995_8c85904c6ff2row8_col0\" class=\"data row8 col0\" >-0.091913</td>\n",
       "                        <td id=\"T_fe13beb4_210d_11eb_a995_8c85904c6ff2row8_col1\" class=\"data row8 col1\" >0.769678</td>\n",
       "                        <td id=\"T_fe13beb4_210d_11eb_a995_8c85904c6ff2row8_col2\" class=\"data row8 col2\" >0.778153</td>\n",
       "                        <td id=\"T_fe13beb4_210d_11eb_a995_8c85904c6ff2row8_col3\" class=\"data row8 col3\" >0.916208</td>\n",
       "                        <td id=\"T_fe13beb4_210d_11eb_a995_8c85904c6ff2row8_col4\" class=\"data row8 col4\" >-0.858645</td>\n",
       "                        <td id=\"T_fe13beb4_210d_11eb_a995_8c85904c6ff2row8_col5\" class=\"data row8 col5\" >-0.851404</td>\n",
       "                        <td id=\"T_fe13beb4_210d_11eb_a995_8c85904c6ff2row8_col6\" class=\"data row8 col6\" >-0.875185</td>\n",
       "                        <td id=\"T_fe13beb4_210d_11eb_a995_8c85904c6ff2row8_col7\" class=\"data row8 col7\" >0.930865</td>\n",
       "                        <td id=\"T_fe13beb4_210d_11eb_a995_8c85904c6ff2row8_col8\" class=\"data row8 col8\" >1.000000</td>\n",
       "            </tr>\n",
       "    </tbody></table>"
      ],
      "text/plain": [
       "<pandas.io.formats.style.Styler at 0x11d80ce20>"
      ]
     },
     "execution_count": 16,
     "metadata": {},
     "output_type": "execute_result"
    }
   ],
   "source": [
    "vehicles.corr().style.background_gradient(cmap='coolwarm')"
   ]
  },
  {
   "cell_type": "code",
   "execution_count": null,
   "metadata": {},
   "outputs": [],
   "source": [
    " \"\"\" \n",
    " The variable which will be the mst important in determining CO2 emissions is: Fuel Barrels/Year.\n",
    " The variable which provides the least amount of helpful information for determining CO2 emissions is: Year.\n",
    " \"\"\""
   ]
  },
  {
   "cell_type": "markdown",
   "metadata": {},
   "source": [
    "Build a regression model for this data. What type of regression are you using? Add your responses as comments after your code."
   ]
  },
  {
   "cell_type": "code",
   "execution_count": 31,
   "metadata": {},
   "outputs": [
    {
     "name": "stdout",
     "output_type": "stream",
     "text": [
      "Collecting statsmodels\n",
      "  Using cached statsmodels-0.12.1-cp38-cp38-macosx_10_13_x86_64.whl (9.6 MB)\n",
      "Requirement already satisfied: pandas>=0.21 in /usr/local/Cellar/jupyterlab/2.2.2/libexec/lib/python3.8/site-packages (from statsmodels) (1.1.3)\n",
      "Requirement already satisfied: scipy>=1.1 in /usr/local/lib/python3.8/site-packages (from statsmodels) (1.5.2)\n",
      "Collecting patsy>=0.5\n",
      "  Downloading patsy-0.5.1-py2.py3-none-any.whl (231 kB)\n",
      "\u001b[K     |████████████████████████████████| 231 kB 1.1 MB/s eta 0:00:01\n",
      "\u001b[?25hRequirement already satisfied: numpy>=1.15 in /usr/local/lib/python3.8/site-packages (from statsmodels) (1.19.2)\n",
      "Requirement already satisfied: pytz>=2017.2 in /usr/local/Cellar/jupyterlab/2.2.2/libexec/lib/python3.8/site-packages (from pandas>=0.21->statsmodels) (2020.1)\n",
      "Requirement already satisfied: python-dateutil>=2.7.3 in /usr/local/Cellar/jupyterlab/2.2.2/libexec/lib/python3.8/site-packages (from pandas>=0.21->statsmodels) (2.8.1)\n",
      "Requirement already satisfied: six in /usr/local/Cellar/jupyterlab/2.2.2/libexec/lib/python3.8/site-packages (from patsy>=0.5->statsmodels) (1.15.0)\n",
      "Installing collected packages: patsy, statsmodels\n",
      "Successfully installed patsy-0.5.1 statsmodels-0.12.1\n"
     ]
    }
   ],
   "source": [
    "# Install a conda package in the current Jupyter kernel\n",
    "# Install a pip package in the current Jupyter kernel\n",
    "#import sys\n",
    "#!{sys.executable} -m pip install statsmodels"
   ]
  },
  {
   "cell_type": "code",
   "execution_count": 39,
   "metadata": {},
   "outputs": [
    {
     "data": {
      "text/plain": [
       "LinearRegression()"
      ]
     },
     "execution_count": 39,
     "metadata": {},
     "output_type": "execute_result"
    }
   ],
   "source": [
    "# Your response here. \n",
    "from sklearn.linear_model import LinearRegression\n",
    "model = LinearRegression()\n",
    "#Define the X and Y variable and reshape \n",
    "X = vehicles['CO2 Emission Grams/Mile'].values.reshape(-1,1)\n",
    "Y = vehicles['Fuel Barrels/Year'].values.reshape(-1,1)\n",
    "\n",
    "model.fit(X, Y)\n",
    "\n",
    "\n"
   ]
  },
  {
   "cell_type": "markdown",
   "metadata": {},
   "source": [
    "Print your regression summary, and interpret the results. What are the most important varibles in your model and why? What can conclusions can you draw from your model and how confident in these conclusions are you? Add your responses as comments after your code."
   ]
  },
  {
   "cell_type": "code",
   "execution_count": 45,
   "metadata": {},
   "outputs": [
    {
     "data": {
      "text/html": [
       "<table class=\"simpletable\">\n",
       "<caption>OLS Regression Results</caption>\n",
       "<tr>\n",
       "  <th>Dep. Variable:</th>    <td>CO2 Emission Grams/Mile</td> <th>  R-squared (uncentered):</th>       <td>   0.999</td>  \n",
       "</tr>\n",
       "<tr>\n",
       "  <th>Model:</th>                      <td>OLS</td>           <th>  Adj. R-squared (uncentered):</th>  <td>   0.999</td>  \n",
       "</tr>\n",
       "<tr>\n",
       "  <th>Method:</th>                <td>Least Squares</td>      <th>  F-statistic:       </th>           <td>6.092e+06</td> \n",
       "</tr>\n",
       "<tr>\n",
       "  <th>Date:</th>                <td>Sat, 07 Nov 2020</td>     <th>  Prob (F-statistic):</th>            <td>  0.00</td>   \n",
       "</tr>\n",
       "<tr>\n",
       "  <th>Time:</th>                    <td>17:03:31</td>         <th>  Log-Likelihood:    </th>          <td>-1.5250e+05</td>\n",
       "</tr>\n",
       "<tr>\n",
       "  <th>No. Observations:</th>         <td> 35952</td>          <th>  AIC:               </th>           <td>3.050e+05</td> \n",
       "</tr>\n",
       "<tr>\n",
       "  <th>Df Residuals:</th>             <td> 35947</td>          <th>  BIC:               </th>           <td>3.050e+05</td> \n",
       "</tr>\n",
       "<tr>\n",
       "  <th>Df Model:</th>                 <td>     5</td>          <th>                     </th>               <td> </td>     \n",
       "</tr>\n",
       "<tr>\n",
       "  <th>Covariance Type:</th>         <td>nonrobust</td>        <th>                     </th>               <td> </td>     \n",
       "</tr>\n",
       "</table>\n",
       "<table class=\"simpletable\">\n",
       "<tr>\n",
       "          <td></td>             <th>coef</th>     <th>std err</th>      <th>t</th>      <th>P>|t|</th>  <th>[0.025</th>    <th>0.975]</th>  \n",
       "</tr>\n",
       "<tr>\n",
       "  <th>Year</th>              <td>    0.0630</td> <td>    0.001</td> <td>   74.153</td> <td> 0.000</td> <td>    0.061</td> <td>    0.065</td>\n",
       "</tr>\n",
       "<tr>\n",
       "  <th>Cylinders</th>         <td>    0.8873</td> <td>    0.081</td> <td>   10.952</td> <td> 0.000</td> <td>    0.729</td> <td>    1.046</td>\n",
       "</tr>\n",
       "<tr>\n",
       "  <th>Fuel Barrels/Year</th> <td>   19.8588</td> <td>    0.059</td> <td>  337.001</td> <td> 0.000</td> <td>   19.743</td> <td>   19.974</td>\n",
       "</tr>\n",
       "<tr>\n",
       "  <th>Combined MPG</th>      <td>   -3.0509</td> <td>    0.043</td> <td>  -70.368</td> <td> 0.000</td> <td>   -3.136</td> <td>   -2.966</td>\n",
       "</tr>\n",
       "<tr>\n",
       "  <th>Fuel Cost/Year</th>    <td>    0.0292</td> <td>    0.000</td> <td>   60.084</td> <td> 0.000</td> <td>    0.028</td> <td>    0.030</td>\n",
       "</tr>\n",
       "</table>\n",
       "<table class=\"simpletable\">\n",
       "<tr>\n",
       "  <th>Omnibus:</th>       <td>72934.517</td> <th>  Durbin-Watson:     </th>   <td>   0.757</td>   \n",
       "</tr>\n",
       "<tr>\n",
       "  <th>Prob(Omnibus):</th>  <td> 0.000</td>   <th>  Jarque-Bera (JB):  </th> <td>287219470.909</td>\n",
       "</tr>\n",
       "<tr>\n",
       "  <th>Skew:</th>           <td>16.861</td>   <th>  Prob(JB):          </th>   <td>    0.00</td>   \n",
       "</tr>\n",
       "<tr>\n",
       "  <th>Kurtosis:</th>       <td>439.575</td>  <th>  Cond. No.          </th>   <td>2.54e+03</td>   \n",
       "</tr>\n",
       "</table><br/><br/>Notes:<br/>[1] R² is computed without centering (uncentered) since the model does not contain a constant.<br/>[2] Standard Errors assume that the covariance matrix of the errors is correctly specified.<br/>[3] The condition number is large, 2.54e+03. This might indicate that there are<br/>strong multicollinearity or other numerical problems."
      ],
      "text/plain": [
       "<class 'statsmodels.iolib.summary.Summary'>\n",
       "\"\"\"\n",
       "                                   OLS Regression Results                                   \n",
       "============================================================================================\n",
       "Dep. Variable:     CO2 Emission Grams/Mile   R-squared (uncentered):                   0.999\n",
       "Model:                                 OLS   Adj. R-squared (uncentered):              0.999\n",
       "Method:                      Least Squares   F-statistic:                          6.092e+06\n",
       "Date:                     Sat, 07 Nov 2020   Prob (F-statistic):                        0.00\n",
       "Time:                             17:03:31   Log-Likelihood:                     -1.5250e+05\n",
       "No. Observations:                    35952   AIC:                                  3.050e+05\n",
       "Df Residuals:                        35947   BIC:                                  3.050e+05\n",
       "Df Model:                                5                                                  \n",
       "Covariance Type:                 nonrobust                                                  \n",
       "=====================================================================================\n",
       "                        coef    std err          t      P>|t|      [0.025      0.975]\n",
       "-------------------------------------------------------------------------------------\n",
       "Year                  0.0630      0.001     74.153      0.000       0.061       0.065\n",
       "Cylinders             0.8873      0.081     10.952      0.000       0.729       1.046\n",
       "Fuel Barrels/Year    19.8588      0.059    337.001      0.000      19.743      19.974\n",
       "Combined MPG         -3.0509      0.043    -70.368      0.000      -3.136      -2.966\n",
       "Fuel Cost/Year        0.0292      0.000     60.084      0.000       0.028       0.030\n",
       "==============================================================================\n",
       "Omnibus:                    72934.517   Durbin-Watson:                   0.757\n",
       "Prob(Omnibus):                  0.000   Jarque-Bera (JB):        287219470.909\n",
       "Skew:                          16.861   Prob(JB):                         0.00\n",
       "Kurtosis:                     439.575   Cond. No.                     2.54e+03\n",
       "==============================================================================\n",
       "\n",
       "Notes:\n",
       "[1] R² is computed without centering (uncentered) since the model does not contain a constant.\n",
       "[2] Standard Errors assume that the covariance matrix of the errors is correctly specified.\n",
       "[3] The condition number is large, 2.54e+03. This might indicate that there are\n",
       "strong multicollinearity or other numerical problems.\n",
       "\"\"\""
      ]
     },
     "execution_count": 45,
     "metadata": {},
     "output_type": "execute_result"
    }
   ],
   "source": [
    "x_vehicles = vehicles['CO2 Emission Grams/Mile']\n",
    "y_vehicles = vehicles[['Year','Cylinders' ,'Fuel Barrels/Year','Combined MPG','Fuel Cost/Year']]\n",
    "model = sm.OLS(x_vehicles, y_vehicles).fit()\n",
    "model.summary()"
   ]
  },
  {
   "cell_type": "code",
   "execution_count": null,
   "metadata": {},
   "outputs": [],
   "source": [
    "\"\"\"\n",
    "The adjusted R-squared value is quite high which means that the results are quite realibale.\n",
    "The coeficients tells us that the most influent field is Fuel Barrels/Year with a big confidence level as well.\n",
    "The result should be trusted\n",
    "\"\"\""
   ]
  },
  {
   "cell_type": "code",
   "execution_count": 40,
   "metadata": {},
   "outputs": [
    {
     "name": "stderr",
     "output_type": "stream",
     "text": [
      "/usr/local/Cellar/jupyterlab/2.2.2/libexec/lib/python3.8/site-packages/seaborn/_decorators.py:36: FutureWarning: Pass the following variables as keyword args: x, y. From version 0.12, the only valid positional argument will be `data`, and passing other arguments without an explicit keyword will result in an error or misinterpretation.\n",
      "  warnings.warn(\n"
     ]
    },
    {
     "data": {
      "text/plain": [
       "<AxesSubplot:>"
      ]
     },
     "execution_count": 40,
     "metadata": {},
     "output_type": "execute_result"
    },
    {
     "data": {
      "image/png": "[encoded data removed]",
      "text/plain": [
       "<Figure size 432x288 with 1 Axes>"
      ]
     },
     "metadata": {
      "needs_background": "light"
     },
     "output_type": "display_data"
    }
   ],
   "source": [
    "# Your response here. \n",
    "\n",
    "sns.regplot(X,Y)"
   ]
  },
  {
   "cell_type": "code",
   "execution_count": null,
   "metadata": {},
   "outputs": [],
   "source": []
  },
  {
   "cell_type": "code",
   "execution_count": null,
   "metadata": {},
   "outputs": [],
   "source": []
  },
  {
   "cell_type": "markdown",
   "metadata": {},
   "source": [
    "## Bonus Challenge: Error Analysis"
   ]
  },
  {
   "cell_type": "markdown",
   "metadata": {},
   "source": [
    "I am suspicious about the last few parties I have thrown: it seems that the more people I invite the more people are unable to attend. To know if my hunch is supported by data, I have decided to do an analysis. I have collected my data in the table below, where X is the number of people I invited, and Y is the number of people who attended. \n",
    "\n",
    "|  X |  Y |\n",
    "|----|----|\n",
    "| 1  |  1 |\n",
    "| 3  |  2 |\n",
    "| 4  |  4 |\n",
    "| 6  |  4 |\n",
    "| 8  |  5 |\n",
    "| 9  |  7 |\n",
    "| 11 |  8 |\n",
    "| 14 |  13 |"
   ]
  },
  {
   "cell_type": "markdown",
   "metadata": {},
   "source": [
    "We want to know if the relationship modeled by the two random variables is linear or not, and therefore if it is appropriate to model it with a linear regression. \n",
    "First, build a dataframe with the data. "
   ]
  },
  {
   "cell_type": "code",
   "execution_count": 7,
   "metadata": {},
   "outputs": [],
   "source": [
    "# Your code here. "
   ]
  },
  {
   "cell_type": "markdown",
   "metadata": {},
   "source": [
    "Draw a dispersion diagram (scatter plot) for the data, and fit a regression line."
   ]
  },
  {
   "cell_type": "code",
   "execution_count": 1,
   "metadata": {},
   "outputs": [],
   "source": [
    "# Your code here."
   ]
  },
  {
   "cell_type": "markdown",
   "metadata": {},
   "source": [
    "What do you see? What does this plot tell you about the likely relationship between the variables? Print the results from your regression."
   ]
  },
  {
   "cell_type": "code",
   "execution_count": 2,
   "metadata": {},
   "outputs": [],
   "source": [
    "# Your response here. "
   ]
  },
  {
   "cell_type": "markdown",
   "metadata": {},
   "source": [
    "Do you see any problematic points, or outliers, in your data? Remove these points and recalculate your regression. Print the new dispersion diagram with your new model and the results of your model. "
   ]
  },
  {
   "cell_type": "code",
   "execution_count": 5,
   "metadata": {},
   "outputs": [],
   "source": [
    "# Your response here. "
   ]
  },
  {
   "cell_type": "markdown",
   "metadata": {},
   "source": [
    "What changed? Based on the results of the two models and your graphs, what can you say about the form of the data with the problematic point and without it?"
   ]
  },
  {
   "cell_type": "code",
   "execution_count": null,
   "metadata": {},
   "outputs": [],
   "source": [
    "# Your response here. "
   ]
  }
 ],
 "metadata": {
  "kernelspec": {
   "display_name": "Python 3",
   "language": "python",
   "name": "python3"
  },
  "language_info": {
   "codemirror_mode": {
    "name": "ipython",
    "version": 3
   },
   "file_extension": ".py",
   "mimetype": "text/x-python",
   "name": "python",
   "nbconvert_exporter": "python",
   "pygments_lexer": "ipython3",
   "version": "3.8.5"
  }
 },
 "nbformat": 4,
 "nbformat_minor": 2
}
