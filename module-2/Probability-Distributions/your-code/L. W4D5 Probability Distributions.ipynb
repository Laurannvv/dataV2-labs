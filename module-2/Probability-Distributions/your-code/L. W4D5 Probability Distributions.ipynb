{
 "cells": [
  {
   "cell_type": "code",
   "execution_count": 26,
   "metadata": {},
   "outputs": [
    {
     "data": {
      "text/plain": [
       "0.8125"
      ]
     },
     "execution_count": 26,
     "metadata": {},
     "output_type": "execute_result"
    }
   ],
   "source": [
    "from scipy.stats import binom\n",
    "# Prob of | success in | trials, each trial has P_success of |\n",
    "#         v            v                                     v\n",
    "binom.pmf(1,           5,                                   0.5)\n",
    "# pmf = probability mass function\n",
    "#P(x>1) = P(x=2)+P(x=3)...+P(x=5)\n",
    "P_more_than_1 = sum([binom.pmf(x,5,0.5) for x in range(2,6)])\n",
    "P_more_than_1\n",
    "#P(x>1) = 1- ((Px=0)+P(x=1))"
   ]
  },
  {
   "cell_type": "code",
   "execution_count": 30,
   "metadata": {},
   "outputs": [
    {
     "data": {
      "text/plain": [
       "0.03231145107314174"
      ]
     },
     "execution_count": 30,
     "metadata": {},
     "output_type": "execute_result"
    }
   ],
   "source": [
    "from scipy.stats import geom\n",
    "# chance of needing | trials for first success, when P_success = |\n",
    "#                   v                                            v\n",
    "geom.pmf(           10,                                          0.1666)\n",
    "#geom.pmf(5, 0.5)"
   ]
  },
  {
   "cell_type": "code",
   "execution_count": null,
   "metadata": {},
   "outputs": [],
   "source": []
  },
  {
   "cell_type": "code",
   "execution_count": 31,
   "metadata": {},
   "outputs": [
    {
     "data": {
      "text/plain": [
       "0.25"
      ]
     },
     "execution_count": 31,
     "metadata": {},
     "output_type": "execute_result"
    }
   ],
   "source": [
    "from scipy.stats import uniform\n",
    "#  uniform between | and that +|\n",
    "#                  v           v\n",
    "uniform.cdf(  90,  0,          360) # cdf = continuous distribution fuction\n",
    "#              ^\n",
    "#give me P(x<= |)\n"
   ]
  },
  {
   "cell_type": "code",
   "execution_count": 1,
   "metadata": {},
   "outputs": [
    {
     "data": {
      "text/plain": [
       "0.01823062611754611"
      ]
     },
     "execution_count": 1,
     "metadata": {},
     "output_type": "execute_result"
    }
   ],
   "source": [
    "from scipy.stats import norm\n",
    "# P(x <= |), for normal dist with mean | and stddev |)\n",
    "#        v                             v            v\n",
    "norm.cdf(100.5,                        112,           9) - norm.cdf(99.5,112,9)"
   ]
  },
  {
   "cell_type": "code",
   "execution_count": null,
   "metadata": {},
   "outputs": [],
   "source": []
  }
 ],
 "metadata": {
  "kernelspec": {
   "display_name": "Python 3",
   "language": "python",
   "name": "python3"
  },
  "language_info": {
   "codemirror_mode": {
    "name": "ipython",
    "version": 3
   },
   "file_extension": ".py",
   "mimetype": "text/x-python",
   "name": "python",
   "nbconvert_exporter": "python",
   "pygments_lexer": "ipython3",
   "version": "3.8.5"
  }
 },
 "nbformat": 4,
 "nbformat_minor": 4
}
