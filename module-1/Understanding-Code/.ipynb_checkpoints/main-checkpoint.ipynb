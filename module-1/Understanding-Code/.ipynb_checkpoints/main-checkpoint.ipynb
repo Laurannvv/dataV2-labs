{
 "cells": [
  {
   "cell_type": "code",
   "execution_count": 1,
   "metadata": {},
   "outputs": [],
   "source": [
    "import random"
   ]
  },
  {
   "cell_type": "code",
   "execution_count": null,
   "metadata": {},
   "outputs": [],
   "source": [
    "test"
   ]
  },
  {
   "cell_type": "code",
   "execution_count": 2,
   "metadata": {},
   "outputs": [
    {
     "data": {
      "text/plain": [
       "'\\nThe two players decide in advance how many games they will play, which must be an even number. \\nThe codebreaker tries to guess the pattern, in both order and color, within eight to twelve turns. \\nEach guess is made by placing a row of code pegs on the decoding board. \\nOnce placed, the codemaker provides feedback by placing from zero to four key pegs in the small holes of the row with the guess. \\nA colored or black key peg is placed for each code peg from the guess which is correct in both color and position. \\nA white key peg indicates the existence of a correct color code peg placed in the wrong position.\\n\\n'"
      ]
     },
     "execution_count": 2,
     "metadata": {},
     "output_type": "execute_result"
    }
   ],
   "source": [
    "\"\"\"\n",
    "The two players decide in advance how many games they will play, which must be an even number. \n",
    "The codebreaker tries to guess the pattern, in both order and color, within eight to twelve turns. \n",
    "Each guess is made by placing a row of code pegs on the decoding board. \n",
    "Once placed, the codemaker provides feedback by placing from zero to four key pegs in the small holes of the row with the guess. \n",
    "A colored or black key peg is placed for each code peg from the guess which is correct in both color and position. \n",
    "A white key peg indicates the existence of a correct color code peg placed in the wrong position.\n",
    "\n",
    "\"\"\""
   ]
  },
  {
   "cell_type": "markdown",
   "metadata": {},
   "source": [
    "# # Pseudo code"
   ]
  },
  {
   "cell_type": "code",
   "execution_count": 3,
   "metadata": {},
   "outputs": [],
   "source": [
    "# n_games, n_guesses, role = input game configurations for number of games, number of guesses, initial roles\n",
    "\n",
    "# #Play game\n",
    "\n",
    "# score_machine = 0\n",
    "# games_played = 0\n",
    "# game_won = 'code not broken, play on'\n",
    "# assign first players role role_0 = role\n",
    "\n",
    "# roles = []\n",
    "\n",
    "# append machine_role to a list to get list of initial roles, 1 for codemaker, 2 for codebreaker. \n",
    "        \n",
    "# while games_played < int(n_games):  \n",
    "#     generate code\n",
    "#     games_played += 1\n",
    "#     guesses_taken = 0\n",
    "#     game_won = 'code not broken, play on'\n",
    "#     while code is not guesses and number of guesses taken less then agreed number of guesses: \n",
    "#         guesses_taken +=1 \n",
    "#         generate guess\n",
    "#         generate feed-back\n",
    "#         if int(roles[0]) == 1:\n",
    "#             score_player += 1\n",
    "#         else:\n",
    "#             score_machine += 1\n",
    "    \n",
    "#     if guesses_taken is maximum allowed and code is not guesses after max. number of guesses:\n",
    "#         if int(roles[0]) == 1:\n",
    "#             score_player += 1\n",
    "#         else:\n",
    "#             score_machine += 1\n",
    "    \n",
    "#     reverse roles   \n",
    "    \n",
    "# print(final scores and who won)"
   ]
  },
  {
   "cell_type": "markdown",
   "metadata": {},
   "source": [
    "# # Game Functions"
   ]
  },
  {
   "cell_type": "code",
   "execution_count": 20,
   "metadata": {},
   "outputs": [],
   "source": [
    "#game configuration\n",
    "\n",
    "choice_player_dict_glob = {1:'codemaker', 0:'codebreaker'}\n",
    "\n",
    "def game_config():\n",
    "    \"\"\"\n",
    "    \n",
    "    This function cinfigures the game: \n",
    "    Number of games to play, number of guess to take, initial role of the users - code maker or code breaker\n",
    "    \n",
    "    \"\"\"\n",
    "    \n",
    "    num_games = 1\n",
    "    choice_player = 3\n",
    "    num_guesses = 4\n",
    "    \n",
    "    choice_player_dict = choice_player_dict_glob\n",
    "    \n",
    "    while int(num_games) % 2 > 0:\n",
    "        num_games = input(\"Enter number of games - must be an even number\\n\")\n",
    "        \n",
    "    while int(num_guesses) not in [6, 8, 10, 12]:\n",
    "        num_guesses = input(\"Choose number of guesses: 6, 8, 10 or 12\\n\")\n",
    "            \n",
    "    while int(choice_player) not in [1,0]:\n",
    "        choice_player = input(\"Choose your starting role: 1 for codemaker and 0 for codebreaker\\n\")\n",
    "    \n",
    "    lst_res = [num_games, num_guesses, choice_player]\n",
    "    \n",
    "    return lst_res\n",
    "\n",
    "#game_config()"
   ]
  },
  {
   "cell_type": "code",
   "execution_count": 21,
   "metadata": {},
   "outputs": [],
   "source": [
    "#code choice function\n",
    "\n",
    "set_colors_dict = {1:'red', 2:'green', 3:'blue', 4:'yellow', 5:'black', 6:'white'}\n",
    "\n",
    "def code_choice(ch_pl):\n",
    "    \"\"\"\n",
    "    \n",
    "    This function produces feed-back for a guess\n",
    "    \n",
    "    \"\"\"\n",
    "    code_val = ['n','o','n','e']\n",
    "    if int(ch_pl) == 1:\n",
    "        while set(code_val).issubset(set(set_colors_dict.values())) == False or len(code_val) != 4:\n",
    "            code_val_s = input(\"Enter code\\n\")\n",
    "            code_val = code_val_s.replace(' ','').split(\",\")\n",
    "        code = [el for el in code_val]\n",
    "    else:\n",
    "        code_num = [random.randint(1,4) for i in range(4)]\n",
    "        code = [set_colors_dict[k] for k in code_num]\n",
    "      \n",
    "    return code\n",
    "\n",
    "#code_choice('2')"
   ]
  },
  {
   "cell_type": "code",
   "execution_count": 27,
   "metadata": {},
   "outputs": [],
   "source": [
    "score = 0\n",
    "\n",
    "def guess(ch_pl):\n",
    "    \"\"\"\n",
    "    \n",
    "    This function gets an input for a guess\n",
    "    \n",
    "    \"\"\"\n",
    "    code_val = ['n','o','n','e']\n",
    "    \n",
    "    if int(ch_pl) == 0:\n",
    "        while set(code_val).issubset(set(set_colors_dict.values())) == False or len(code_val) != 4:\n",
    "            code_val_s = input(\"Enter guess\\n\")\n",
    "            code_val = code_val_s.replace(' ','').split(\",\")\n",
    "        code = [el for el in code_val]\n",
    "    else:\n",
    "        code_num = [random.randint(1,4) for i in range(4)]\n",
    "        code = [set_colors_dict[k] for k in code_num]\n",
    "    \n",
    "    return code\n",
    "\n",
    "#guess()"
   ]
  },
  {
   "cell_type": "code",
   "execution_count": 23,
   "metadata": {},
   "outputs": [],
   "source": [
    "def feed_back(code, guess_code):\n",
    "    \"\"\"\n",
    "    \n",
    "    This function defines feed-back from the guess\n",
    "    \n",
    "    \"\"\"\n",
    "    feed_back = []\n",
    "    guessed_or_not = 'code not broken, play on'\n",
    "    feed_back_dict = {}\n",
    "    \n",
    "    for el in guess_code:\n",
    "        feed_back_dict[el] = 'blank'\n",
    "    \n",
    "    if code == guess_code:\n",
    "        guessed_or_not = 'code is broken'\n",
    "        feed_back = ['blank','blank','blank','blank']\n",
    "    else:\n",
    "        for i, el in enumerate(guess_code):\n",
    "            if el == code[i]:\n",
    "                feed_back.append(\"red\")\n",
    "                feed_back_dict[el] = \"red\"\n",
    "        \n",
    "        for i, el in enumerate(guess_code):\n",
    "            print \n",
    "            if (el in code) == True and feed_back_dict[el] != \"red\" and feed_back_dict[el] != \"white\":\n",
    "                feed_back.append(\"white\")\n",
    "                feed_back_dict[el] = \"white\"\n",
    "    #print(\"code in play\", code)\n",
    "    print(\"Feed-back is:\")\n",
    "    return feed_back, guessed_or_not"
   ]
  },
  {
   "cell_type": "code",
   "execution_count": 8,
   "metadata": {},
   "outputs": [],
   "source": [
    "#feed_back(['red', 'red', 'green', 'green'],['red', 'red', 'red', 'green'])"
   ]
  },
  {
   "cell_type": "markdown",
   "metadata": {},
   "source": [
    "## Game play"
   ]
  },
  {
   "cell_type": "code",
   "execution_count": 33,
   "metadata": {},
   "outputs": [
    {
     "name": "stdout",
     "output_type": "stream",
     "text": [
      "Enter number of games - must be an even number\n",
      "2\n",
      "Choose number of guesses: 6, 8, 10 or 12\n",
      "6\n",
      "Choose your starting role: 1 for codemaker and 0 for codebreaker\n",
      "0\n"
     ]
    }
   ],
   "source": [
    "n_games, n_guesses, role = game_config()"
   ]
  },
  {
   "cell_type": "code",
   "execution_count": 34,
   "metadata": {},
   "outputs": [
    {
     "name": "stdout",
     "output_type": "stream",
     "text": [
      "Code and Guess are a combination of any of four colours red, green, blue, yellow, black, white.\n",
      "Duplicates allowed, separate with comas.\n",
      "\n",
      "\n",
      "Game 1\n",
      "\n",
      "You are a codebreaker\n",
      "\n",
      "guess 1\n",
      "Enter guess\n",
      "red,red,red,red\n",
      "['red', 'red', 'red', 'red']\n",
      "Feed-back is:\n",
      "['red'] code not broken, play on\n",
      "\n",
      "guess 2\n"
     ]
    },
    {
     "ename": "KeyboardInterrupt",
     "evalue": "Interrupted by user",
     "output_type": "error",
     "traceback": [
      "\u001b[1;31m---------------------------------------------------------------------------\u001b[0m",
      "\u001b[1;31mKeyboardInterrupt\u001b[0m                         Traceback (most recent call last)",
      "\u001b[1;32m<ipython-input-34-70196eca791c>\u001b[0m in \u001b[0;36m<module>\u001b[1;34m\u001b[0m\n\u001b[0;32m     32\u001b[0m         \u001b[0mprint\u001b[0m\u001b[1;33m(\u001b[0m\u001b[1;34m\"\\nguess \"\u001b[0m\u001b[1;33m+\u001b[0m\u001b[0mstr\u001b[0m\u001b[1;33m(\u001b[0m\u001b[0mguesses_taken\u001b[0m\u001b[1;33m)\u001b[0m\u001b[1;33m)\u001b[0m\u001b[1;33m\u001b[0m\u001b[1;33m\u001b[0m\u001b[0m\n\u001b[0;32m     33\u001b[0m \u001b[1;33m\u001b[0m\u001b[0m\n\u001b[1;32m---> 34\u001b[1;33m         \u001b[0mguess_in_play\u001b[0m \u001b[1;33m=\u001b[0m \u001b[0mguess\u001b[0m\u001b[1;33m(\u001b[0m\u001b[0mroles\u001b[0m\u001b[1;33m[\u001b[0m\u001b[1;36m0\u001b[0m\u001b[1;33m]\u001b[0m\u001b[1;33m)\u001b[0m\u001b[1;33m\u001b[0m\u001b[1;33m\u001b[0m\u001b[0m\n\u001b[0m\u001b[0;32m     35\u001b[0m \u001b[1;33m\u001b[0m\u001b[0m\n\u001b[0;32m     36\u001b[0m         \u001b[0mprint\u001b[0m\u001b[1;33m(\u001b[0m\u001b[0mguess_in_play\u001b[0m\u001b[1;33m)\u001b[0m\u001b[1;33m\u001b[0m\u001b[1;33m\u001b[0m\u001b[0m\n",
      "\u001b[1;32m<ipython-input-27-e3208c86b4cd>\u001b[0m in \u001b[0;36mguess\u001b[1;34m(ch_pl)\u001b[0m\n\u001b[0;32m     11\u001b[0m     \u001b[1;32mif\u001b[0m \u001b[0mint\u001b[0m\u001b[1;33m(\u001b[0m\u001b[0mch_pl\u001b[0m\u001b[1;33m)\u001b[0m \u001b[1;33m==\u001b[0m \u001b[1;36m0\u001b[0m\u001b[1;33m:\u001b[0m\u001b[1;33m\u001b[0m\u001b[1;33m\u001b[0m\u001b[0m\n\u001b[0;32m     12\u001b[0m         \u001b[1;32mwhile\u001b[0m \u001b[0mset\u001b[0m\u001b[1;33m(\u001b[0m\u001b[0mcode_val\u001b[0m\u001b[1;33m)\u001b[0m\u001b[1;33m.\u001b[0m\u001b[0missubset\u001b[0m\u001b[1;33m(\u001b[0m\u001b[0mset\u001b[0m\u001b[1;33m(\u001b[0m\u001b[0mset_colors_dict\u001b[0m\u001b[1;33m.\u001b[0m\u001b[0mvalues\u001b[0m\u001b[1;33m(\u001b[0m\u001b[1;33m)\u001b[0m\u001b[1;33m)\u001b[0m\u001b[1;33m)\u001b[0m \u001b[1;33m==\u001b[0m \u001b[1;32mFalse\u001b[0m \u001b[1;32mor\u001b[0m \u001b[0mlen\u001b[0m\u001b[1;33m(\u001b[0m\u001b[0mcode_val\u001b[0m\u001b[1;33m)\u001b[0m \u001b[1;33m!=\u001b[0m \u001b[1;36m4\u001b[0m\u001b[1;33m:\u001b[0m\u001b[1;33m\u001b[0m\u001b[1;33m\u001b[0m\u001b[0m\n\u001b[1;32m---> 13\u001b[1;33m             \u001b[0mcode_val_s\u001b[0m \u001b[1;33m=\u001b[0m \u001b[0minput\u001b[0m\u001b[1;33m(\u001b[0m\u001b[1;34m\"Enter guess\\n\"\u001b[0m\u001b[1;33m)\u001b[0m\u001b[1;33m\u001b[0m\u001b[1;33m\u001b[0m\u001b[0m\n\u001b[0m\u001b[0;32m     14\u001b[0m             \u001b[0mcode_val\u001b[0m \u001b[1;33m=\u001b[0m \u001b[0mcode_val_s\u001b[0m\u001b[1;33m.\u001b[0m\u001b[0mreplace\u001b[0m\u001b[1;33m(\u001b[0m\u001b[1;34m' '\u001b[0m\u001b[1;33m,\u001b[0m\u001b[1;34m''\u001b[0m\u001b[1;33m)\u001b[0m\u001b[1;33m.\u001b[0m\u001b[0msplit\u001b[0m\u001b[1;33m(\u001b[0m\u001b[1;34m\",\"\u001b[0m\u001b[1;33m)\u001b[0m\u001b[1;33m\u001b[0m\u001b[1;33m\u001b[0m\u001b[0m\n\u001b[0;32m     15\u001b[0m         \u001b[0mcode\u001b[0m \u001b[1;33m=\u001b[0m \u001b[1;33m[\u001b[0m\u001b[0mel\u001b[0m \u001b[1;32mfor\u001b[0m \u001b[0mel\u001b[0m \u001b[1;32min\u001b[0m \u001b[0mcode_val\u001b[0m\u001b[1;33m]\u001b[0m\u001b[1;33m\u001b[0m\u001b[1;33m\u001b[0m\u001b[0m\n",
      "\u001b[1;32m~\\Anaconda3\\lib\\site-packages\\ipykernel\\kernelbase.py\u001b[0m in \u001b[0;36mraw_input\u001b[1;34m(self, prompt)\u001b[0m\n\u001b[0;32m    858\u001b[0m                 \u001b[1;34m\"raw_input was called, but this frontend does not support input requests.\"\u001b[0m\u001b[1;33m\u001b[0m\u001b[1;33m\u001b[0m\u001b[0m\n\u001b[0;32m    859\u001b[0m             )\n\u001b[1;32m--> 860\u001b[1;33m         return self._input_request(str(prompt),\n\u001b[0m\u001b[0;32m    861\u001b[0m             \u001b[0mself\u001b[0m\u001b[1;33m.\u001b[0m\u001b[0m_parent_ident\u001b[0m\u001b[1;33m,\u001b[0m\u001b[1;33m\u001b[0m\u001b[1;33m\u001b[0m\u001b[0m\n\u001b[0;32m    862\u001b[0m             \u001b[0mself\u001b[0m\u001b[1;33m.\u001b[0m\u001b[0m_parent_header\u001b[0m\u001b[1;33m,\u001b[0m\u001b[1;33m\u001b[0m\u001b[1;33m\u001b[0m\u001b[0m\n",
      "\u001b[1;32m~\\Anaconda3\\lib\\site-packages\\ipykernel\\kernelbase.py\u001b[0m in \u001b[0;36m_input_request\u001b[1;34m(self, prompt, ident, parent, password)\u001b[0m\n\u001b[0;32m    902\u001b[0m             \u001b[1;32mexcept\u001b[0m \u001b[0mKeyboardInterrupt\u001b[0m\u001b[1;33m:\u001b[0m\u001b[1;33m\u001b[0m\u001b[1;33m\u001b[0m\u001b[0m\n\u001b[0;32m    903\u001b[0m                 \u001b[1;31m# re-raise KeyboardInterrupt, to truncate traceback\u001b[0m\u001b[1;33m\u001b[0m\u001b[1;33m\u001b[0m\u001b[1;33m\u001b[0m\u001b[0m\n\u001b[1;32m--> 904\u001b[1;33m                 \u001b[1;32mraise\u001b[0m \u001b[0mKeyboardInterrupt\u001b[0m\u001b[1;33m(\u001b[0m\u001b[1;34m\"Interrupted by user\"\u001b[0m\u001b[1;33m)\u001b[0m \u001b[1;32mfrom\u001b[0m \u001b[1;32mNone\u001b[0m\u001b[1;33m\u001b[0m\u001b[1;33m\u001b[0m\u001b[0m\n\u001b[0m\u001b[0;32m    905\u001b[0m             \u001b[1;32mexcept\u001b[0m \u001b[0mException\u001b[0m \u001b[1;32mas\u001b[0m \u001b[0me\u001b[0m\u001b[1;33m:\u001b[0m\u001b[1;33m\u001b[0m\u001b[1;33m\u001b[0m\u001b[0m\n\u001b[0;32m    906\u001b[0m                 \u001b[0mself\u001b[0m\u001b[1;33m.\u001b[0m\u001b[0mlog\u001b[0m\u001b[1;33m.\u001b[0m\u001b[0mwarning\u001b[0m\u001b[1;33m(\u001b[0m\u001b[1;34m\"Invalid Message:\"\u001b[0m\u001b[1;33m,\u001b[0m \u001b[0mexc_info\u001b[0m\u001b[1;33m=\u001b[0m\u001b[1;32mTrue\u001b[0m\u001b[1;33m)\u001b[0m\u001b[1;33m\u001b[0m\u001b[1;33m\u001b[0m\u001b[0m\n",
      "\u001b[1;31mKeyboardInterrupt\u001b[0m: Interrupted by user"
     ]
    }
   ],
   "source": [
    "score_player = 0\n",
    "\n",
    "score_machine = 0\n",
    "\n",
    "games_played = 0\n",
    "\n",
    "game_won = 'code not broken, play on'\n",
    "\n",
    "roles = []\n",
    "\n",
    "roles.append(int(role))\n",
    "\n",
    "for key in choice_player_dict_glob.keys():\n",
    "    if key not in roles:\n",
    "        roles.append(int(key))\n",
    "\n",
    "print(\"Code and Guess are a combination of any of four colours red, green, blue, yellow, black, white.\\nDuplicates allowed, separate with comas.\\n\")\n",
    "        \n",
    "for games_played in(range(1, int(n_games)+1)):  \n",
    "    code_in_play = code_choice(roles[0])\n",
    "    \n",
    "    guesses_taken = 0\n",
    "    \n",
    "    game_won = 'code not broken, play on'\n",
    "    \n",
    "    print(\"\\nGame \"+str(games_played))\n",
    "    \n",
    "    print(\"\\nYou are a\",choice_player_dict_glob[int(roles[0])]) \n",
    "   \n",
    "    for guesses_taken in range(1, int(n_guesses) + 1): \n",
    "        \n",
    "        print(\"\\nguess \"+str(guesses_taken))\n",
    "        \n",
    "        guess_in_play = guess(roles[0])\n",
    "        \n",
    "        print(guess_in_play)\n",
    "        \n",
    "        feedbk, game_won = feed_back(code_in_play, guess_in_play)\n",
    "        \n",
    "        print(feedbk, game_won)\n",
    "        \n",
    "        score_player += 1*int(roles[0])\n",
    "        score_machine += 1*int(roles[1])\n",
    "        \n",
    "        if game_won != 'code not broken, play on':\n",
    "            break\n",
    "    \n",
    "    if guesses_taken == int(n_guesses) and (game_won == 'code not broken, play on'):\n",
    "        score_player += 1*int(roles[0])\n",
    "        score_machine += 1*int(roles[1])\n",
    "    \n",
    "    roles.reverse()\n",
    "    \n",
    "    print(\"\\n\\nYour score\",score_player,\"\\nMachine score\",score_machine)\n",
    "    \n",
    "print(\"\\nCode in play\", code_in_play) \n",
    "    \n",
    "if score_player == score_machine:\n",
    "    print(\"\\nIt's a tie\")\n",
    "elif score_player > score_machine:\n",
    "    print(\"\\nYou won\")\n",
    "else:\n",
    "    print(\"\\nMachine won\")\n",
    "    "
   ]
  }
 ],
 "metadata": {
  "kernelspec": {
   "display_name": "Python 3",
   "language": "python",
   "name": "python3"
  },
  "language_info": {
   "codemirror_mode": {
    "name": "ipython",
    "version": 3
   },
   "file_extension": ".py",
   "mimetype": "text/x-python",
   "name": "python",
   "nbconvert_exporter": "python",
   "pygments_lexer": "ipython3",
   "version": "3.8.5"
  }
 },
 "nbformat": 4,
 "nbformat_minor": 4
}
