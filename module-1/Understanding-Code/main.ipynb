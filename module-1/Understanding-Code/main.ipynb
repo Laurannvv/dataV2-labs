{
 "cells": [
  {
   "cell_type": "code",
   "execution_count": 12,
   "metadata": {},
   "outputs": [],
   "source": [
    "import random"
   ]
  },
  {
   "cell_type": "code",
   "execution_count": 13,
   "metadata": {},
   "outputs": [
    {
     "ename": "NameError",
     "evalue": "name 'test' is not defined",
     "output_type": "error",
     "traceback": [
      "\u001b[0;31m---------------------------------------------------------------------------\u001b[0m",
      "\u001b[0;31mNameError\u001b[0m                                 Traceback (most recent call last)",
      "\u001b[0;32m<ipython-input-13-4e1243bd22c6>\u001b[0m in \u001b[0;36m<module>\u001b[0;34m\u001b[0m\n\u001b[0;32m----> 1\u001b[0;31m \u001b[0mtest\u001b[0m\u001b[0;34m\u001b[0m\u001b[0;34m\u001b[0m\u001b[0m\n\u001b[0m",
      "\u001b[0;31mNameError\u001b[0m: name 'test' is not defined"
     ]
    }
   ],
   "source": [
    "test"
   ]
  },
  {
   "cell_type": "code",
   "execution_count": 14,
   "metadata": {},
   "outputs": [
    {
     "data": {
      "text/plain": [
       "'\\nThe two players decide in advance how many games they will play, which must be an even number. \\nThe codebreaker tries to guess the pattern, in both order and color, within eight to twelve turns. \\nEach guess is made by placing a row of code pegs on the decoding board. \\nOnce placed, the codemaker provides feedback by placing from zero to four key pegs in the small holes of the row with the guess. \\nA colored or black key peg is placed for each code peg from the guess which is correct in both color and position. \\nA white key peg indicates the existence of a correct color code peg placed in the wrong position.\\n\\n'"
      ]
     },
     "execution_count": 14,
     "metadata": {},
     "output_type": "execute_result"
    }
   ],
   "source": [
    "\"\"\"\n",
    "The two players decide in advance how many games they will play, which must be an even number. \n",
    "The codebreaker tries to guess the pattern, in both order and color, within eight to twelve turns. \n",
    "Each guess is made by placing a row of code pegs on the decoding board. \n",
    "Once placed, the codemaker provides feedback by placing from zero to four key pegs in the small holes of the row with the guess. \n",
    "A colored or black key peg is placed for each code peg from the guess which is correct in both color and position. \n",
    "A white key peg indicates the existence of a correct color code peg placed in the wrong position.\n",
    "\n",
    "\"\"\""
   ]
  },
  {
   "cell_type": "markdown",
   "metadata": {},
   "source": [
    "# # Pseudo code"
   ]
  },
  {
   "cell_type": "code",
   "execution_count": 15,
   "metadata": {},
   "outputs": [],
   "source": [
    "# n_games, n_guesses, role = input game configurations for number of games, number of guesses, initial roles\n",
    "\n",
    "# #Play game\n",
    "\n",
    "# score_machine = 0\n",
    "# games_played = 0\n",
    "# game_won = 'code not broken, play on'\n",
    "# assign first players role role_0 = role\n",
    "\n",
    "# roles = []\n",
    "\n",
    "# append machine_role to a list to get list of initial roles, 1 for codemaker, 2 for codebreaker. \n",
    "        \n",
    "# while games_played < int(n_games):  \n",
    "#     generate code\n",
    "#     games_played += 1\n",
    "#     guesses_taken = 0\n",
    "#     game_won = 'code not broken, play on'\n",
    "#     while code is not guesses and number of guesses taken less then agreed number of guesses: \n",
    "#         guesses_taken +=1 \n",
    "#         generate guess\n",
    "#         generate feed-back\n",
    "#         if int(roles[0]) == 1:\n",
    "#             score_player += 1\n",
    "#         else:\n",
    "#             score_machine += 1\n",
    "    \n",
    "#     if guesses_taken is maximum allowed and code is not guesses after max. number of guesses:\n",
    "#         if int(roles[0]) == 1:\n",
    "#             score_player += 1\n",
    "#         else:\n",
    "#             score_machine += 1\n",
    "    \n",
    "#     reverse roles   \n",
    "    \n",
    "# print(final scores and who won)"
   ]
  },
  {
   "cell_type": "markdown",
   "metadata": {},
   "source": [
    "# # Game Functions"
   ]
  },
  {
   "cell_type": "code",
   "execution_count": 16,
   "metadata": {},
   "outputs": [],
   "source": [
    "#game configuration\n",
    "\n",
    "choice_player_dict_glob = {1:'codemaker', 0:'codebreaker'}\n",
    "\n",
    "def game_config():\n",
    "    \"\"\"\n",
    "    \n",
    "    This function cinfigures the game: \n",
    "    Number of games to play, number of guess to take, initial role of the users - code maker or code breaker\n",
    "    \n",
    "    \"\"\"\n",
    "    \n",
    "    num_games = 1\n",
    "    choice_player = 3\n",
    "    num_guesses = 4\n",
    "    \n",
    "    choice_player_dict = choice_player_dict_glob\n",
    "    \n",
    "    while int(num_games) % 2 > 0:\n",
    "        num_games = input(\"Enter number of games - must be an even number\\n\")\n",
    "        \n",
    "    while int(num_guesses) not in [6, 8, 10, 12]:\n",
    "        num_guesses = input(\"Choose number of guesses: 6, 8, 10 or 12\\n\")\n",
    "            \n",
    "    while int(choice_player) not in [1,0]:\n",
    "        choice_player = input(\"Choose your starting role: 1 for codemaker and 0 for codebreaker\\n\")\n",
    "    \n",
    "    lst_res = [num_games, num_guesses, choice_player]\n",
    "    \n",
    "    return lst_res\n",
    "\n",
    "#game_config()"
   ]
  },
  {
   "cell_type": "code",
   "execution_count": 17,
   "metadata": {},
   "outputs": [],
   "source": [
    "#code choice function\n",
    "\n",
    "set_colors_dict = {1:'red', 2:'green', 3:'blue', 4:'yellow', 5:'black', 6:'white'}\n",
    "\n",
    "def code_choice(ch_pl):\n",
    "    \"\"\"\n",
    "    \n",
    "    This function produces feed-back for a guess\n",
    "    \n",
    "    \"\"\"\n",
    "    code_val = ['n','o','n','e']\n",
    "    if int(ch_pl) == 1:\n",
    "        while set(code_val).issubset(set(set_colors_dict.values())) == False or len(code_val) != 4:\n",
    "            code_val_s = input(\"Enter code\\n\")\n",
    "            code_val = code_val_s.replace(' ','').split(\",\")\n",
    "        code = [el for el in code_val]\n",
    "    else:\n",
    "        code_num = [random.randint(1,4) for i in range(4)]\n",
    "        code = [set_colors_dict[k] for k in code_num]\n",
    "      \n",
    "    return code\n",
    "\n",
    "#code_choice('2')"
   ]
  },
  {
   "cell_type": "code",
   "execution_count": 18,
   "metadata": {},
   "outputs": [],
   "source": [
    "score = 0\n",
    "\n",
    "def guess(ch_pl):\n",
    "    \"\"\"\n",
    "    \n",
    "    This function gets an input for a guess\n",
    "    \n",
    "    \"\"\"\n",
    "    code_val = ['n','o','n','e']\n",
    "    \n",
    "    if int(ch_pl) == 0:\n",
    "        while set(code_val).issubset(set(set_colors_dict.values())) == False or len(code_val) != 4:\n",
    "            code_val_s = input(\"Enter guess\\n\")\n",
    "            code_val = code_val_s.replace(' ','').split(\",\")\n",
    "        code = [el for el in code_val]\n",
    "    else:\n",
    "        code_num = [random.randint(1,4) for i in range(4)]\n",
    "        code = [set_colors_dict[k] for k in code_num]\n",
    "    \n",
    "    return code\n",
    "\n",
    "#guess()"
   ]
  },
  {
   "cell_type": "code",
   "execution_count": 24,
   "metadata": {},
   "outputs": [],
   "source": [
    "def feed_back(code, guess_code):\n",
    "    \"\"\"\n",
    "    \n",
    "    This function defines feed-back from the guess\n",
    "    \n",
    "    \"\"\"\n",
    "    feed_back = []\n",
    "    guessed_or_not = 'code not broken, play on'\n",
    "    feed_back_dict = {}\n",
    "    \n",
    "    for el in guess_code:\n",
    "        feed_back_dict[el] = 'blank'\n",
    "    \n",
    "    if code == guess_code:\n",
    "        guessed_or_not = 'code is broken'\n",
    "        feed_back = ['blank','blank','blank','blank']\n",
    "    else:\n",
    "        for i, el in enumerate(guess_code):\n",
    "            if el == code[i]:\n",
    "                feed_back.append(\"red\")\n",
    "                feed_back_dict[el] = \"red\"\n",
    "        \n",
    "        for i, el in enumerate(guess_code):\n",
    "            print \n",
    "            if (el in code) == True and feed_back_dict[el] != \"red\" and feed_back_dict[el] != \"white\":\n",
    "                feed_back.append(\"white\")\n",
    "                feed_back_dict[el] = \"white\"\n",
    "    #print(\"code in play\", code)\n",
    "    print(\"Feed-back is:\")\n",
    "    return feed_back, guessed_or_not"
   ]
  },
  {
   "cell_type": "code",
   "execution_count": 25,
   "metadata": {},
   "outputs": [],
   "source": [
    "#feed_back(['red', 'red', 'green', 'green'],['red', 'red', 'red', 'green'])"
   ]
  },
  {
   "cell_type": "markdown",
   "metadata": {},
   "source": [
    "## Game play"
   ]
  },
  {
   "cell_type": "code",
   "execution_count": 30,
   "metadata": {},
   "outputs": [
    {
     "name": "stdout",
     "output_type": "stream",
     "text": [
      "Enter number of games - must be an even number\n",
      "3\n",
      "Enter number of games - must be an even number\n",
      "5\n",
      "Enter number of games - must be an even number\n",
      "5\n",
      "Enter number of games - must be an even number\n",
      "4\n",
      "Choose number of guesses: 6, 8, 10 or 12\n",
      "8\n",
      "Choose your starting role: 1 for codemaker and 0 for codebreaker\n",
      "1\n"
     ]
    }
   ],
   "source": [
    "n_games, n_guesses, role = game_config()"
   ]
  },
  {
   "cell_type": "code",
   "execution_count": null,
   "metadata": {},
   "outputs": [
    {
     "name": "stdout",
     "output_type": "stream",
     "text": [
      "Code and Guess are a combination of any of four colours red, green, blue, yellow, black, white.\n",
      "Duplicates allowed, separate with comas.\n",
      "\n",
      "Enter code\n",
      "Blue, red, green, yellow\n",
      "Enter code\n",
      "blue, red, green, yellow\n",
      "\n",
      "Game 1\n",
      "\n",
      "You are a codemaker\n",
      "\n",
      "guess 1\n",
      "['red', 'red', 'red', 'green']\n",
      "Feed-back is:\n",
      "['red', 'white'] code not broken, play on\n",
      "\n",
      "guess 2\n",
      "['blue', 'green', 'yellow', 'green']\n",
      "Feed-back is:\n",
      "['red', 'white', 'white'] code not broken, play on\n",
      "\n",
      "guess 3\n",
      "['green', 'red', 'blue', 'red']\n",
      "Feed-back is:\n",
      "['red', 'white', 'white'] code not broken, play on\n",
      "\n",
      "guess 4\n",
      "['red', 'yellow', 'red', 'green']\n",
      "Feed-back is:\n",
      "['white', 'white', 'white'] code not broken, play on\n",
      "\n",
      "guess 5\n",
      "['green', 'blue', 'yellow', 'red']\n",
      "Feed-back is:\n",
      "['white', 'white', 'white', 'white'] code not broken, play on\n",
      "\n",
      "guess 6\n",
      "['blue', 'green', 'red', 'yellow']\n",
      "Feed-back is:\n",
      "['red', 'red', 'white', 'white'] code not broken, play on\n",
      "\n",
      "guess 7\n",
      "['red', 'blue', 'yellow', 'yellow']\n",
      "Feed-back is:\n",
      "['red', 'white', 'white'] code not broken, play on\n",
      "\n",
      "guess 8\n",
      "['blue', 'yellow', 'red', 'green']\n",
      "Feed-back is:\n",
      "['red', 'white', 'white', 'white'] code not broken, play on\n",
      "\n",
      "\n",
      "Your score 9 \n",
      "Machine score 0\n",
      "\n",
      "Game 2\n",
      "\n",
      "You are a codebreaker\n",
      "\n",
      "guess 1\n"
     ]
    }
   ],
   "source": [
    "score_player = 0\n",
    "\n",
    "score_machine = 0\n",
    "\n",
    "games_played = 0\n",
    "\n",
    "game_won = 'code not broken, play on'\n",
    "\n",
    "roles = []\n",
    "\n",
    "roles.append(int(role))\n",
    "\n",
    "for key in choice_player_dict_glob.keys():\n",
    "    if key not in roles:\n",
    "        roles.append(int(key))\n",
    "\n",
    "print(\"Code and Guess are a combination of any of four colours red, green, blue, yellow, black, white.\\nDuplicates allowed, separate with comas.\\n\")\n",
    "        \n",
    "for games_played in(range(1, int(n_games)+1)):  \n",
    "    code_in_play = code_choice(roles[0])\n",
    "    \n",
    "    guesses_taken = 0\n",
    "    \n",
    "    game_won = 'code not broken, play on'\n",
    "    \n",
    "    print(\"\\nGame \"+str(games_played))\n",
    "    \n",
    "    print(\"\\nYou are a\",choice_player_dict_glob[int(roles[0])]) \n",
    "   \n",
    "    for guesses_taken in range(1, int(n_guesses) + 1): \n",
    "        \n",
    "        print(\"\\nguess \"+str(guesses_taken))\n",
    "        \n",
    "        guess_in_play = guess(roles[0])\n",
    "        \n",
    "        print(guess_in_play)\n",
    "        \n",
    "        feedbk, game_won = feed_back(code_in_play, guess_in_play)\n",
    "        \n",
    "        print(feedbk, game_won)\n",
    "        \n",
    "        score_player += 1*int(roles[0])\n",
    "        score_machine += 1*int(roles[1])\n",
    "        \n",
    "        if game_won != 'code not broken, play on':\n",
    "            break\n",
    "    \n",
    "    if guesses_taken == int(n_guesses) and (game_won == 'code not broken, play on'):\n",
    "        score_player += 1*int(roles[0])\n",
    "        score_machine += 1*int(roles[1])\n",
    "    \n",
    "    roles.reverse()\n",
    "    \n",
    "    print(\"\\n\\nYour score\",score_player,\"\\nMachine score\",score_machine)\n",
    "    \n",
    "print(\"\\nCode in play\", code_in_play) \n",
    "    \n",
    "if score_player == score_machine:\n",
    "    print(\"\\nIt's a tie\")\n",
    "elif score_player > score_machine:\n",
    "    print(\"\\nYou won\")\n",
    "else:\n",
    "    print(\"\\nMachine won\")\n",
    "    "
   ]
  },
  {
   "cell_type": "code",
   "execution_count": null,
   "metadata": {},
   "outputs": [],
   "source": []
  },
  {
   "cell_type": "code",
   "execution_count": null,
   "metadata": {},
   "outputs": [],
   "source": []
  }
 ],
 "metadata": {
  "kernelspec": {
   "display_name": "Python 3",
   "language": "python",
   "name": "python3"
  },
  "language_info": {
   "codemirror_mode": {
    "name": "ipython",
    "version": 3
   },
   "file_extension": ".py",
   "mimetype": "text/x-python",
   "name": "python",
   "nbconvert_exporter": "python",
   "pygments_lexer": "ipython3",
   "version": "3.8.5"
  }
 },
 "nbformat": 4,
 "nbformat_minor": 4
}
