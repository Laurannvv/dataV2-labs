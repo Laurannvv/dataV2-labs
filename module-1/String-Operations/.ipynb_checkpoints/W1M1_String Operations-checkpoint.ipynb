{
 "cells": [
  {
   "cell_type": "code",
   "execution_count": 1,
   "metadata": {},
   "outputs": [],
   "source": [
    "word = 'automobile'"
   ]
  },
  {
   "cell_type": "code",
   "execution_count": 2,
   "metadata": {},
   "outputs": [
    {
     "data": {
      "text/plain": [
       "'elibomotua'"
      ]
     },
     "execution_count": 2,
     "metadata": {},
     "output_type": "execute_result"
    }
   ],
   "source": [
    "word [::-1]"
   ]
  },
  {
   "cell_type": "code",
   "execution_count": 3,
   "metadata": {},
   "outputs": [],
   "source": [
    "a = 'They ate the mystery meat. It tasted like chicken.'\n",
    " "
   ]
  },
  {
   "cell_type": "code",
   "execution_count": 6,
   "metadata": {},
   "outputs": [
    {
     "name": "stdout",
     "output_type": "stream",
     "text": [
      "['They ate the mystery meat', ' It tasted like chicken', '']\n"
     ]
    }
   ],
   "source": [
    "print(a.split ('.'))"
   ]
  },
  {
   "cell_type": "code",
   "execution_count": 7,
   "metadata": {},
   "outputs": [
    {
     "name": "stdout",
     "output_type": "stream",
     "text": [
      "['They ', 'e the mystery me', '. It tasted like chicken.']\n"
     ]
    }
   ],
   "source": [
    "print(a.split('at'))"
   ]
  },
  {
   "cell_type": "code",
   "execution_count": 8,
   "metadata": {},
   "outputs": [
    {
     "name": "stdout",
     "output_type": "stream",
     "text": [
      "I have a tendency to leave trailing spaces.\n",
      "I have a tendency to leave trailing spaces. \n",
      " I have a tendency to leave trailing spaces.\n"
     ]
    }
   ],
   "source": [
    "d = ' I have a tendency to leave trailing spaces. '\n",
    " \n",
    "print(d.strip())\n",
    "print(d.lstrip())\n",
    "print(d.rstrip())"
   ]
  },
  {
   "cell_type": "code",
   "execution_count": 39,
   "metadata": {},
   "outputs": [
    {
     "name": "stdout",
     "output_type": "stream",
     "text": [
      "SHE HAD A MARVELOUS ASSORTMENT OF PUPPETS.\n",
      "She had a marvelous assortment of puppets.\n",
      "she had a marvelous assortment of puppets.\n",
      "She Had A Marvelous Assortment Of Puppets.\n",
      "shE want a maRveLoUs aSsoRtmeNt of PUPPETS.\n",
      "shE want a maRveLoUs aSsoRtmeNt of PUPPETS.\n"
     ]
    }
   ],
   "source": [
    "part = 'shE HaD a maRveLoUs aSsoRtmeNt of PUPPETS.'\n",
    "\n",
    "print(part.upper())\n",
    "print(part.capitalize())\n",
    "print(part.lower())\n",
    "print(part.title())\n",
    "print(part.replace('HaD','want'))\n",
    "part =print(part.replace('HaD','want'))"
   ]
  },
  {
   "cell_type": "code",
   "execution_count": 64,
   "metadata": {},
   "outputs": [],
   "source": [
    "str1 = \"Allen die zich in Nederland bevinden, worden in gelijke gevallen gelijk behandeld.\"\n",
    "\n",
    "# find the number of characters in the string\n",
    "# find the number of words in the string\n",
    "# write the first part of the sentence in all caps\n",
    "# change the word ‘gelijk’ into ‘ongelijk’"
   ]
  },
  {
   "cell_type": "code",
   "execution_count": 65,
   "metadata": {},
   "outputs": [
    {
     "data": {
      "text/plain": [
       "82"
      ]
     },
     "execution_count": 65,
     "metadata": {},
     "output_type": "execute_result"
    }
   ],
   "source": [
    "len(str1)"
   ]
  },
  {
   "cell_type": "code",
   "execution_count": 94,
   "metadata": {},
   "outputs": [
    {
     "name": "stdout",
     "output_type": "stream",
     "text": [
      "number of words : 12\n"
     ]
    }
   ],
   "source": [
    "str2 = str1.split()\n",
    "print('number of words :',len(str1.split()))"
   ]
  },
  {
   "cell_type": "code",
   "execution_count": 91,
   "metadata": {},
   "outputs": [
    {
     "data": {
      "text/plain": [
       "12"
      ]
     },
     "execution_count": 91,
     "metadata": {},
     "output_type": "execute_result"
    }
   ],
   "source": [
    "len(str2)"
   ]
  },
  {
   "cell_type": "code",
   "execution_count": 96,
   "metadata": {},
   "outputs": [
    {
     "name": "stdout",
     "output_type": "stream",
     "text": [
      "['Allen die zich in Nederland bevinden', ' worden in gelijke gevallen gelijk behandeld.']\n"
     ]
    }
   ],
   "source": [
    "print(str1.split(','))\n",
    "str2 = (str1.split(','))\n",
    "str3 = str2[0]"
   ]
  },
  {
   "cell_type": "code",
   "execution_count": 97,
   "metadata": {},
   "outputs": [
    {
     "name": "stdout",
     "output_type": "stream",
     "text": [
      "ALLEN DIE ZICH IN NEDERLAND BEVINDEN\n"
     ]
    }
   ],
   "source": [
    "print(str3.upper())"
   ]
  },
  {
   "cell_type": "code",
   "execution_count": 102,
   "metadata": {},
   "outputs": [
    {
     "name": "stdout",
     "output_type": "stream",
     "text": [
      "ALLEN DIE ZICH IN NEDERLAND BEVINDEN,\n"
     ]
    }
   ],
   "source": [
    "print(str2[0].upper()+',')"
   ]
  },
  {
   "cell_type": "code",
   "execution_count": 103,
   "metadata": {},
   "outputs": [
    {
     "name": "stdout",
     "output_type": "stream",
     "text": [
      "Allen die zich in Nederland bevinden, worden in gelijke gevallen ongelijk behandeld.\n"
     ]
    }
   ],
   "source": [
    "print(str1.replace('gelijk ','ongelijk '))"
   ]
  },
  {
   "cell_type": "code",
   "execution_count": 104,
   "metadata": {},
   "outputs": [],
   "source": [
    "import re"
   ]
  },
  {
   "cell_type": "code",
   "execution_count": 114,
   "metadata": {},
   "outputs": [
    {
     "name": "stdout",
     "output_type": "stream",
     "text": [
      "['neigh']\n"
     ]
    }
   ],
   "source": [
    "text = 'My neighbor, Mr. Rogers, has 53 dogs. And 3 cats.'\n",
    "print(re.findall('neigh', text))\n"
   ]
  },
  {
   "cell_type": "code",
   "execution_count": 108,
   "metadata": {},
   "outputs": [
    {
     "name": "stdout",
     "output_type": "stream",
     "text": [
      "['M', ' ', ',', ' ', 'M', '.', ' ', 'R', ',', ' ', ' ', '5', ' ', '.']\n"
     ]
    }
   ],
   "source": [
    "print(re.findall('[^a-z]',text))"
   ]
  },
  {
   "cell_type": "code",
   "execution_count": 116,
   "metadata": {},
   "outputs": [
    {
     "name": "stdout",
     "output_type": "stream",
     "text": [
      "['5', '3', '3']\n"
     ]
    }
   ],
   "source": [
    "print(re.findall('[\\d]',text))"
   ]
  },
  {
   "cell_type": "code",
   "execution_count": 117,
   "metadata": {},
   "outputs": [
    {
     "name": "stdout",
     "output_type": "stream",
     "text": [
      "['M', 'y', 'n', 'e', 'i', 'g', 'h', 'b', 'o', 'r', ',', 'M', 'r', '.', 'R', 'o', 'g', 'e', 'r', 's', ',', 'h', 'a', 's', '5', '3', 'd', 'o', 'g', 's', '.', 'A', 'n', 'd', '3', 'c', 'a', 't', 's', '.']\n"
     ]
    }
   ],
   "source": [
    "print(re.findall('[\\S]',text))"
   ]
  },
  {
   "cell_type": "code",
   "execution_count": null,
   "metadata": {},
   "outputs": [],
   "source": []
  }
 ],
 "metadata": {
  "kernelspec": {
   "display_name": "Python 3",
   "language": "python",
   "name": "python3"
  },
  "language_info": {
   "codemirror_mode": {
    "name": "ipython",
    "version": 3
   },
   "file_extension": ".py",
   "mimetype": "text/x-python",
   "name": "python",
   "nbconvert_exporter": "python",
   "pygments_lexer": "ipython3",
   "version": "3.8.5"
  }
 },
 "nbformat": 4,
 "nbformat_minor": 4
}
