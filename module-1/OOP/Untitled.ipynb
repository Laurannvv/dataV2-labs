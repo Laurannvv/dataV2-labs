{
 "cells": [
  {
   "cell_type": "code",
   "execution_count": null,
   "metadata": {},
   "outputs": [],
   "source": [
    "\n",
    "class employee:\n",
    "    pass\n"
   ]
  },
  {
   "cell_type": "code",
   "execution_count": 3,
   "metadata": {},
   "outputs": [],
   "source": [
    "class Employee():\n",
    "    \n",
    "    annual_raise = 1.04\n",
    "    \n",
    "    def __init__(self, name, age, salary, department='sales'):\n",
    "        self.name = name\n",
    "        self.age = age\n",
    "        self.salary = salary\n",
    "        self.department = department\n",
    "        \n",
    "    def showEmp(self, show_sal = False):\n",
    "        print ('Emp name: ' + self.name)\n",
    "        print ('Emp age: ' + str(self.age))\n",
    "        if show_sal:\n",
    "            print('Emp sal :' + str(self.salary))\n",
    "    \n",
    "    def giveRaise(self):\n",
    "        self.salary = round(self.salary * self.annual_raise)\n"
   ]
  },
  {
   "cell_type": "code",
   "execution_count": 24,
   "metadata": {},
   "outputs": [
    {
     "name": "stdout",
     "output_type": "stream",
     "text": [
      "Emp name: Sally\n",
      "Emp age: 25\n"
     ]
    }
   ],
   "source": [
    "emp1 = Employee('Sally', 25, 2800)\n",
    "emp2 = Employee('Harry', 24, 2600, 'marketing')\n",
    "\n",
    "Employee.showEmp(emp1)"
   ]
  },
  {
   "cell_type": "code",
   "execution_count": null,
   "metadata": {},
   "outputs": [],
   "source": [
    "    #def __init__(self,  integer_list, values_list):\n",
    "        #lst = []\n",
    "        #self.integer_list = integer_list\n",
    "        #self.values_list = values_list"
   ]
  },
  {
   "cell_type": "code",
   "execution_count": 52,
   "metadata": {},
   "outputs": [
    {
     "data": {
      "text/plain": [
       "[2, 2, 4]"
      ]
     },
     "execution_count": 52,
     "metadata": {},
     "output_type": "execute_result"
    }
   ],
   "source": [
    "#purpose is to show that we can extend a class.\n",
    "# If you write fun or proc, you are trying to model the action. Object create a model of the reality your program work in. \n",
    "class delete:\n",
    "    def get_new_list (integer_list, values_list):\n",
    "        lst = []\n",
    "        for number in integer_list:\n",
    "            if number not in value_list:\n",
    "                lst.append(number)\n",
    "        return lst\n",
    "        \n",
    "\n",
    "integer_list =  [1, 1, 2 ,3 ,1 ,2 ,3 ,4]\n",
    "values_list = [1, 3]\n",
    "                \n",
    "\n",
    "delete.get_new_list(integer_list,values_list)\n"
   ]
  },
  {
   "cell_type": "code",
   "execution_count": 53,
   "metadata": {},
   "outputs": [
    {
     "ename": "NameError",
     "evalue": "name 'integers_list' is not defined",
     "output_type": "error",
     "traceback": [
      "\u001b[0;31m---------------------------------------------------------------------------\u001b[0m",
      "\u001b[0;31mNameError\u001b[0m                                 Traceback (most recent call last)",
      "\u001b[0;32m<ipython-input-53-7e733b98775a>\u001b[0m in \u001b[0;36m<module>\u001b[0;34m\u001b[0m\n\u001b[1;32m     14\u001b[0m \u001b[0;31m#digits_list/digitsList that has the specific digits to count which length cannot be be longer than 10\u001b[0m\u001b[0;34m\u001b[0m\u001b[0;34m\u001b[0m\u001b[0;34m\u001b[0m\u001b[0m\n\u001b[1;32m     15\u001b[0m \u001b[0;34m\u001b[0m\u001b[0m\n\u001b[0;32m---> 16\u001b[0;31m \u001b[0mList\u001b[0m\u001b[0;34m.\u001b[0m\u001b[0mcount_spec_digits\u001b[0m\u001b[0;34m(\u001b[0m\u001b[0mintegers_list\u001b[0m\u001b[0;34m,\u001b[0m\u001b[0mdigits_list\u001b[0m\u001b[0;34m)\u001b[0m\u001b[0;34m\u001b[0m\u001b[0;34m\u001b[0m\u001b[0m\n\u001b[0m\u001b[1;32m     17\u001b[0m \u001b[0;34m\u001b[0m\u001b[0m\n\u001b[1;32m     18\u001b[0m \u001b[0mintegers_list\u001b[0m \u001b[0;34m=\u001b[0m  \u001b[0;34m[\u001b[0m\u001b[0;36m1\u001b[0m\u001b[0;34m,\u001b[0m \u001b[0;36m1\u001b[0m\u001b[0;34m,\u001b[0m \u001b[0;36m2\u001b[0m \u001b[0;34m,\u001b[0m\u001b[0;36m3\u001b[0m \u001b[0;34m,\u001b[0m\u001b[0;36m1\u001b[0m \u001b[0;34m,\u001b[0m\u001b[0;36m2\u001b[0m \u001b[0;34m,\u001b[0m\u001b[0;36m3\u001b[0m \u001b[0;34m,\u001b[0m\u001b[0;36m4\u001b[0m\u001b[0;34m]\u001b[0m\u001b[0;34m\u001b[0m\u001b[0;34m\u001b[0m\u001b[0m\n",
      "\u001b[0;31mNameError\u001b[0m: name 'integers_list' is not defined"
     ]
    }
   ],
   "source": [
    "#We need a method in the List Class that may count specific digits from a given list of integers\n",
    "\n",
    "class List():\n",
    "    def __init__(self, integers_lists, digits_list):\n",
    "        self.integers_lists = integers_lists\n",
    "        self.digits_list = digits_list\n",
    "\n",
    "    def count_spec_digits (integers_lists,digits_list):\n",
    "        self.integers_lists = integers_lists.count_spec_digits(digits_list)\n",
    "\n",
    "\n",
    "#a list of an uncertain amount of integers integers_lists/integersLists \n",
    "#(and of an uncertain amount of digits, too) and a second list, \n",
    "#digits_list/digitsList that has the specific digits to count which length cannot be be longer than 10 \n",
    "\n",
    "List.count_spec_digits(integers_list,digits_list)"
   ]
  },
  {
   "cell_type": "code",
   "execution_count": null,
   "metadata": {},
   "outputs": [],
   "source": [
    "integers_list =  [1, 1, 2 ,3 ,1 ,2 ,3 ,4]\n",
    "digits_list = [1, 3]\n",
    "\n",
    "\n",
    "l.count_spec_digits(integers_list, digits_list) == [(1, 3), (3, 2)]"
   ]
  }
 ],
 "metadata": {
  "kernelspec": {
   "display_name": "Python 3",
   "language": "python",
   "name": "python3"
  },
  "language_info": {
   "codemirror_mode": {
    "name": "ipython",
    "version": 3
   },
   "file_extension": ".py",
   "mimetype": "text/x-python",
   "name": "python",
   "nbconvert_exporter": "python",
   "pygments_lexer": "ipython3",
   "version": "3.8.5"
  }
 },
 "nbformat": 4,
 "nbformat_minor": 4
}
