{
 "cells": [
  {
   "cell_type": "markdown",
   "metadata": {},
   "source": [
    "# Introduction to NumPy\n",
    "\n",
    "\n",
    "#### 1. Import NumPy under the name np."
   ]
  },
  {
   "cell_type": "code",
   "execution_count": 131,
   "metadata": {},
   "outputs": [],
   "source": [
    "# your code here\n",
    "import numpy as np"
   ]
  },
  {
   "cell_type": "markdown",
   "metadata": {},
   "source": [
    "#### 2. Print your NumPy version."
   ]
  },
  {
   "cell_type": "code",
   "execution_count": 132,
   "metadata": {},
   "outputs": [
    {
     "data": {
      "text/plain": [
       "'1.19.2'"
      ]
     },
     "execution_count": 132,
     "metadata": {},
     "output_type": "execute_result"
    }
   ],
   "source": [
    "# your code here\n",
    "np.version.version"
   ]
  },
  {
   "cell_type": "markdown",
   "metadata": {},
   "source": [
    "#### 3. Generate a 2x3x5 3-dimensional array with random values. Assign the array to variable *a*.\n",
    "**Challenge**: there are at least three easy ways that use numpy to generate random arrays. How many ways can you find?"
   ]
  },
  {
   "cell_type": "code",
   "execution_count": 133,
   "metadata": {},
   "outputs": [
    {
     "name": "stdout",
     "output_type": "stream",
     "text": [
      "[[[0.29452416 0.94976099 0.60631583 0.00906952 0.79350913]\n",
      "  [0.95317934 0.19123601 0.96525882 0.26313621 0.04621162]\n",
      "  [0.51907663 0.77910729 0.97404798 0.21145584 0.25879383]]\n",
      "\n",
      " [[0.48057027 0.95552141 0.59783183 0.16885896 0.72081613]\n",
      "  [0.64638871 0.20190623 0.34030084 0.28101695 0.78075155]\n",
      "  [0.59629868 0.71773562 0.30130065 0.77228553 0.70761275]]]\n"
     ]
    }
   ],
   "source": [
    "# Method 1\n",
    "\n",
    "a = np.random.random((2,3,5))\n",
    "print(a)"
   ]
  },
  {
   "cell_type": "code",
   "execution_count": 134,
   "metadata": {},
   "outputs": [
    {
     "name": "stdout",
     "output_type": "stream",
     "text": [
      "[[[0.29452416 0.94976099 0.60631583 0.00906952 0.79350913]\n",
      "  [0.95317934 0.19123601 0.96525882 0.26313621 0.04621162]\n",
      "  [0.51907663 0.77910729 0.97404798 0.21145584 0.25879383]]\n",
      "\n",
      " [[0.48057027 0.95552141 0.59783183 0.16885896 0.72081613]\n",
      "  [0.64638871 0.20190623 0.34030084 0.28101695 0.78075155]\n",
      "  [0.59629868 0.71773562 0.30130065 0.77228553 0.70761275]]]\n"
     ]
    }
   ],
   "source": [
    "a = np.empty((2,3,5)) \n",
    "print(a)"
   ]
  },
  {
   "cell_type": "code",
   "execution_count": 135,
   "metadata": {},
   "outputs": [
    {
     "name": "stdout",
     "output_type": "stream",
     "text": [
      "[[[0.88572043 0.94129513 0.19585192 0.86345924 0.92874618]\n",
      "  [0.4366692  0.17279891 0.53295533 0.72042238 0.13415363]\n",
      "  [0.80214479 0.90368492 0.97388727 0.49211265 0.5260459 ]]\n",
      "\n",
      " [[0.04609933 0.27366916 0.57491908 0.47498388 0.02687822]\n",
      "  [0.83588963 0.55404945 0.87948093 0.82406253 0.42762664]\n",
      "  [0.88480963 0.78510375 0.73868149 0.02867942 0.06254743]]]\n"
     ]
    }
   ],
   "source": [
    "a = np.random.rand(2,3,5)\n",
    "print(a)"
   ]
  },
  {
   "cell_type": "markdown",
   "metadata": {},
   "source": [
    "#### 4. Print *a*.\n"
   ]
  },
  {
   "cell_type": "code",
   "execution_count": 136,
   "metadata": {},
   "outputs": [
    {
     "name": "stdout",
     "output_type": "stream",
     "text": [
      "[[[0.88572043 0.94129513 0.19585192 0.86345924 0.92874618]\n",
      "  [0.4366692  0.17279891 0.53295533 0.72042238 0.13415363]\n",
      "  [0.80214479 0.90368492 0.97388727 0.49211265 0.5260459 ]]\n",
      "\n",
      " [[0.04609933 0.27366916 0.57491908 0.47498388 0.02687822]\n",
      "  [0.83588963 0.55404945 0.87948093 0.82406253 0.42762664]\n",
      "  [0.88480963 0.78510375 0.73868149 0.02867942 0.06254743]]]\n"
     ]
    }
   ],
   "source": [
    "# your code here\n",
    "\n",
    "print(a)"
   ]
  },
  {
   "cell_type": "markdown",
   "metadata": {},
   "source": [
    "#### 5. Create a 5x2x3 3-dimensional array with all values equaling 1. Assign the array to variable *b*."
   ]
  },
  {
   "cell_type": "code",
   "execution_count": 137,
   "metadata": {},
   "outputs": [],
   "source": [
    "# your code here\n",
    "b = np.ones((5,3,2),dtype=int)"
   ]
  },
  {
   "cell_type": "markdown",
   "metadata": {},
   "source": [
    "#### 6. Print *b*.\n"
   ]
  },
  {
   "cell_type": "code",
   "execution_count": 138,
   "metadata": {},
   "outputs": [
    {
     "name": "stdout",
     "output_type": "stream",
     "text": [
      "[[[1 1]\n",
      "  [1 1]\n",
      "  [1 1]]\n",
      "\n",
      " [[1 1]\n",
      "  [1 1]\n",
      "  [1 1]]\n",
      "\n",
      " [[1 1]\n",
      "  [1 1]\n",
      "  [1 1]]\n",
      "\n",
      " [[1 1]\n",
      "  [1 1]\n",
      "  [1 1]]\n",
      "\n",
      " [[1 1]\n",
      "  [1 1]\n",
      "  [1 1]]]\n"
     ]
    }
   ],
   "source": [
    "# your code here\n",
    "print(b)"
   ]
  },
  {
   "cell_type": "markdown",
   "metadata": {},
   "source": [
    "#### 7. Do *a* and *b* have the same size? How do you prove that in Python code?"
   ]
  },
  {
   "cell_type": "code",
   "execution_count": 139,
   "metadata": {},
   "outputs": [
    {
     "name": "stdout",
     "output_type": "stream",
     "text": [
      "30\n",
      "30\n",
      "30\n",
      "30\n"
     ]
    }
   ],
   "source": [
    "# your code here\n",
    "print(a.size)\n",
    "print(b.size)\n",
    "\n",
    "print(2*3*5)\n",
    "print(5*3*2)\n",
    "\n",
    "#They have the same size, the product of 2*3*5 and 5*3*2 are both equal to 30"
   ]
  },
  {
   "cell_type": "markdown",
   "metadata": {},
   "source": [
    "#### 8. Are you able to add *a* and *b*? Why or why not?\n"
   ]
  },
  {
   "cell_type": "code",
   "execution_count": 140,
   "metadata": {},
   "outputs": [
    {
     "ename": "ValueError",
     "evalue": "operands could not be broadcast together with shapes (2,3,5) (5,3,2) ",
     "output_type": "error",
     "traceback": [
      "\u001b[0;31m---------------------------------------------------------------------------\u001b[0m",
      "\u001b[0;31mValueError\u001b[0m                                Traceback (most recent call last)",
      "\u001b[0;32m<ipython-input-140-54c327a188f7>\u001b[0m in \u001b[0;36m<module>\u001b[0;34m\u001b[0m\n\u001b[1;32m      1\u001b[0m \u001b[0;31m# your answer here\u001b[0m\u001b[0;34m\u001b[0m\u001b[0;34m\u001b[0m\u001b[0;34m\u001b[0m\u001b[0m\n\u001b[0;32m----> 2\u001b[0;31m \u001b[0mprint\u001b[0m\u001b[0;34m(\u001b[0m\u001b[0mnp\u001b[0m\u001b[0;34m.\u001b[0m\u001b[0madd\u001b[0m\u001b[0;34m(\u001b[0m\u001b[0ma\u001b[0m\u001b[0;34m,\u001b[0m \u001b[0mb\u001b[0m\u001b[0;34m)\u001b[0m\u001b[0;34m)\u001b[0m\u001b[0;34m\u001b[0m\u001b[0;34m\u001b[0m\u001b[0m\n\u001b[0m\u001b[1;32m      3\u001b[0m \u001b[0;31m# b and a are both 3 dimensional array with different shapes, so array cannot be added.\u001b[0m\u001b[0;34m\u001b[0m\u001b[0;34m\u001b[0m\u001b[0;34m\u001b[0m\u001b[0m\n",
      "\u001b[0;31mValueError\u001b[0m: operands could not be broadcast together with shapes (2,3,5) (5,3,2) "
     ]
    }
   ],
   "source": [
    "# your answer here\n",
    "print(np.add(a, b))\n",
    "# b and a are both 3 dimensional array with different shapes, so array cannot be added."
   ]
  },
  {
   "cell_type": "markdown",
   "metadata": {},
   "source": [
    "#### 9. Transpose *b* so that it has the same structure of *a* (i.e. become a 2x3x5 array). Assign the transposed array to variable *c*."
   ]
  },
  {
   "cell_type": "code",
   "execution_count": 100,
   "metadata": {},
   "outputs": [
    {
     "name": "stdout",
     "output_type": "stream",
     "text": [
      "[[[1 1 1 1 1]\n",
      "  [1 1 1 1 1]\n",
      "  [1 1 1 1 1]]\n",
      "\n",
      " [[1 1 1 1 1]\n",
      "  [1 1 1 1 1]\n",
      "  [1 1 1 1 1]]]\n"
     ]
    }
   ],
   "source": [
    "# your code here\n",
    "c = np.transpose(b)\n",
    "print(c)"
   ]
  },
  {
   "cell_type": "markdown",
   "metadata": {},
   "source": [
    "#### 10. Try to add *a* and *c*. Now it should work. Assign the sum to variable *d*. But why does it work now?"
   ]
  },
  {
   "cell_type": "code",
   "execution_count": 172,
   "metadata": {},
   "outputs": [
    {
     "name": "stdout",
     "output_type": "stream",
     "text": [
      "[[[1.88572043 1.94129513 1.19585192 1.86345924 1.92874618]\n",
      "  [1.4366692  1.17279891 1.53295533 1.72042238 1.13415363]\n",
      "  [1.80214479 1.90368492 1.97388727 1.49211265 1.5260459 ]]\n",
      "\n",
      " [[1.04609933 1.27366916 1.57491908 1.47498388 1.02687822]\n",
      "  [1.83588963 1.55404945 1.87948093 1.82406253 1.42762664]\n",
      "  [1.88480963 1.78510375 1.73868149 1.02867942 1.06254743]]]\n"
     ]
    }
   ],
   "source": [
    "# your code/answer here\n",
    "\n",
    "d = np.add(a, c)\n",
    "\n",
    "print(d)"
   ]
  },
  {
   "cell_type": "markdown",
   "metadata": {},
   "source": [
    "#### 11. Print *a* and *d*. Notice the difference and relation of the two array in terms of the values? Explain."
   ]
  },
  {
   "cell_type": "code",
   "execution_count": 142,
   "metadata": {},
   "outputs": [
    {
     "name": "stdout",
     "output_type": "stream",
     "text": [
      "[[[0.88572043 0.94129513 0.19585192 0.86345924 0.92874618]\n",
      "  [0.4366692  0.17279891 0.53295533 0.72042238 0.13415363]\n",
      "  [0.80214479 0.90368492 0.97388727 0.49211265 0.5260459 ]]\n",
      "\n",
      " [[0.04609933 0.27366916 0.57491908 0.47498388 0.02687822]\n",
      "  [0.83588963 0.55404945 0.87948093 0.82406253 0.42762664]\n",
      "  [0.88480963 0.78510375 0.73868149 0.02867942 0.06254743]]]\n",
      "[[[1.88572043 1.94129513 1.19585192 1.86345924 1.92874618]\n",
      "  [1.4366692  1.17279891 1.53295533 1.72042238 1.13415363]\n",
      "  [1.80214479 1.90368492 1.97388727 1.49211265 1.5260459 ]]\n",
      "\n",
      " [[1.04609933 1.27366916 1.57491908 1.47498388 1.02687822]\n",
      "  [1.83588963 1.55404945 1.87948093 1.82406253 1.42762664]\n",
      "  [1.88480963 1.78510375 1.73868149 1.02867942 1.06254743]]]\n"
     ]
    }
   ],
   "source": [
    "# your code/answer here\n",
    "print(a)\n",
    "print(d)\n",
    "\n",
    "#The sum impacted each element of both list sperately. "
   ]
  },
  {
   "cell_type": "markdown",
   "metadata": {},
   "source": [
    "#### 12. Multiply *a* and *c*. Assign the result to *e*."
   ]
  },
  {
   "cell_type": "code",
   "execution_count": 143,
   "metadata": {},
   "outputs": [],
   "source": [
    "# your code here\n",
    "\n",
    "e = np.multiply(c, a)\n"
   ]
  },
  {
   "cell_type": "markdown",
   "metadata": {},
   "source": [
    "#### 13. Does *e* equal to *a*? Why or why not?\n"
   ]
  },
  {
   "cell_type": "code",
   "execution_count": 144,
   "metadata": {},
   "outputs": [
    {
     "name": "stdout",
     "output_type": "stream",
     "text": [
      "[[[0.88572043 0.94129513 0.19585192 0.86345924 0.92874618]\n",
      "  [0.4366692  0.17279891 0.53295533 0.72042238 0.13415363]\n",
      "  [0.80214479 0.90368492 0.97388727 0.49211265 0.5260459 ]]\n",
      "\n",
      " [[0.04609933 0.27366916 0.57491908 0.47498388 0.02687822]\n",
      "  [0.83588963 0.55404945 0.87948093 0.82406253 0.42762664]\n",
      "  [0.88480963 0.78510375 0.73868149 0.02867942 0.06254743]]]\n",
      "[[[0.88572043 0.94129513 0.19585192 0.86345924 0.92874618]\n",
      "  [0.4366692  0.17279891 0.53295533 0.72042238 0.13415363]\n",
      "  [0.80214479 0.90368492 0.97388727 0.49211265 0.5260459 ]]\n",
      "\n",
      " [[0.04609933 0.27366916 0.57491908 0.47498388 0.02687822]\n",
      "  [0.83588963 0.55404945 0.87948093 0.82406253 0.42762664]\n",
      "  [0.88480963 0.78510375 0.73868149 0.02867942 0.06254743]]]\n"
     ]
    },
    {
     "data": {
      "text/plain": [
       "array([[[ True,  True,  True,  True,  True],\n",
       "        [ True,  True,  True,  True,  True],\n",
       "        [ True,  True,  True,  True,  True]],\n",
       "\n",
       "       [[ True,  True,  True,  True,  True],\n",
       "        [ True,  True,  True,  True,  True],\n",
       "        [ True,  True,  True,  True,  True]]])"
      ]
     },
     "execution_count": 144,
     "metadata": {},
     "output_type": "execute_result"
    }
   ],
   "source": [
    "# your code/answer here\n",
    "\n",
    "print(e)\n",
    "print(a)\n",
    "\n",
    "e == a\n",
    "\n",
    "# Yes, e = a, because c is 3-dimensional array with all values equaling to 1. \n",
    "#Thus each value of a multiplied by one equals the same value."
   ]
  },
  {
   "cell_type": "markdown",
   "metadata": {},
   "source": [
    "#### 14. Identify the max, min, and mean values in *d*. Assign those values to variables *d_max*, *d_min* and *d_mean*."
   ]
  },
  {
   "cell_type": "code",
   "execution_count": 145,
   "metadata": {},
   "outputs": [
    {
     "name": "stdout",
     "output_type": "stream",
     "text": [
      "1.9738872742085154\n",
      "1.0268782237962926\n",
      "1.5642476150833846\n"
     ]
    }
   ],
   "source": [
    "# your code here\n",
    "d_max = np.max(d)\n",
    "d_min = np.min(d)\n",
    "d_mean =np.mean(d)\n",
    "\n",
    "print(d_max)\n",
    "print(d_min)\n",
    "print(d_mean)"
   ]
  },
  {
   "cell_type": "markdown",
   "metadata": {},
   "source": [
    "#### 15. Now we want to label the values in *d*. First create an empty array *f* with the same shape (i.e. 2x3x5) as *d* using `np.empty`.\n"
   ]
  },
  {
   "cell_type": "code",
   "execution_count": 146,
   "metadata": {},
   "outputs": [
    {
     "name": "stdout",
     "output_type": "stream",
     "text": [
      "[[[0.88572043 0.94129513 0.19585192 0.86345924 0.92874618]\n",
      "  [0.4366692  0.17279891 0.53295533 0.72042238 0.13415363]\n",
      "  [0.80214479 0.90368492 0.97388727 0.49211265 0.5260459 ]]\n",
      "\n",
      " [[0.04609933 0.27366916 0.57491908 0.47498388 0.02687822]\n",
      "  [0.83588963 0.55404945 0.87948093 0.82406253 0.42762664]\n",
      "  [0.88480963 0.78510375 0.73868149 0.02867942 0.06254743]]]\n"
     ]
    }
   ],
   "source": [
    "# your code here\n",
    "\n",
    "f = np.empty((2,3,5))\n",
    "print(f)"
   ]
  },
  {
   "cell_type": "markdown",
   "metadata": {},
   "source": [
    "#### 16. Populate the values in *f*. \n",
    "\n",
    "For each value in *d*, if it's larger than *d_min* but smaller than *d_mean*, assign 25 to the corresponding value in *f*. If a value in *d* is larger than *d_mean* but smaller than *d_max*, assign 75 to the corresponding value in *f*. If a value equals to *d_mean*, assign 50 to the corresponding value in *f*. Assign 0 to the corresponding value(s) in *f* for *d_min* in *d*. Assign 100 to the corresponding value(s) in *f* for *d_max* in *d*. In the end, f should have only the following values: 0, 25, 50, 75, and 100.\n",
    "\n",
    "**Note**: you don't have to use Numpy in this question."
   ]
  },
  {
   "cell_type": "code",
   "execution_count": 166,
   "metadata": {},
   "outputs": [
    {
     "name": "stdout",
     "output_type": "stream",
     "text": [
      "[[[0.88572043 0.94129513 0.19585192 0.86345924 0.92874618]\n",
      "  [0.4366692  0.17279891 0.53295533 0.72042238 0.13415363]\n",
      "  [0.80214479 0.90368492 0.97388727 0.49211265 0.5260459 ]]\n",
      "\n",
      " [[0.04609933 0.27366916 0.57491908 0.47498388 0.02687822]\n",
      "  [0.83588963 0.55404945 0.87948093 0.82406253 0.42762664]\n",
      "  [0.88480963 0.78510375 0.73868149 0.02867942 0.06254743]]]\n"
     ]
    }
   ],
   "source": [
    "# First attempt\n",
    "for i in d:\n",
    "    for y in i:\n",
    "        for z in y:\n",
    "            if z > d_min:\n",
    "                z = 25\n",
    "                np.append(f,z)\n",
    "            if z < d_max and z > d_mean:\n",
    "                z = 75\n",
    "                np.append(f,z)\n",
    "            if z == d_mean:\n",
    "                z = 50\n",
    "                np.append(f,z)\n",
    "            if z == d_max:\n",
    "                z = 100\n",
    "                np.append(f,z)\n",
    "            \n",
    "print(f)\n",
    "               "
   ]
  },
  {
   "cell_type": "code",
   "execution_count": 178,
   "metadata": {},
   "outputs": [
    {
     "name": "stdout",
     "output_type": "stream",
     "text": [
      "[[[2.50000000e+01 2.50000000e+01 2.50000000e+01 2.50000000e+01\n",
      "   2.50000000e+01]\n",
      "  [2.50000000e+01 2.50000000e+01 2.50000000e+01 2.50000000e+01\n",
      "   2.50000000e+01]\n",
      "  [2.50000000e+01 2.50000000e+01 1.00000000e+02 2.50000000e+01\n",
      "   2.50000000e+01]]\n",
      "\n",
      " [[2.50000000e+01 2.50000000e+01 2.50000000e+01 2.50000000e+01\n",
      "   2.68782238e-02]\n",
      "  [2.50000000e+01 2.50000000e+01 2.50000000e+01 2.50000000e+01\n",
      "   2.50000000e+01]\n",
      "  [2.50000000e+01 2.50000000e+01 2.50000000e+01 2.50000000e+01\n",
      "   2.50000000e+01]]]\n"
     ]
    }
   ],
   "source": [
    " = np.where(a<3,0,1)\n"
   ]
  },
  {
   "cell_type": "markdown",
   "metadata": {},
   "source": [
    "#### 17. Print *d* and *f*. Do you have your expected *f*?\n",
    "For instance, if your *d* is:\n",
    "```python\n",
    "[[[1.85836099, 1.67064465, 1.62576044, 1.40243961, 1.88454931],\n",
    "[1.75354326, 1.69403643, 1.36729252, 1.61415071, 1.12104981],\n",
    "[1.72201435, 1.1862918 , 1.87078449, 1.7726778 , 1.88180042]],\n",
    "[[1.44747908, 1.31673383, 1.02000951, 1.52218947, 1.97066381],\n",
    "[1.79129243, 1.74983003, 1.96028037, 1.85166831, 1.65450881],\n",
    "[1.18068344, 1.9587381 , 1.00656599, 1.93402165, 1.73514584]]]\n",
    "```\n",
    "Your *f* should be:\n",
    "```python\n",
    "[[[ 75.,  75.,  75.,  25.,  75.],\n",
    "[ 75.,  75.,  25.,  25.,  25.],\n",
    "[ 75.,  25.,  75.,  75.,  75.]],\n",
    "[[ 25.,  25.,  25.,  25., 100.],\n",
    "[ 75.,  75.,  75.,  75.,  75.],\n",
    "[ 25.,  75.,   0.,  75.,  75.]]]\n",
    "```"
   ]
  },
  {
   "cell_type": "code",
   "execution_count": 169,
   "metadata": {},
   "outputs": [
    {
     "name": "stdout",
     "output_type": "stream",
     "text": [
      "[[[1.88572043 1.94129513 1.19585192 1.86345924 1.92874618]\n",
      "  [1.4366692  1.17279891 1.53295533 1.72042238 1.13415363]\n",
      "  [1.80214479 1.90368492 1.97388727 1.49211265 1.5260459 ]]\n",
      "\n",
      " [[1.04609933 1.27366916 1.57491908 1.47498388 1.02687822]\n",
      "  [1.83588963 1.55404945 1.87948093 1.82406253 1.42762664]\n",
      "  [1.88480963 1.78510375 1.73868149 1.02867942 1.06254743]]]\n",
      "[[[0.88572043 0.94129513 0.19585192 0.86345924 0.92874618]\n",
      "  [0.4366692  0.17279891 0.53295533 0.72042238 0.13415363]\n",
      "  [0.80214479 0.90368492 0.97388727 0.49211265 0.5260459 ]]\n",
      "\n",
      " [[0.04609933 0.27366916 0.57491908 0.47498388 0.02687822]\n",
      "  [0.83588963 0.55404945 0.87948093 0.82406253 0.42762664]\n",
      "  [0.88480963 0.78510375 0.73868149 0.02867942 0.06254743]]]\n"
     ]
    }
   ],
   "source": [
    "# your code here\n",
    "\n",
    "print(d)\n",
    "print(f)"
   ]
  },
  {
   "cell_type": "markdown",
   "metadata": {},
   "source": [
    "#### 18. Bonus question: instead of using numbers (i.e. 0, 25, 50, 75, and 100), use string values  (\"A\", \"B\", \"C\", \"D\", and \"E\") to label the array elements. For the example above, the expected result is:\n",
    "\n",
    "```python\n",
    "[[[ 'D',  'D',  'D',  'B',  'D'],\n",
    "[ 'D',  'D',  'B',  'B',  'B'],\n",
    "[ 'D',  'B',  'D',  'D',  'D']],\n",
    "[[ 'B',  'B',  'B',  'B',  'E'],\n",
    "[ 'D',  'D',  'D',  'D',  'D'],\n",
    "[ 'B',  'D',   'A',  'D', 'D']]]\n",
    "```\n",
    "**Note**: you don't have to use Numpy in this question."
   ]
  },
  {
   "cell_type": "code",
   "execution_count": null,
   "metadata": {},
   "outputs": [],
   "source": [
    "# your code here"
   ]
  }
 ],
 "metadata": {
  "kernelspec": {
   "display_name": "Python 3",
   "language": "python",
   "name": "python3"
  },
  "language_info": {
   "codemirror_mode": {
    "name": "ipython",
    "version": 3
   },
   "file_extension": ".py",
   "mimetype": "text/x-python",
   "name": "python",
   "nbconvert_exporter": "python",
   "pygments_lexer": "ipython3",
   "version": "3.8.5"
  }
 },
 "nbformat": 4,
 "nbformat_minor": 2
}
