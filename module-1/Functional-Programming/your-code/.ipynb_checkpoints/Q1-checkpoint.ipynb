{
 "cells": [
  {
   "cell_type": "markdown",
   "metadata": {},
   "source": [
    "In the cell below, create a Python function that wraps your previous solution for the Bag of Words lab.\n",
    "\n",
    "Requirements:\n",
    "\n",
    "1. Your function should accept the following parameters:\n",
    "    * `docs` [REQUIRED] - array of document paths.\n",
    "    * `stop_words` [OPTIONAL] - array of stop words. The default value is an empty array.\n",
    "\n",
    "1. Your function should return a Python object that contains the following:\n",
    "    * `bag_of_words` - array of strings of normalized unique words in the corpus.\n",
    "    * `term_freq` - array of the term-frequency vectors."
   ]
  },
  {
   "cell_type": "code",
   "execution_count": 7,
   "metadata": {},
   "outputs": [],
   "source": [
    "import re"
   ]
  },
  {
   "cell_type": "code",
   "execution_count": 8,
   "metadata": {},
   "outputs": [],
   "source": [
    "docslist = [\"Ironhack is cool!\", \"I love Ironhack.\",\"I am a student at Ironhack.\"]"
   ]
  },
  {
   "cell_type": "code",
   "execution_count": 9,
   "metadata": {},
   "outputs": [],
   "source": [
    "# Import required libraries\n",
    "\n",
    "# Define function\n",
    "\n",
    "\n",
    "def get_bow_from_docs(docs, stop_words=[]):\n",
    "    lst1 = [re.sub('[.,!]','',element.lower()) for element in docs]\n",
    "    lst2 = [i.split() for i in lst1]\n",
    "    corpus = [word for sublist in lst2 for word in sublist]\n",
    "    bag_of_words = [ word for word in corpus if word not in stop_words]\n",
    "    bag_of_words = list(set(bag_of_words))\n",
    "    term_freq_list = []\n",
    "    for element in lst2:\n",
    "        term_freq_element =[]\n",
    "        for word in bag_of_words:\n",
    "            frq_word = element.count(word)\n",
    "            term_freq_element.append(frq_word)\n",
    "        term_freq_list.append(term_freq_element)\n",
    "\n",
    "    return { \"bag_of_words\": bag_of_words,\"term_freq\": term_freq_list}\n",
    "\n",
    "    \n",
    "    # In the function, first define the variables you will use such as `corpus`, `bag_of_words`, and `term_freq`.\n",
    "    \n",
    "    \n",
    "    \n",
    "    \"\"\"\n",
    "    Loop `docs` and read the content of each doc into a string in `corpus`.\n",
    "    Remember to convert the doc content to lowercases and remove punctuation.\n",
    "    \"\"\"\n",
    "\n",
    "    \"\"\"\n",
    "    Loop `corpus`. Append the terms in each doc into the `bag_of_words` array. The terms in `bag_of_words` \n",
    "    should be unique which means before adding each term you need to check if it's already added to the array.\n",
    "    In addition, check if each term is in the `stop_words` array. Only append the term to `bag_of_words`\n",
    "    if it is not a stop word.\n",
    "    \"\"\"\n",
    "\n",
    "    \n",
    "    \"\"\"\n",
    "    Loop `corpus` again. For each doc string, count the number of occurrences of each term in `bag_of_words`. \n",
    "    Create an array for each doc's term frequency and append it to `term_freq`.\n",
    "    \"\"\"\n",
    "\n",
    "    \n",
    "    \n",
    "    # Now return your output as an object\n",
    "    "
   ]
  },
  {
   "cell_type": "code",
   "execution_count": 10,
   "metadata": {},
   "outputs": [
    {
     "data": {
      "text/plain": [
       "{'bag_of_words': ['love',\n",
       "  'cool',\n",
       "  'i',\n",
       "  'at',\n",
       "  'student',\n",
       "  'ironhack',\n",
       "  'a',\n",
       "  'is',\n",
       "  'am'],\n",
       " 'term_freq': [[0, 1, 0, 0, 0, 1, 0, 1, 0],\n",
       "  [1, 0, 1, 0, 0, 1, 0, 0, 0],\n",
       "  [0, 0, 1, 1, 1, 1, 1, 0, 1]]}"
      ]
     },
     "execution_count": 10,
     "metadata": {},
     "output_type": "execute_result"
    }
   ],
   "source": [
    "get_bow_from_docs(docslist)"
   ]
  },
  {
   "cell_type": "markdown",
   "metadata": {},
   "source": [
    "Test your function without stop words. You should see the output like below:\n",
    "\n",
    "```{'bag_of_words': ['ironhack', 'is', 'cool', 'i', 'love', 'am', 'a', 'student', 'at'], 'term_freq': [[1, 1, 1, 0, 0, 0, 0, 0, 0], [1, 0, 0, 1, 1, 0, 0, 0, 0], [1, 0, 0, 1, 0, 1, 1, 1, 1]]}```"
   ]
  },
  {
   "cell_type": "code",
   "execution_count": 16,
   "metadata": {},
   "outputs": [
    {
     "name": "stdout",
     "output_type": "stream",
     "text": [
      "{'bag_of_words': ['love', 'cool', 'i', 'at', 'student', 'ironhack', 'a', 'is', 'am'], 'term_freq': [[0, 1, 0, 0, 0, 1, 0, 1, 0], [1, 0, 1, 0, 0, 1, 0, 0, 0], [0, 0, 1, 1, 1, 1, 1, 0, 1]]}\n"
     ]
    }
   ],
   "source": [
    "# Define doc paths array\n",
    "docs = [\"Ironhack is cool!\", \"I love Ironhack.\",\"I am a student at Ironhack.\"]\n",
    "\n",
    "# Obtain BoW from your function\n",
    "bow = get_bow_from_docs(docs)\n",
    "\n",
    "# Print BoW\n",
    "print(bow)"
   ]
  },
  {
   "cell_type": "markdown",
   "metadata": {},
   "source": [
    "If your attempt above is successful, nice work done!\n",
    "\n",
    "Now test your function again with the stop words. In the previous lab we defined the stop words in a large array. In this lab, we'll import the stop words from Scikit-Learn."
   ]
  },
  {
   "cell_type": "code",
   "execution_count": 17,
   "metadata": {},
   "outputs": [
    {
     "name": "stdout",
     "output_type": "stream",
     "text": [
      "Requirement already satisfied: sklearn in /usr/local/Cellar/jupyterlab/2.2.2/libexec/lib/python3.8/site-packages (0.0)\r\n",
      "Requirement already satisfied: scikit-learn in /usr/local/lib/python3.8/site-packages (from sklearn) (0.23.2)\r\n",
      "Requirement already satisfied: scipy>=0.19.1 in /usr/local/lib/python3.8/site-packages (from scikit-learn->sklearn) (1.5.2)\r\n",
      "Requirement already satisfied: numpy>=1.13.3 in /usr/local/lib/python3.8/site-packages (from scikit-learn->sklearn) (1.19.2)\r\n",
      "Requirement already satisfied: joblib>=0.11 in /usr/local/lib/python3.8/site-packages (from scikit-learn->sklearn) (0.17.0)\r\n",
      "Requirement already satisfied: threadpoolctl>=2.0.0 in /usr/local/lib/python3.8/site-packages (from scikit-learn->sklearn) (2.1.0)\r\n"
     ]
    }
   ],
   "source": [
    "# Install a pip package in the current Jupyter kernel\n",
    "import sys\n",
    "!{sys.executable} -m pip install sklearn \n",
    "import sklearn.feature_extraction\n",
    "from sklearn.feature_extraction import stop_words"
   ]
  },
  {
   "cell_type": "code",
   "execution_count": 18,
   "metadata": {},
   "outputs": [
    {
     "name": "stdout",
     "output_type": "stream",
     "text": [
      "frozenset({'their', 'him', 'within', 'due', 'name', 'couldnt', 'empty', 'latter', 'been', 'beside', 'though', 'thence', 'inc', 'else', 'hers', 'his', 'most', 'without', 'out', 'these', 'neither', 'across', 'them', 'but', 'whereby', 'ltd', 'whether', 'hence', 'any', 'yet', 'toward', 'top', 'below', 'anyone', 'becoming', 'should', 'another', 'this', 'between', 'several', 'me', 'us', 'being', 'whenever', 'too', 'nor', 'otherwise', 'somehow', 'anywhere', 'under', 'in', 'towards', 'your', 'which', 'everything', 'full', 'less', 'is', 'where', 'one', 'ourselves', 'how', 'same', 'wherein', 'our', 'everyone', 'my', 'until', 'side', 'become', 'via', 'again', 'perhaps', 'nobody', 'such', 'therein', 'least', 'throughout', 'both', 'had', 'fire', 'even', 'none', 'her', 'upon', 'are', 'sincere', 'five', 'becomes', 'it', 'with', 'herself', 'for', 'not', 'during', 'after', 'also', 'eg', 'two', 'cannot', 'either', 'all', 'see', 'besides', 'mill', 'if', 'its', 'co', 'put', 'always', 'thereupon', 'few', 'seeming', 'amount', 'go', 're', 'very', 'down', 'must', 'first', 'could', 'behind', 'someone', 'anything', 'fifteen', 'already', 'onto', 'themselves', 'alone', 'etc', 'some', 'to', 'beforehand', 'whereas', 'formerly', 'since', 'because', 'other', 'further', 'part', 'you', 'find', 'along', 'describe', 'ours', 'nowhere', 'amongst', 'seems', 'amoungst', 'that', 'con', 'here', 'was', 'through', 'nothing', 'hasnt', 'an', 'whence', 'hundred', 'nine', 'hereupon', 'yourself', 'bottom', 'cant', 'three', 'what', 'almost', 'whom', 'of', 'herein', 'eleven', 'now', 'afterwards', 'however', 'as', 'whose', 'latterly', 'moreover', 'seemed', 'whereupon', 'itself', 'thereby', 'although', 'ie', 'i', 'third', 'de', 'well', 'show', 'eight', 'every', 'anyway', 'call', 'while', 'ten', 'rather', 'be', 'yourselves', 'no', 'keep', 'off', 'next', 'against', 'sixty', 'own', 'take', 'or', 'much', 'from', 'yours', 'noone', 'together', 'four', 'others', 'wherever', 'enough', 'never', 'we', 'beyond', 'do', 'at', 'sometimes', 'thereafter', 'often', 'elsewhere', 'front', 'thin', 'former', 'namely', 'when', 'by', 'whatever', 'am', 'about', 'many', 'forty', 'became', 'once', 'cry', 'detail', 'done', 'something', 'among', 'therefore', 'into', 'they', 'each', 'who', 'found', 'there', 'why', 'whither', 'give', 'six', 'meanwhile', 'only', 'seem', 'whoever', 'whereafter', 'mine', 'somewhere', 'except', 'might', 'on', 'sometime', 'would', 'everywhere', 'has', 'above', 'can', 'whole', 'made', 'so', 'back', 'move', 'around', 'and', 'himself', 'may', 'he', 'before', 'serious', 'she', 'have', 'twelve', 'were', 'a', 'interest', 'fifty', 'please', 'will', 'those', 'still', 'hereafter', 'thru', 'last', 'myself', 'nevertheless', 'system', 'per', 'ever', 'then', 'than', 'un', 'over', 'twenty', 'hereby', 'more', 'get', 'the', 'thus', 'thick', 'indeed', 'fill', 'bill', 'up', 'anyhow', 'mostly'})\n"
     ]
    }
   ],
   "source": [
    "print(stop_words.ENGLISH_STOP_WORDS)"
   ]
  },
  {
   "cell_type": "markdown",
   "metadata": {},
   "source": [
    "You should have seen a large list of words that looks like:\n",
    "\n",
    "```frozenset({'across', 'mine', 'cannot', ...})```\n",
    "\n",
    "`frozenset` is a type of Python object that is immutable. In this lab you can use it just like an array without conversion."
   ]
  },
  {
   "cell_type": "markdown",
   "metadata": {},
   "source": [
    "Next, test your function with supplying `stop_words.ENGLISH_STOP_WORDS` as the second parameter."
   ]
  },
  {
   "cell_type": "code",
   "execution_count": 20,
   "metadata": {},
   "outputs": [
    {
     "name": "stdout",
     "output_type": "stream",
     "text": [
      "{'bag_of_words': ['student', 'ironhack', 'love', 'cool'], 'term_freq': [[0, 1, 0, 1], [0, 1, 1, 0], [1, 1, 0, 0]]}\n"
     ]
    }
   ],
   "source": [
    "\n",
    "bow = get_bow_from_docs(docs, stop_words.ENGLISH_STOP_WORDS)\n",
    "\n",
    "print(bow)"
   ]
  },
  {
   "cell_type": "markdown",
   "metadata": {},
   "source": [
    "You should have seen:\n",
    "\n",
    "```{'bag_of_words': ['ironhack', 'cool', 'love', 'student'], 'term_freq': [[1, 1, 0, 0], [1, 0, 1, 0], [1, 0, 0, 1]]}```"
   ]
  }
 ],
 "metadata": {
  "kernelspec": {
   "display_name": "Python 3",
   "language": "python",
   "name": "python3"
  },
  "language_info": {
   "codemirror_mode": {
    "name": "ipython",
    "version": 3
   },
   "file_extension": ".py",
   "mimetype": "text/x-python",
   "name": "python",
   "nbconvert_exporter": "python",
   "pygments_lexer": "ipython3",
   "version": "3.8.5"
  }
 },
 "nbformat": 4,
 "nbformat_minor": 2
}
